{
    "metadata": {
        "kernelspec": {
            "name": "SQL",
            "display_name": "SQL",
            "language": "sql"
        },
        "language_info": {
            "name": "sql",
            "version": ""
        }
    },
    "nbformat_minor": 2,
    "nbformat": 4,
    "cells": [
        {
            "cell_type": "markdown",
            "source": [
                "## **<mark>RANK()</mark>**"
            ],
            "metadata": {
                "azdata_cell_guid": "5a4a39b9-0645-4e6a-8333-3a86d61f629a"
            },
            "attachments": {}
        },
        {
            "cell_type": "markdown",
            "source": [
                "Hàm RANK () là một hàm cửa sổ (window function) chỉ định thứ hạng cho mỗi hàng trong một phân vùng của tập kết quả.\n",
                "\n",
                "Các hàng trong một phân vùng có cùng giá trị sẽ nhận được cùng một thứ hạng. Xếp hạng của hàng đầu tiên trong một phân vùng là một. Hàm RANK () thêm số hàng ràng buộc vào thứ hạng bị ràng buộc để tính thứ hạng của hàng tiếp theo, do đó, các thứ hạng có thể không liên tiếp.\n",
                "\n",
                "Cú pháp:\n",
                "\n",
                "> RANK() OVER (\n",
                "> \n",
                ">     \\[PARTITION BY partition\\_expression, ... \\]\n",
                "> \n",
                ">     ORDER BY sort\\_expression \\[ASC | DESC\\], ...\n",
                "> \n",
                "> )\n",
                "\n",
                "Trong cú pháp này:\n",
                "\n",
                "- Đầu tiên, mệnh đề PARTITION BY chia các hàng của phân vùng tập kết quả mà hàm được áp dụng.\n",
                "- Thứ hai, mệnh đề ORDER BY chỉ định thứ tự sắp xếp hợp lý của các hàng trong mỗi phân vùng mà hàm được áp dụng."
            ],
            "metadata": {
                "azdata_cell_guid": "31c35c49-8a64-407b-9147-f556df1645d9"
            },
            "attachments": {}
        },
        {
            "cell_type": "code",
            "source": [
                "-- DEMO\r\n",
                "CREATE TABLE sales.rank_demo (\r\n",
                "\tv VARCHAR(10)\r\n",
                ")\r\n",
                "\r\n",
                "INSERT INTO sales.rank_demo(v)\r\n",
                "VALUES('A'),('B'),('B'),('C'),('C'),('D'),('E')"
            ],
            "metadata": {
                "azdata_cell_guid": "bb2a804a-eee7-4af5-aab6-0822148354cc",
                "language": "sql"
            },
            "outputs": [],
            "execution_count": null
        },
        {
            "cell_type": "code",
            "source": [
                "SELECT\r\n",
                "\tv,\r\n",
                "\tRANK () OVER ( \r\n",
                "\t\tORDER BY v \r\n",
                "\t) rank_no \r\n",
                "FROM\r\n",
                "\tsales.rank_demo"
            ],
            "metadata": {
                "azdata_cell_guid": "5e349355-b2da-4b0d-abe2-7d8aebcd080c",
                "tags": [],
                "language": "sql"
            },
            "outputs": [],
            "execution_count": null
        },
        {
            "cell_type": "markdown",
            "source": [
                "Ở kết quả trên, hàng thứ hai và thứ ba nhận cùng thứ hạng vì chúng có cùng giá trị B. Hàng thứ tư và thứ năm nhận thứ hạng 4 vì hàm RANK () bỏ qua thứ hạng 3 và cả hai đều có các giá trị giống nhau."
            ],
            "metadata": {
                "azdata_cell_guid": "3307257c-8ddf-4696-a1e0-85437c624969"
            },
            "attachments": {}
        },
        {
            "cell_type": "code",
            "source": [
                "-- Ví dụ sau sử dụng hàm RANK () để chỉ định cấp bậc cho các sản phẩm theo giá niêm yết của chúng:\r\n",
                "SELECT\r\n",
                "\tproduct_id,\r\n",
                "\tproduct_name,\r\n",
                "\tlist_price,\r\n",
                "\tRANK () OVER (\r\n",
                "\t\tORDER BY list_price DESC\r\n",
                "\t) price_rank \r\n",
                "FROM\r\n",
                "\tproduction.products"
            ],
            "metadata": {
                "azdata_cell_guid": "25783cdd-b821-4d5c-9a23-d61f228ca6bb",
                "language": "sql"
            },
            "outputs": [],
            "execution_count": null
        },
        {
            "cell_type": "code",
            "source": [
                "-- Ví dụ này sử dụng hàm RANK () để chỉ định thứ hạng cho từng sản phẩm theo giá niêm yết ở mỗi thương hiệu\r\n",
                "SELECT\r\n",
                "    product_id,\r\n",
                "    product_name,\r\n",
                "    brand_id,\r\n",
                "    list_price,\r\n",
                "    RANK () OVER ( \r\n",
                "        PARTITION BY brand_id\r\n",
                "        ORDER BY list_price DESC\r\n",
                "    ) price_rank \r\n",
                "FROM\r\n",
                "    production.products"
            ],
            "metadata": {
                "azdata_cell_guid": "41cfbfdb-649e-4ff7-a880-03c5316e71cd",
                "tags": [],
                "language": "sql"
            },
            "outputs": [],
            "execution_count": null
        },
        {
            "cell_type": "markdown",
            "source": [
                "## **<mark>DENSE\\_RANK()</mark>**"
            ],
            "metadata": {
                "azdata_cell_guid": "9e126032-241d-4d3d-bbf6-d69e5f16db6b"
            },
            "attachments": {}
        },
        {
            "cell_type": "markdown",
            "source": [
                "DENSE\\_RANK () là một hàm cửa sổ chỉ định thứ hạng cho mỗi hàng trong một phân vùng của tập kết quả. Không giống như hàm RANK (), hàm DENSE\\_RANK () trả về các giá trị xếp hạng liên tiếp. Các hàng trong mỗi phân vùng nhận cùng thứ hạng nếu chúng có cùng giá trị.\n",
                "\n",
                "  \n",
                "\n",
                "Cú pháp:\n",
                "\n",
                "> DENSE\\_RANK() OVER (\n",
                "> \n",
                ">     \\[PARTITION BY partition\\_expression, ... \\]\n",
                "> \n",
                ">     ORDER BY sort\\_expression \\[ASC | DESC\\], ...\n",
                "> \n",
                "> )\n",
                "\n",
                "Hàm DENSE\\_RANK () được áp dụng cho các hàng của mỗi phân vùng được xác định bởi mệnh đề PARTITION BY, theo một thứ tự xác định, được định nghĩa bởi mệnh đề ORDER BY. Nó đặt lại thứ hạng khi ranh giới phân vùng bị vượt qua.\n",
                "\n",
                "Mệnh đề PARITION BY là tùy chọn. Nếu bạn bỏ qua nó, hàm sẽ coi toàn bộ tập hợp kết quả là một phân vùng duy nhất."
            ],
            "metadata": {
                "azdata_cell_guid": "4660cde8-8715-4559-abb6-12e2f025bf4c"
            },
            "attachments": {}
        },
        {
            "cell_type": "code",
            "source": [
                "SELECT\r\n",
                "\tv,\r\n",
                "\tDENSE_RANK() OVER (\r\n",
                "\t\tORDER BY v\r\n",
                "\t) my_dense_rank,\r\n",
                "\tRANK() OVER (\r\n",
                "\t\tORDER BY v\r\n",
                "\t) my_rank\r\n",
                "FROM\r\n",
                "\tsales.rank_demo"
            ],
            "metadata": {
                "azdata_cell_guid": "282196b9-c76a-4c45-b1fe-36494d7224ad",
                "language": "sql"
            },
            "outputs": [],
            "execution_count": null
        },
        {
            "cell_type": "code",
            "source": [
                "-- Ví dụ sau sử dụng hàm DENSE_RANK () để xếp hạng sản phẩm theo giá niêm yết\r\n",
                "SELECT\r\n",
                "\tproduct_id,\r\n",
                "\tproduct_name,\r\n",
                "\tlist_price,\r\n",
                "\tDENSE_RANK () OVER ( \r\n",
                "\t\tORDER BY list_price DESC\r\n",
                "\t) price_rank \r\n",
                "FROM\r\n",
                "\tproduction.products"
            ],
            "metadata": {
                "azdata_cell_guid": "27881622-fc33-4795-9d09-bffc2fb6344d",
                "language": "sql"
            },
            "outputs": [],
            "execution_count": null
        },
        {
            "cell_type": "code",
            "source": [
                "-- Câu lệnh sau đây xếp hạng các sản phẩm trong từng danh mục theo giá niêm yết\r\n",
                "SELECT\r\n",
                "    product_id,\r\n",
                "    product_name,\r\n",
                "    category_id,\r\n",
                "    list_price,\r\n",
                "    DENSE_RANK () OVER ( \r\n",
                "        PARTITION BY category_id\r\n",
                "        ORDER BY list_price DESC\r\n",
                "    ) price_rank \r\n",
                "FROM\r\n",
                "    production.products"
            ],
            "metadata": {
                "azdata_cell_guid": "985524a5-a7f3-4c23-b964-3b14deb40eab",
                "language": "sql"
            },
            "outputs": [],
            "execution_count": null
        },
        {
            "cell_type": "markdown",
            "source": [
                "## **<mark>ROW\\_NUMBER()</mark>**"
            ],
            "metadata": {
                "azdata_cell_guid": "98860335-52c0-4e46-8121-0521f9c0bab3"
            },
            "attachments": {}
        },
        {
            "cell_type": "markdown",
            "source": [
                "<span style=\"font-size: 14px;\">ROW_NUMBER () là một hàm cửa sổ chỉ định một số nguyên tuần tự cho mỗi hàng trong phân vùng của tập kết quả. Số hàng bắt đầu bằng 1 cho hàng đầu tiên trong mỗi phân vùng.</span>\n",
                "\n",
                "<span style=\"font-size: 14px;\">Cú pháp:</span>\n",
                "\n",
                "> <span style=\"font-size: 14px;\">ROW_NUMBER() OVER (</span>\n",
                "> \n",
                ">  <span style=\"font-size: 14px;\">&nbsp; &nbsp; [PARTITION BY partition_expression, ... ]</span>\n",
                "> \n",
                ">  <span style=\"font-size: 14px;\">&nbsp; &nbsp; ORDER BY sort_expression [ASC | DESC], ...</span>\n",
                "> \n",
                "> <span style=\"font-size: 14px;\">)</span>\n",
                "\n",
                "PARTITION BY\n",
                "\n",
                "<span style=\"font-size: 14px;\">- Mệnh đề PARTITION BY chia tập hợp kết quả thành các phân vùng (một thuật ngữ khác cho các nhóm hàng). Hàm ROW_NUMBER () được áp dụng cho từng phân vùng riêng biệt và khởi động lại số hàng cho từng phân vùng.</span>\n",
                "\n",
                "<span style=\"font-size: 14px;\">- Mệnh đề PARTITION BY là tùy chọn. Nếu bạn bỏ qua, hàm ROW_NUMBER () sẽ coi toàn bộ tập hợp kết quả là một phân vùng duy nhất.</span>\n",
                "\n",
                "ORDER BY\n",
                "\n",
                "<span style=\"font-size: 14px;\">-&nbsp;</span> Mệnh đề ORDER BY xác định thứ tự logic của các hàng trong mỗi phân vùng của tập kết quả. Mệnh đề ORDER BY là bắt buộc vì hàm ROW\\_NUMBER () nhạy cảm với thứ tự."
            ],
            "metadata": {
                "azdata_cell_guid": "0c7effdb-3d12-4814-bb0a-9f52c8383b39"
            },
            "attachments": {}
        },
        {
            "cell_type": "code",
            "source": [
                "SELECT\r\n",
                "\tv,\r\n",
                "\tDENSE_RANK() OVER (\r\n",
                "\t\tORDER BY v\r\n",
                "\t) my_dense_rank,\r\n",
                "\tRANK() OVER (\r\n",
                "\t\tORDER BY v\r\n",
                "\t) my_rank,\r\n",
                "    ROW_NUMBER() OVER (\r\n",
                "        ORDER BY v\r\n",
                "    ) my_row_number\r\n",
                "FROM\r\n",
                "\tsales.rank_demo"
            ],
            "metadata": {
                "azdata_cell_guid": "741d30e3-76d0-4b67-8eed-85a0a19c4fe3",
                "language": "sql"
            },
            "outputs": [],
            "execution_count": null
        },
        {
            "cell_type": "code",
            "source": [
                "SELECT\r\n",
                "\tv,\r\n",
                "\tDENSE_RANK() OVER (\r\n",
                "\t\tORDER BY v\r\n",
                "\t) my_dense_rank,\r\n",
                "\tRANK() OVER (\r\n",
                "\t\tORDER BY v\r\n",
                "\t) my_rank,\r\n",
                "    ROW_NUMBER() OVER (\r\n",
                "        PARTITION BY v\r\n",
                "        ORDER BY v\r\n",
                "    ) my_row_number\r\n",
                "FROM\r\n",
                "\tsales.rank_demo"
            ],
            "metadata": {
                "azdata_cell_guid": "50ea5191-0e7f-4d21-959b-bdb1622e30e8",
                "tags": [],
                "language": "sql"
            },
            "outputs": [],
            "execution_count": null
        },
        {
            "cell_type": "code",
            "source": [
                "-- Ví dụ sau sử dụng hàm ROW_NUMBER () để gán một số nguyên tuần tự cho mỗi khách hàng. Nó đặt lại số khi thành phố thay đổi:\r\n",
                "SELECT \r\n",
                "   first_name, \r\n",
                "   last_name, \r\n",
                "   city,\r\n",
                "   ROW_NUMBER() OVER (\r\n",
                "      PARTITION BY city\r\n",
                "      ORDER BY first_name\r\n",
                "   ) row_num\r\n",
                "FROM \r\n",
                "   sales.customers\r\n",
                "ORDER BY \r\n",
                "   city"
            ],
            "metadata": {
                "azdata_cell_guid": "12707f74-e6ed-4ed3-a266-118b41af5026",
                "language": "sql"
            },
            "outputs": [],
            "execution_count": null
        },
        {
            "cell_type": "markdown",
            "source": [
                "## **<mark>LAG()</mark>**"
            ],
            "metadata": {
                "azdata_cell_guid": "eb9ee8dd-1219-45c7-9801-13b2f92c69ff"
            },
            "attachments": {}
        },
        {
            "cell_type": "markdown",
            "source": [
                "<span style=\"font-size: 14px;\">LAG () là một hàm cửa sổ cung cấp quyền truy cập vào một hàng tại một khoảng chênh lệch vật lý được chỉ định đứng trước hàng hiện tại.</span>\n",
                "\n",
                "<span style=\"font-size: 14px;\">Nói cách khác, bằng cách sử dụng hàm LAG (), từ hàng hiện tại, bạn có thể truy cập dữ liệu của hàng trước hoặc hàng trước hàng trước, v.v.</span>\n",
                "\n",
                "<span style=\"font-size: 14px;\">Hàm LAG () có thể rất hữu ích để so sánh giá trị của hàng hiện tại với giá trị của hàng trước đó.</span>\n",
                "\n",
                "Cú pháp:\n",
                "\n",
                "> <span style=\"font-size: 14px;\">LAG(return_value ,offset [,default])&nbsp;</span> \n",
                "> \n",
                "> <span style=\"font-size: 14px;\">OVER (</span>\n",
                "> \n",
                ">  <span style=\"font-size: 14px;\">&nbsp; &nbsp; [PARTITION BY partition_expression, ... ]</span>\n",
                "> \n",
                ">  <span style=\"font-size: 14px;\">&nbsp; &nbsp; ORDER BY sort_expression [ASC | DESC], ...</span>\n",
                "> \n",
                "> <span style=\"font-size: 14px;\">)</span>\n",
                "\n",
                "<span style=\"font-size: 14px;\">Trong cú pháp này:</span>\n",
                "\n",
                "- return\\_value: Giá trị trả về của hàng trước đó dựa trên độ lệch được chỉ định. Giá trị trả về phải đánh giá thành một giá trị duy nhất và không thể là một hàm cửa sổ khác.\n",
                "- offset: Số hàng trở lại từ hàng hiện tại để truy cập dữ liệu. offset có thể là một biểu thức, truy vấn con hoặc cột được đánh giá là một số nguyên dương. Giá trị mặc định của offset là 1 nếu bạn không chỉ định nó một cách rõ ràng.\n",
                "- default: Giá trị mặc định là giá trị được trả về nếu offset vượt ra ngoài phạm vi của phân vùng. Nó mặc định là NULL nếu nó không được chỉ định.\n",
                "- PARTITION BY: Mệnh đề PARTITION BY phân phối các hàng của tập kết quả thành các phân vùng mà hàm LAG () được áp dụng. Nếu bạn bỏ qua mệnh đề PARTITION BY, hàm sẽ coi toàn bộ tập hợp kết quả là một phân vùng duy nhất.\n",
                "- ORDER BY: Mệnh đề ORDER BY chỉ định thứ tự logic của các hàng trong mỗi phân vùng mà hàm LAG () được áp dụng."
            ],
            "metadata": {
                "azdata_cell_guid": "2eaebd98-4b5a-4ee6-812b-25116c353357"
            },
            "attachments": {}
        },
        {
            "cell_type": "code",
            "source": [
                "SELECT\r\n",
                "\tYEAR(o.[order_date]) AS [Year]\r\n",
                "\t,MONTH(o.[order_date]) AS [Month]\r\n",
                "\t,b.[brand_name] AS [BrandName]\r\n",
                "\t,SUM(oi.[quantity] * oi.[list_price] * (1 - oi.[discount])) AS [NetSales]\r\n",
                "FROM [sales].[order_items] oi\r\n",
                "LEFT JOIN [sales].[orders] o\r\n",
                "\tON oi.[order_id] = o.[order_id]\r\n",
                "LEFT JOIN [production].[products] p\r\n",
                "\tON oi.[product_id] = p.[product_id]\r\n",
                "LEFT JOIN [production].[brands] b\r\n",
                "\tON p.[brand_id] = b.[brand_id]\r\n",
                "GROUP BY \r\n",
                "\tYEAR(o.[order_date])\r\n",
                "\t,MONTH(o.[order_date])\r\n",
                "\t,b.[brand_name]\r\n",
                "ORDER BY [Year], [Month], [BrandName]"
            ],
            "metadata": {
                "azdata_cell_guid": "f3a01b8e-af69-4698-b82c-e49446fb2a97",
                "language": "sql"
            },
            "outputs": [],
            "execution_count": null
        },
        {
            "cell_type": "code",
            "source": [
                "WITH cte_netsales\r\n",
                "AS\r\n",
                "(\r\n",
                "    SELECT\r\n",
                "        YEAR(o.[order_date]) AS [Year]\r\n",
                "        ,MONTH(o.[order_date]) AS [Month]\r\n",
                "        ,b.[brand_name] AS [BrandName]\r\n",
                "        ,SUM(oi.[quantity] * oi.[list_price] * (1 - oi.[discount])) AS [NetSales]\r\n",
                "    FROM [sales].[order_items] oi\r\n",
                "    LEFT JOIN [sales].[orders] o\r\n",
                "        ON oi.[order_id] = o.[order_id]\r\n",
                "    LEFT JOIN [production].[products] p\r\n",
                "        ON oi.[product_id] = p.[product_id]\r\n",
                "    LEFT JOIN [production].[brands] b\r\n",
                "        ON p.[brand_id] = b.[brand_id]\r\n",
                "    GROUP BY \r\n",
                "        YEAR(o.[order_date])\r\n",
                "        ,MONTH(o.[order_date])\r\n",
                "        ,b.[brand_name]\r\n",
                ")\r\n",
                ",cte_netsales_2018 \r\n",
                "AS(\r\n",
                "\tSELECT \r\n",
                "\t\t[Month]\r\n",
                "        ,SUM([NetSales]) AS [MonthNetSales]\r\n",
                "\tFROM \r\n",
                "\t\tcte_netsales\r\n",
                "\tWHERE \r\n",
                "\t\t[Year] = 2018\r\n",
                "\tGROUP BY \r\n",
                "\t\t[Month]\r\n",
                ")\r\n",
                "SELECT \r\n",
                "\t[Month],\r\n",
                "\t[MonthNetSales],\r\n",
                "\tLAG([MonthNetSales], 1) OVER (\r\n",
                "\t\tORDER BY [Month]\r\n",
                "\t) [PreviousMonthNetSales]\r\n",
                "FROM cte_netsales_2018"
            ],
            "metadata": {
                "azdata_cell_guid": "fc246784-ab37-492d-ad14-2165a09d9e9b",
                "language": "sql"
            },
            "outputs": [],
            "execution_count": null
        },
        {
            "cell_type": "code",
            "source": [
                "WITH cte_netsales\r\n",
                "AS\r\n",
                "(\r\n",
                "    SELECT\r\n",
                "        YEAR(o.[order_date]) AS [Year]\r\n",
                "        ,MONTH(o.[order_date]) AS [Month]\r\n",
                "        ,b.[brand_name] AS [BrandName]\r\n",
                "        ,SUM(oi.[quantity] * oi.[list_price] * (1 - oi.[discount])) AS [NetSales]\r\n",
                "    FROM [sales].[order_items] oi\r\n",
                "    LEFT JOIN [sales].[orders] o\r\n",
                "        ON oi.[order_id] = o.[order_id]\r\n",
                "    LEFT JOIN [production].[products] p\r\n",
                "        ON oi.[product_id] = p.[product_id]\r\n",
                "    LEFT JOIN [production].[brands] b\r\n",
                "        ON p.[brand_id] = b.[brand_id]\r\n",
                "    GROUP BY \r\n",
                "        YEAR(o.[order_date])\r\n",
                "        ,MONTH(o.[order_date])\r\n",
                "        ,b.[brand_name]\r\n",
                ")\r\n",
                "SELECT \r\n",
                "\t[Month],\r\n",
                "\t[BrandName],\r\n",
                "\t[NetSales] AS [MonthNetSales],\r\n",
                "\tLAG([NetSales], 1) OVER (\r\n",
                "\t\tPARTITION BY [BrandName]\r\n",
                "\t\tORDER BY [Month]\r\n",
                "\t) [PreviousMonthNetSales]\r\n",
                "FROM cte_netsales\r\n",
                "WHERE\r\n",
                "\t[Year] = 2018"
            ],
            "metadata": {
                "azdata_cell_guid": "a9ca0f98-a1e7-464f-8039-684344b3bcdc",
                "language": "sql"
            },
            "outputs": [],
            "execution_count": null
        },
        {
            "cell_type": "markdown",
            "source": [
                "## **<mark>LEAD()</mark>**"
            ],
            "metadata": {
                "azdata_cell_guid": "9b577ba6-1cb5-4072-a8ef-80f4885dd40c"
            },
            "attachments": {}
        },
        {
            "cell_type": "markdown",
            "source": [
                "<span style=\"font-size: 14px;\">LEAD () là một hàm cửa sổ cung cấp quyền truy cập vào một hàng tại một khoảng chênh lệch vật lý được chỉ định theo sau hàng hiện tại.</span>\n",
                "\n",
                "<span style=\"font-size: 14px;\">Ví dụ: bằng cách sử dụng hàm LEAD (), từ hàng hiện tại, bạn có thể truy cập dữ liệu của hàng tiếp theo hoặc hàng sau hàng tiếp theo, v.v.</span>\n",
                "\n",
                "<span style=\"font-size: 14px;\">Hàm LEAD () có thể rất hữu ích để so sánh giá trị của hàng hiện tại với giá trị của hàng sau.</span>\n",
                "\n",
                "<span style=\"font-size: 14px;\">Cú pháp:</span>\n",
                "\n",
                "> <span style=\"font-size: 14px;\">LEAD(return_value ,offset [,default])&nbsp;</span> \n",
                "> \n",
                "> <span style=\"font-size: 14px;\">OVER (</span>\n",
                "> \n",
                ">  <span style=\"font-size: 14px;\">&nbsp; &nbsp; [PARTITION BY partition_expression, ... ]</span>\n",
                "> \n",
                ">  <span style=\"font-size: 14px;\">&nbsp; &nbsp; ORDER BY sort_expression [ASC | DESC], ...</span>\n",
                "> \n",
                "> <span style=\"font-size: 14px;\">)</span>"
            ],
            "metadata": {
                "azdata_cell_guid": "7080336c-cfb6-46c0-928f-0b2635988e28"
            },
            "attachments": {}
        },
        {
            "cell_type": "code",
            "source": [
                "WITH cte_netsales\r\n",
                "AS\r\n",
                "(\r\n",
                "    SELECT\r\n",
                "        YEAR(o.[order_date]) AS [Year]\r\n",
                "        ,MONTH(o.[order_date]) AS [Month]\r\n",
                "        ,b.[brand_name] AS [BrandName]\r\n",
                "        ,SUM(oi.[quantity] * oi.[list_price] * (1 - oi.[discount])) AS [NetSales]\r\n",
                "    FROM [sales].[order_items] oi\r\n",
                "    LEFT JOIN [sales].[orders] o\r\n",
                "        ON oi.[order_id] = o.[order_id]\r\n",
                "    LEFT JOIN [production].[products] p\r\n",
                "        ON oi.[product_id] = p.[product_id]\r\n",
                "    LEFT JOIN [production].[brands] b\r\n",
                "        ON p.[brand_id] = b.[brand_id]\r\n",
                "    GROUP BY \r\n",
                "        YEAR(o.[order_date])\r\n",
                "        ,MONTH(o.[order_date])\r\n",
                "        ,b.[brand_name]\r\n",
                ")\r\n",
                ",cte_netsales_2017\r\n",
                "AS(\r\n",
                "\tSELECT \r\n",
                "\t\t[Month]\r\n",
                "        ,SUM([NetSales]) AS [MonthNetSales]\r\n",
                "\tFROM \r\n",
                "\t\tcte_netsales\r\n",
                "\tWHERE \r\n",
                "\t\t[Year] = 2017\r\n",
                "\tGROUP BY \r\n",
                "\t\t[Month]\r\n",
                ")\r\n",
                "SELECT \r\n",
                "\t[Month],\r\n",
                "\t[MonthNetSales],\r\n",
                "\tLEAD([MonthNetSales], 1) OVER (\r\n",
                "\t\tORDER BY [Month]\r\n",
                "\t) [PreviousMonthNetSales]\r\n",
                "FROM cte_netsales_2017"
            ],
            "metadata": {
                "azdata_cell_guid": "1b77e39f-34e6-4e2e-9961-b6b11e783e85",
                "language": "sql"
            },
            "outputs": [],
            "execution_count": null
        },
        {
            "cell_type": "code",
            "source": [
                "WITH cte_netsales\r\n",
                "AS\r\n",
                "(\r\n",
                "    SELECT\r\n",
                "        YEAR(o.[order_date]) AS [Year]\r\n",
                "        ,MONTH(o.[order_date]) AS [Month]\r\n",
                "        ,b.[brand_name] AS [BrandName]\r\n",
                "        ,SUM(oi.[quantity] * oi.[list_price] * (1 - oi.[discount])) AS [NetSales]\r\n",
                "    FROM [sales].[order_items] oi\r\n",
                "    LEFT JOIN [sales].[orders] o\r\n",
                "        ON oi.[order_id] = o.[order_id]\r\n",
                "    LEFT JOIN [production].[products] p\r\n",
                "        ON oi.[product_id] = p.[product_id]\r\n",
                "    LEFT JOIN [production].[brands] b\r\n",
                "        ON p.[brand_id] = b.[brand_id]\r\n",
                "    GROUP BY \r\n",
                "        YEAR(o.[order_date])\r\n",
                "        ,MONTH(o.[order_date])\r\n",
                "        ,b.[brand_name]\r\n",
                ")\r\n",
                "SELECT \r\n",
                "\t[Month],\r\n",
                "\t[BrandName],\r\n",
                "\t[NetSales] AS [MonthNetSales],\r\n",
                "\tLEAD([NetSales], 1) OVER (\r\n",
                "\t\tPARTITION BY [BrandName]\r\n",
                "\t\tORDER BY [Month]\r\n",
                "\t) [PreviousMonthNetSales]\r\n",
                "FROM cte_netsales\r\n",
                "WHERE\r\n",
                "\t[Year] = 2017"
            ],
            "metadata": {
                "azdata_cell_guid": "f987791f-60c0-4288-9278-f2d0d5e1fa65",
                "language": "sql"
            },
            "outputs": [],
            "execution_count": null
        }
    ]
}