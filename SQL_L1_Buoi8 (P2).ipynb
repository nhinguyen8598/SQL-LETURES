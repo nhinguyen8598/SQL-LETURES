{
    "metadata": {
        "kernelspec": {
            "name": "SQL",
            "display_name": "SQL",
            "language": "sql"
        },
        "language_info": {
            "name": "sql",
            "version": ""
        }
    },
    "nbformat_minor": 2,
    "nbformat": 4,
    "cells": [
        {
            "cell_type": "markdown",
            "source": [
                "## **<mark>PRIMARY KEY</mark>**"
            ],
            "metadata": {
                "azdata_cell_guid": "12c223e2-988e-47fc-8d9f-3b88b2809633"
            },
            "attachments": {}
        },
        {
            "cell_type": "markdown",
            "source": [
                "Khóa chính là một cột hoặc một nhóm cột xác định duy nhất mỗi hàng trong bảng. Bạn tạo khóa chính cho bảng bằng cách sử dụng ràng buộc KHÓA CHÍNH.\n",
                "\n",
                "Nếu khóa chính chỉ bao gồm một cột, bạn có thể xác định bằng cách sử dụng ràng buộc **PRIMARY KEY** làm ràng buộc cột:\n",
                "\n",
                "> <span style=\"color: #0000ff;\">CREATE</span> <span style=\"color: #0000ff;\">TABLE</span> table\\_name (\n",
                "> \n",
                ">     pk\\_column data\\_type <span style=\"color: #0000ff;\">PRIMARY</span> <span style=\"color: #0000ff;\">KEY</span>,\n",
                "> \n",
                ">     ...\n",
                "> \n",
                "> )"
            ],
            "metadata": {
                "azdata_cell_guid": "71b09eba-c924-44df-9d23-12929e2e1955"
            },
            "attachments": {}
        },
        {
            "cell_type": "markdown",
            "source": [
                "Trong trường hợp khóa chính có hai hoặc nhiều cột, bạn phải sử dụng ràng buộc KHÓA CHÍNH làm ràng buộc bảng:\n",
                "\n",
                "> <span style=\"color: #0000ff;\">CREATE</span> <span style=\"color: #0000ff;\">TABLE</span> table\\_name (\n",
                "> \n",
                ">     pk\\_column\\_1 data\\_type,\n",
                "> \n",
                ">     pk\\_column\\_2 <span style=\"color: #0000ff;\">data</span> <span style=\"color: #0000ff;\">type</span>,\n",
                "> \n",
                ">     ...\n",
                "> \n",
                ">     <span style=\"color: #0000ff;\">PRIMARY</span> <span style=\"color: #0000ff;\">KEY</span> (pk\\_column\\_1, pk\\_column\\_2)\n",
                "> \n",
                "> )"
            ],
            "metadata": {
                "azdata_cell_guid": "d73db564-6163-49ad-9b2d-894a46d50f6f"
            },
            "attachments": {}
        },
        {
            "cell_type": "markdown",
            "source": [
                "Lưu ý\n",
                "\n",
                "- <mark>Mỗi bảng chỉ có thể chứa một khóa chính.</mark> \n",
                "- <mark>Tất cả các cột tham gia vào khóa chính phải được định nghĩa là NOT NULL. SQL Server tự động đặt ràng buộc NOT NULL cho tất cả các cột khóa chính nếu ràng buộc NOT NULL không được chỉ định cho các cột này.</mark>\n",
                "\n",
                "SQL Server cũng tự động tạo chỉ mục nhóm duy nhất (unique clustered index) (hoặc chỉ mục không phân cụm (non-clustered index) nếu được chỉ định như vậy) khi bạn tạo khóa chính."
            ],
            "metadata": {
                "azdata_cell_guid": "a6167e35-42df-443e-b2e8-e87e67090f1d"
            },
            "attachments": {}
        },
        {
            "cell_type": "markdown",
            "source": [
                "Ví dụ"
            ],
            "metadata": {
                "azdata_cell_guid": "95c1f836-d659-4788-b73d-d5fd71d2f438"
            },
            "attachments": {}
        },
        {
            "cell_type": "code",
            "source": [
                "-- Ví dụ sau tạo một bảng có khóa chính bao gồm một cột:\r\n",
                "CREATE TABLE sales.activities (\r\n",
                "    activity_id INT PRIMARY KEY IDENTITY,\r\n",
                "    activity_name VARCHAR (255) NOT NULL,\r\n",
                "    activity_date DATE NOT NULL\r\n",
                ")\r\n",
                "\r\n",
                "-- Hoặc\r\n",
                "CREATE TABLE sales.activities1 (\r\n",
                "    activity_id INT IDENTITY,\r\n",
                "    activity_name VARCHAR (255) NOT NULL,\r\n",
                "    activity_date DATE NOT NULL,\r\n",
                "    CONSTRAINT PK_activities PRIMARY KEY (activity_id)\r\n",
                ")"
            ],
            "metadata": {
                "azdata_cell_guid": "0e198416-d2c8-4557-a574-639c47de9516",
                "tags": [],
                "language": "sql"
            },
            "outputs": [
                {
                    "output_type": "display_data",
                    "data": {
                        "text/html": "Commands completed successfully."
                    },
                    "metadata": {}
                },
                {
                    "output_type": "display_data",
                    "data": {
                        "text/html": "Total execution time: 00:00:00.028"
                    },
                    "metadata": {}
                }
            ],
            "execution_count": 1
        },
        {
            "cell_type": "code",
            "source": [
                "-- Trong ví dụ này, các giá trị trong cột activity_id hoặc customer_id có thể trùng lặp, nhưng mỗi kết hợp giá trị từ cả hai cột phải là duy nhất.\r\n",
                "CREATE TABLE sales.participants(\r\n",
                "    activity_id int,\r\n",
                "    customer_id int,\r\n",
                "    PRIMARY KEY(activity_id, customer_id)\r\n",
                ")\r\n",
                "\r\n",
                "-- Hoặc\r\n",
                "CREATE TABLE sales.participants (\r\n",
                "    activity_id INT IDENTITY,\r\n",
                "    activity_name VARCHAR (255) NOT NULL,\r\n",
                "    activity_date DATE NOT NULL,\r\n",
                "    CONSTRAINT PK_participants PRIMARY KEY(activity_id, customer_id)\r\n",
                ")"
            ],
            "metadata": {
                "azdata_cell_guid": "ff7d5503-ee17-4f14-aa67-20b8809236c9",
                "language": "sql"
            },
            "outputs": [],
            "execution_count": null
        },
        {
            "cell_type": "code",
            "source": [
                "-- Câu lệnh sau tạo một bảng không có khóa chính:\r\n",
                "CREATE TABLE sales.events(\r\n",
                "    event_id INT NOT NULL,\r\n",
                "    event_name VARCHAR(255),\r\n",
                "    start_date DATE NOT NULL,\r\n",
                "    duration DEC(5,2)\r\n",
                ")"
            ],
            "metadata": {
                "azdata_cell_guid": "5b2791b0-f3b7-4183-a8fc-6b1dc8525b4e",
                "tags": [],
                "language": "sql"
            },
            "outputs": [],
            "execution_count": null
        },
        {
            "cell_type": "code",
            "source": [
                "-- Để đặt cột event_id làm khóa chính, bạn sử dụng câu lệnh ALTER TABLE và ADD sau:\r\n",
                "ALTER TABLE sales.events \r\n",
                "ADD PRIMARY KEY(event_id)\r\n",
                "\r\n",
                "-- Hoặc\r\n",
                "ALTER TABLE sales.events\r\n",
                "ADD CONSTRAINT PK_events PRIMARY KEY (event_id)"
            ],
            "metadata": {
                "azdata_cell_guid": "e7f37df3-bf6a-4d1f-a3ed-1a07aba66771",
                "language": "sql"
            },
            "outputs": [],
            "execution_count": null
        },
        {
            "cell_type": "code",
            "source": [
                "-- Để xóa khóa chính, bạn sử dụng câu lệnh ALTER TABLE và DROP sau:\r\n",
                "ALTER TABLE sales.events\r\n",
                "DROP PRIMARY KEY\r\n",
                "\r\n",
                "-- Hoặc\r\n",
                "ALTER TABLE sales.events\r\n",
                "DROP CONSTRAINT PK_events"
            ],
            "metadata": {
                "azdata_cell_guid": "01bef3df-3c18-438b-8968-98e17c526188",
                "tags": [],
                "language": "sql"
            },
            "outputs": [],
            "execution_count": null
        },
        {
            "cell_type": "markdown",
            "source": [
                "## **<mark>FOREIGN KEY</mark>**"
            ],
            "metadata": {
                "azdata_cell_guid": "a04c4cba-6e31-4920-b116-0eab8a8c42ce"
            },
            "attachments": {}
        },
        {
            "cell_type": "code",
            "source": [
                "CREATE SCHEMA procurement\r\n",
                "GO"
            ],
            "metadata": {
                "azdata_cell_guid": "2f6e8745-0333-4487-acdc-f591a6dbae7f",
                "language": "sql"
            },
            "outputs": [],
            "execution_count": null
        },
        {
            "cell_type": "code",
            "source": [
                "CREATE TABLE procurement.vendor_groups (\r\n",
                "    group_id INT IDENTITY PRIMARY KEY,\r\n",
                "    group_name VARCHAR (100) NOT NULL\r\n",
                ")\r\n",
                "\r\n",
                "CREATE TABLE procurement.vendors (\r\n",
                "        vendor_id INT IDENTITY PRIMARY KEY,\r\n",
                "        vendor_name VARCHAR(100) NOT NULL,\r\n",
                "        group_id INT NOT NULL,\r\n",
                ")"
            ],
            "metadata": {
                "azdata_cell_guid": "186ccfa1-bb12-40b5-9ff9-90e7255598ca",
                "language": "sql"
            },
            "outputs": [],
            "execution_count": null
        },
        {
            "cell_type": "markdown",
            "source": [
                "Mỗi nhà cung cấp thuộc một nhóm nhà cung cấp và mỗi nhóm nhà cung cấp có thể có không hoặc nhiều nhà cung cấp. Mối quan hệ giữa các bảng nhà cung cấp và nhóm nhà cung cấp là một-nhiều (one-to-many)\n",
                "\n",
                "Đối với mỗi hàng trong bảng nhà cung cấp, bạn luôn có thể tìm thấy một hàng tương ứng trong bảng nhóm nhà cung cấp.\n",
                "\n",
                "Tuy nhiên, với thiết lập bảng hiện tại, bạn có thể chèn một hàng vào bảng nhà cung cấp mà không có hàng tương ứng trong bảng nhà cung cấp. Tương tự, bạn cũng có thể xóa một hàng trong bảng nhà cung cấp mà không cần cập nhật hoặc xóa các hàng tương ứng trong bảng nhà cung cấp dẫn đến các hàng bị tách biệt trong bảng nhà cung cấp.\n",
                "\n",
                "Để thực thi liên kết giữa dữ liệu trong bảng nhà cung cấp và nhóm nhà cung cấp, bạn cần thiết lập khóa ngoại trong bảng nhà cung cấp.\n",
                "\n",
                "<mark>Khóa ngoại (**FOREIGN KEY**) là một cột hoặc một nhóm cột trong một bảng xác định duy nhất một hàng của bảng khác (hoặc cùng một bảng trong trường hợp tự tham chiếu).</mark>"
            ],
            "metadata": {
                "azdata_cell_guid": "f9646d3e-735f-4cad-94ca-c375a10e2617"
            },
            "attachments": {}
        },
        {
            "cell_type": "code",
            "source": [
                "DROP TABLE vendors\r\n",
                "\r\n",
                "CREATE TABLE procurement.vendors (\r\n",
                "        vendor_id INT IDENTITY PRIMARY KEY,\r\n",
                "        vendor_name VARCHAR(100) NOT NULL,\r\n",
                "        group_id INT NOT NULL,\r\n",
                "        CONSTRAINT FK_vendors FOREIGN KEY (group_id) \r\n",
                "        REFERENCES procurement.vendor_groups(group_id)\r\n",
                ")"
            ],
            "metadata": {
                "azdata_cell_guid": "f3f22f87-94c4-4240-b324-b8de91cd8f0f",
                "language": "sql"
            },
            "outputs": [],
            "execution_count": null
        },
        {
            "cell_type": "markdown",
            "source": [
                "Cú pháp chung để tạo ràng buộc NGOẠI KHÓA như sau:\n",
                "\n",
                "> CONSTRAINT fk\\_constraint\\_name \n",
                "> \n",
                "> FOREIGN KEY (column\\_1, column2,...)\n",
                "> \n",
                "> REFERENCES parent\\_table\\_name(column1,column2,..)\n",
                "\n",
                "Hoặc:\n",
                "\n",
                "> FOREIGN KEY (column\\_1, column2,...)\n",
                "> \n",
                "> REFERENCES parent\\_table\\_name(column1,column2,..)"
            ],
            "metadata": {
                "azdata_cell_guid": "521a2ebe-7220-4061-a703-4aa14c3846d0"
            },
            "attachments": {}
        },
        {
            "cell_type": "markdown",
            "source": [
                "Ví dụ:"
            ],
            "metadata": {
                "azdata_cell_guid": "620fa323-90c3-4527-81f3-afea8003d7c0"
            },
            "attachments": {}
        },
        {
            "cell_type": "code",
            "source": [
                "-- Đầu tiên, hãy chèn một số hàng vào bảng vendor_groups:\r\n",
                "INSERT INTO procurement.vendor_groups(group_name)\r\n",
                "VALUES('Third-Party Vendors'),\r\n",
                "      ('Interco Vendors'),\r\n",
                "      ('One-time Vendors')"
            ],
            "metadata": {
                "azdata_cell_guid": "4fdd1952-3cef-4075-9698-fdf94a63f2c8",
                "language": "sql"
            },
            "outputs": [],
            "execution_count": null
        },
        {
            "cell_type": "code",
            "source": [
                "--Thứ hai, chèn một nhà cung cấp mới với một nhóm nhà cung cấp vào bảng vendors:\r\n",
                "INSERT INTO procurement.vendors(vendor_name, group_id)\r\n",
                "VALUES('ABC Corp',1)"
            ],
            "metadata": {
                "azdata_cell_guid": "2de9982c-95b1-471d-9543-b7af00b295bd",
                "language": "sql"
            },
            "outputs": [],
            "execution_count": null
        },
        {
            "cell_type": "code",
            "source": [
                "--Thứ ba, cố gắng chèn một nhà cung cấp mới có nhóm nhà cung cấp không tồn tại trong bảng vendor_groups:\r\n",
                "INSERT INTO procurement.vendors(vendor_name, group_id)\r\n",
                "VALUES('XYZ Corp'4,)"
            ],
            "metadata": {
                "azdata_cell_guid": "ada1c463-d040-41b3-938c-c44260f219cc",
                "tags": [],
                "language": "sql"
            },
            "outputs": [],
            "execution_count": null
        },
        {
            "cell_type": "markdown",
            "source": [
                "Thêm sau khi đã tạo bảng và xóa FOREIGN KEY:\n",
                "\n",
                "- Thêm FOREIGN KEY sau khi đã tạo bảng\n",
                "\n",
                "> ALTER TABLE child\\_table\\_name\n",
                "> \n",
                "> ADD CONSTRAINT fk\\_constraint\\_name \n",
                "> \n",
                "> FOREIGN KEY (column\\_1, column2,...) REFERENCES parent\\_table\\_name(column1,column2,..)\n",
                "\n",
                "hoặc\n",
                "\n",
                "> ALTER TABLE child\\_table\\_name\n",
                "> \n",
                "> ADD FOREIGN KEY (column\\_1, column2,...) REFERENCES parent\\_table\\_name(column1,column2,..)\n",
                "\n",
                "- Xóa FOREIGN KEY\n",
                "\n",
                "> ALTER TABLE child\\_table\\_name\n",
                "> \n",
                "> DROP CONSTRAINT fk\\_constraint\\_name\n",
                "\n",
                "hoặc\n",
                "\n",
                "> ALTER TABLE child\\_table\\_name\n",
                "> \n",
                "> DROP FOREIGN KEY <mark>fk\\_default\\_constraint\\_name</mark>"
            ],
            "metadata": {
                "azdata_cell_guid": "968a14a4-48ca-4a43-980b-736f60d56215"
            },
            "attachments": {}
        },
        {
            "cell_type": "markdown",
            "source": [
                "**<mark>Hành động tham chiếu (Referential actions)</mark>**"
            ],
            "metadata": {
                "azdata_cell_guid": "5783a5c6-546a-41be-ba9c-84e312440336"
            },
            "attachments": {}
        },
        {
            "cell_type": "markdown",
            "source": [
                "Ràng buộc khóa ngoại đảm bảo tính toàn vẹn của tham chiếu. Nó có nghĩa là bạn chỉ có thể chèn một hàng vào bảng con nếu có một hàng tương ứng trong bảng mẹ.\n",
                "\n",
                "Bên cạnh đó, ràng buộc khóa ngoại cho phép bạn xác định các hành động tham chiếu khi hàng trong bảng mẹ được cập nhật hoặc xóa như sau:\n",
                "\n",
                "> FOREIGN KEY (foreign\\_key\\_columns)\n",
                "> \n",
                ">     REFERENCES parent\\_table(parent\\_key\\_columns)\n",
                "> \n",
                ">     ON UPDATE action \n",
                "> \n",
                ">     ON DELETE action\n",
                "\n",
                "<u>Hành động xóa dòng trên bảng parent:</u>\n",
                "\n",
                "- <mark>ON DELETE NO ACTION</mark>: SQL Server phát sinh lỗi và khôi phục hành động xóa trên hàng trong bảng parent.\n",
                "- <mark>ON DELETE CASCADE:</mark> SQL Server xóa các hàng trong bảng child tương ứng với hàng đã xóa khỏi bảng parent.\n",
                "- <mark>ON DELETE SET NULL:</mark> SQL Server đặt các hàng trong bảng child thành NULL nếu các hàng tương ứng trong bảng parent bị xóa. Để thực hiện hành động này, các cột khóa ngoại phải không có giá trị.\n",
                "- <mark>ON DELETE SET DEFAULT</mark> SQL Server đặt các hàng trong bảng child thành giá trị mặc định của chúng nếu các hàng tương ứng trong bảng parent bị xóa. Để thực hiện hành động này, các cột khóa ngoại phải có định nghĩa mặc định. Lưu ý rằng cột nullable có giá trị mặc định là NULL nếu không có giá trị mặc định nào được chỉ định.\n",
                "\n",
                "<mark>Theo mặc định, SQL Server áp dụng ON DELETE NO ACTION nếu bạn không chỉ định rõ ràng bất kỳ hành động nào.</mark>\n",
                "\n",
                "<u>Hành động cập nhật dòng trên bảng parent:</u><mark>  \n",
                "</mark>\n",
                "\n",
                "- <mark>ON UPDATE NO ACTION</mark>: SQL Server phát sinh lỗi và khôi phục hành động cập nhật trên hàng trong bảng parent.\n",
                "- <mark>ON UPDATE CASCADE</mark>: SQL Server cập nhật các hàng tương ứng trong bảng child khi các hàng trong bảng parent được cập nhật.\n",
                "- <mark>ON UPDATE SET NUL</mark>L: SQL Server đặt các hàng trong bảng child thành NULL khi hàng tương ứng trong bảng parent được cập nhật. Lưu ý rằng các cột khóa ngoại phải có giá trị rỗng để hành động này thực thi.\n",
                "- <mark>ON UPDATE SET DEFAULT</mark>: SQL Server đặt giá trị mặc định cho các hàng trong bảng child có các hàng tương ứng trong bảng parent được cập nhật.\n",
                "\n",
                "<span style=\"color:rgb(0, 0, 0);background-color:rgb(255, 255, 0);\">Theo mặc định, SQL Server áp dụng ON UPDATE NO ACTION nếu bạn không chỉ định rõ ràng bất kỳ hành động nào.</span>"
            ],
            "metadata": {
                "azdata_cell_guid": "fcaeab05-975d-4730-affc-ba7b2df26b61"
            },
            "attachments": {}
        },
        {
            "cell_type": "markdown",
            "source": [
                "## **<mark>CHECK</mark>**"
            ],
            "metadata": {
                "azdata_cell_guid": "982c59bb-42a6-4534-b3e0-8d05b8e686f4"
            },
            "attachments": {}
        },
        {
            "cell_type": "markdown",
            "source": [
                "Ràng buộc <mark>CHECK</mark> cho phép bạn chỉ định các giá trị trong cột phải thỏa mãn biểu thức Boolean"
            ],
            "metadata": {
                "azdata_cell_guid": "928f5faf-868f-41b8-925d-2fc5e41109be"
            },
            "attachments": {}
        },
        {
            "cell_type": "code",
            "source": [
                "CREATE SCHEMA test\r\n",
                "GO\r\n",
                "\r\n",
                "CREATE TABLE test.products(\r\n",
                "    product_id INT IDENTITY PRIMARY KEY,\r\n",
                "    product_name VARCHAR(255) NOT NULL,\r\n",
                "    unit_price DEC(10,2) CHECK(unit_price > 0)\r\n",
                ")\r\n",
                "\r\n",
                "-- HOẶC\r\n",
                "CREATE TABLE test.products(\r\n",
                "    product_id INT IDENTITY PRIMARY KEY,\r\n",
                "    product_name VARCHAR(255) NOT NULL,\r\n",
                "    unit_price DEC(10,2) CONSTRAINT positive_price CHECK(unit_price > 0)\r\n",
                ")"
            ],
            "metadata": {
                "azdata_cell_guid": "f240ebc7-a0ee-4dc8-9059-966ecd02b934",
                "language": "sql"
            },
            "outputs": [],
            "execution_count": null
        },
        {
            "cell_type": "code",
            "source": [
                "INSERT INTO test.products(product_name, unit_price)\r\n",
                "VALUES ('Awesome Free Bike', 0)"
            ],
            "metadata": {
                "azdata_cell_guid": "29493cad-acd6-45d2-a56b-28102cd12a85",
                "language": "sql"
            },
            "outputs": [],
            "execution_count": null
        },
        {
            "cell_type": "markdown",
            "source": [
                "**<mark>SQL Server CHECK constraint and NULL</mark>**"
            ],
            "metadata": {
                "azdata_cell_guid": "77babbab-2550-40a2-b21c-530518ddc687"
            },
            "attachments": {}
        },
        {
            "cell_type": "markdown",
            "source": [
                "Ràng buộc <mark>CHECK</mark> từ chối các giá trị khiến biểu thức Boolean được đánh giá là FALSE.\n",
                "\n",
                "<mark>Vì NULL đánh giá là UNKNOWN, nó có thể được sử dụng trong biểu thức để bỏ qua một ràng buộc.</mark>"
            ],
            "metadata": {
                "azdata_cell_guid": "e92429b0-58bb-4b72-aafb-4cd975dfc90b"
            },
            "attachments": {}
        },
        {
            "cell_type": "code",
            "source": [
                "INSERT INTO test.products(product_name, unit_price)\r\n",
                "VALUES ('Another Awesome Bike', NULL)"
            ],
            "metadata": {
                "azdata_cell_guid": "d831e1af-e765-4bd3-90ff-9c94f5e9baac",
                "language": "sql"
            },
            "outputs": [],
            "execution_count": null
        },
        {
            "cell_type": "markdown",
            "source": [
                "Ràng buộc CHECK tham chiếu đến nhiều cột:"
            ],
            "metadata": {
                "azdata_cell_guid": "977f9231-f1cc-4d42-8662-6f791a969ebe"
            },
            "attachments": {}
        },
        {
            "cell_type": "code",
            "source": [
                "-- Cách 1\r\n",
                "CREATE TABLE test.products(\r\n",
                "    product_id INT IDENTITY PRIMARY KEY,\r\n",
                "    product_name VARCHAR(255) NOT NULL,\r\n",
                "    unit_price DEC(10,2) CHECK(unit_price > 0),\r\n",
                "    discounted_price DEC(10,2) CHECK(discounted_price > 0),\r\n",
                "    CHECK(discounted_price < unit_price)\r\n",
                ")"
            ],
            "metadata": {
                "azdata_cell_guid": "d7bf928a-419b-478f-87d1-66df0c9d3ab1",
                "tags": [],
                "language": "sql"
            },
            "outputs": [],
            "execution_count": null
        },
        {
            "cell_type": "code",
            "source": [
                "-- Cách 2\r\n",
                "CREATE TABLE test.products(\r\n",
                "    product_id INT IDENTITY PRIMARY KEY,\r\n",
                "    product_name VARCHAR(255) NOT NULL,\r\n",
                "    unit_price DEC(10,2),\r\n",
                "    discounted_price DEC(10,2),\r\n",
                "    CHECK(unit_price > 0),\r\n",
                "    CHECK(discounted_price > 0),\r\n",
                "    CHECK(discounted_price > unit_price)\r\n",
                ")"
            ],
            "metadata": {
                "azdata_cell_guid": "917d1e67-66c4-42b0-ba49-419e1e42dde2",
                "tags": [],
                "language": "sql"
            },
            "outputs": [],
            "execution_count": null
        },
        {
            "cell_type": "code",
            "source": [
                "-- Cách 3\r\n",
                "CREATE TABLE test.products(\r\n",
                "    product_id INT IDENTITY PRIMARY KEY,\r\n",
                "    product_name VARCHAR(255) NOT NULL,\r\n",
                "    unit_price DEC(10,2),\r\n",
                "    discounted_price DEC(10,2),\r\n",
                "    CHECK(unit_price > 0),\r\n",
                "    CHECK(discounted_price > 0 AND discounted_price > unit_price)\r\n",
                ")"
            ],
            "metadata": {
                "azdata_cell_guid": "fde370d7-eee8-490c-b6bb-f172185b47bd",
                "language": "sql"
            },
            "outputs": [],
            "execution_count": null
        },
        {
            "cell_type": "code",
            "source": [
                "-- Cách 4\r\n",
                "CREATE TABLE test.products(\r\n",
                "    product_id INT IDENTITY PRIMARY KEY,\r\n",
                "    product_name VARCHAR(255) NOT NULL,\r\n",
                "    unit_price DEC(10,2),\r\n",
                "    discounted_price DEC(10,2),\r\n",
                "    CHECK(unit_price > 0),\r\n",
                "    CHECK(discounted_price > 0),\r\n",
                "    CONSTRAINT valid_prices CHECK(discounted_price > unit_price)\r\n",
                ")"
            ],
            "metadata": {
                "azdata_cell_guid": "4c344e96-70e5-40cc-9e3a-4d385d6d542a",
                "language": "sql"
            },
            "outputs": [],
            "execution_count": null
        },
        {
            "cell_type": "markdown",
            "source": [
                "Thêm ràng buộc CHECK vào bảng hiện có"
            ],
            "metadata": {
                "azdata_cell_guid": "514c9f9c-ca3c-47f0-9360-d6ece3751761"
            },
            "attachments": {}
        },
        {
            "cell_type": "code",
            "source": [
                "DROP TABLE test.products\r\n",
                "GO\r\n",
                "\r\n",
                "CREATE TABLE test.products(\r\n",
                "    product_id INT IDENTITY PRIMARY KEY,\r\n",
                "    product_name VARCHAR(255) NOT NULL,\r\n",
                "    unit_price DEC(10,2) NOT NULL\r\n",
                ")"
            ],
            "metadata": {
                "azdata_cell_guid": "0088499b-3d34-4959-86ba-eca76c36c889",
                "language": "sql"
            },
            "outputs": [],
            "execution_count": null
        },
        {
            "cell_type": "code",
            "source": [
                "-- Để thêm ràng buộc CHECK vào bảng test.products, bạn sử dụng câu lệnh sau:\r\n",
                "ALTER TABLE test.products\r\n",
                "ADD CONSTRAINT positive_price CHECK(unit_price > 0)"
            ],
            "metadata": {
                "azdata_cell_guid": "3e4e3272-ab07-4891-9112-7653a66d0d19",
                "language": "sql"
            },
            "outputs": [],
            "execution_count": null
        },
        {
            "cell_type": "code",
            "source": [
                "-- Để thêm một cột mới với ràng buộc CHECK, bạn sử dụng câu lệnh sau:\r\n",
                "ALTER TABLE test.products\r\n",
                "ADD discounted_price DEC(10,2)\r\n",
                "CHECK(discounted_price > 0)"
            ],
            "metadata": {
                "azdata_cell_guid": "ddd933ab-bc87-4abd-97c7-edf31193ec56",
                "language": "sql"
            },
            "outputs": [],
            "execution_count": null
        },
        {
            "cell_type": "code",
            "source": [
                "ALTER TABLE test.products\r\n",
                "ADD CONSTRAINT valid_price \r\n",
                "CHECK(unit_price > discounted_price)"
            ],
            "metadata": {
                "azdata_cell_guid": "eb66dd50-6ab6-467f-ba67-aaf5595dac8e",
                "language": "sql"
            },
            "outputs": [],
            "execution_count": null
        },
        {
            "cell_type": "markdown",
            "source": [
                "Loại bỏ các ràng buộc CHECK"
            ],
            "metadata": {
                "azdata_cell_guid": "fc255adf-353a-4252-bba6-76ae3a8e3717"
            },
            "attachments": {}
        },
        {
            "cell_type": "code",
            "source": [
                "-- Để loại bỏ ràng buộc KIỂM TRA, bạn sử dụng câu lệnh ALTER TABLE DROP CONSTRAINT:\r\n",
                "ALTER TABLE table_name\r\n",
                "DROP CONSTRAINT constraint_name"
            ],
            "metadata": {
                "azdata_cell_guid": "9d4612da-8453-4abe-ace3-e95efd1baadc",
                "language": "sql"
            },
            "outputs": [],
            "execution_count": null
        },
        {
            "cell_type": "code",
            "source": [
                "-- Câu lệnh kiểm tra các thông tin về constraint trên bảng\r\n",
                "EXEC sp_help 'table_name'"
            ],
            "metadata": {
                "azdata_cell_guid": "0e4eabb2-1ad3-4d93-83f6-677cb6d4013e",
                "language": "sql"
            },
            "outputs": [],
            "execution_count": null
        },
        {
            "cell_type": "code",
            "source": [
                "EXEC sp_help 'test.products'"
            ],
            "metadata": {
                "azdata_cell_guid": "d7e958e1-f27c-4657-8d8b-4208426ecde6",
                "language": "sql"
            },
            "outputs": [],
            "execution_count": null
        },
        {
            "cell_type": "code",
            "source": [
                "ALTER TABLE test.products\r\n",
                "DROP CONSTRAINT positive_price"
            ],
            "metadata": {
                "azdata_cell_guid": "65b0cfde-6cd9-41f9-aa28-a4deedac9a48",
                "language": "sql"
            },
            "outputs": [],
            "execution_count": null
        },
        {
            "cell_type": "markdown",
            "source": [
                "## **<mark>UNIQUE</mark>**"
            ],
            "metadata": {
                "azdata_cell_guid": "f49b7e62-2666-407f-9dc3-f2654faf904d"
            },
            "attachments": {}
        },
        {
            "cell_type": "markdown",
            "source": [
                "Các ràng buộc UNIQUE của SQL Server cho phép bạn đảm bảo rằng dữ liệu được lưu trữ trong một cột hoặc một nhóm cột là duy nhất giữa các hàng trong bảng."
            ],
            "metadata": {
                "azdata_cell_guid": "8f8f282b-6952-4cb4-917f-fadd59f270d2"
            },
            "attachments": {}
        },
        {
            "cell_type": "code",
            "source": [
                "CREATE SCHEMA hr\r\n",
                "GO\r\n",
                "\r\n",
                "CREATE TABLE hr.persons(\r\n",
                "    person_id INT IDENTITY PRIMARY KEY,\r\n",
                "    first_name VARCHAR(255) NOT NULL,\r\n",
                "    last_name VARCHAR(255) NOT NULL,\r\n",
                "    email VARCHAR(255) UNIQUE\r\n",
                ")\r\n",
                "\r\n",
                "-- Hoặc\r\n",
                "\r\n",
                "CREATE TABLE hr.persons(\r\n",
                "    person_id INT IDENTITY PRIMARY KEY,\r\n",
                "    first_name VARCHAR(255) NOT NULL,\r\n",
                "    last_name VARCHAR(255) NOT NULL,\r\n",
                "    email VARCHAR(255),\r\n",
                "    UNIQUE(email)\r\n",
                ")\r\n",
                "\r\n",
                "-- Hoặc\r\n",
                "\r\n",
                "CREATE TABLE hr.persons (\r\n",
                "    person_id INT IDENTITY PRIMARY KEY,\r\n",
                "    first_name VARCHAR(255) NOT NULL,\r\n",
                "    last_name VARCHAR(255) NOT NULL,\r\n",
                "    email VARCHAR(255),\r\n",
                "    CONSTRAINT unique_email UNIQUE(email)\r\n",
                ");\r\n",
                ""
            ],
            "metadata": {
                "azdata_cell_guid": "0f86018c-a29d-44e6-90b7-db17e004e158",
                "language": "sql"
            },
            "outputs": [],
            "execution_count": null
        },
        {
            "cell_type": "code",
            "source": [
                "INSERT INTO hr.persons(first_name, last_name, email)\r\n",
                "VALUES('John','Doe','j.doe@bike.stores')"
            ],
            "metadata": {
                "azdata_cell_guid": "2822e592-282c-446f-b70e-aa0ed1c8c84d",
                "language": "sql"
            },
            "outputs": [],
            "execution_count": null
        },
        {
            "cell_type": "code",
            "source": [
                "INSERT INTO hr.persons(first_name, last_name, email)\r\n",
                "VALUES('Jane','Doe','j.doe@bike.stores')"
            ],
            "metadata": {
                "azdata_cell_guid": "862b9533-015a-42dc-a99e-2851df69cb21",
                "language": "sql"
            },
            "outputs": [],
            "execution_count": null
        },
        {
            "cell_type": "markdown",
            "source": [
                "**<mark>UNIQUE vs PRIMARY KEY</mark>**"
            ],
            "metadata": {
                "azdata_cell_guid": "7ce4e400-d493-45c7-b4df-bfdfa7f73dc9"
            },
            "attachments": {}
        },
        {
            "cell_type": "markdown",
            "source": [
                "Mặc dù cả ràng buộc UNIQUE và PRIMARY KEY đều thực thi tính duy nhất của dữ liệu, bạn nên sử dụng ràng buộc UNIQUE thay vì PRIMARY KEY khi bạn muốn thực thi tính duy nhất của một cột hoặc một nhóm cột không phải là cột khóa chính.\n",
                "\n",
                "Khác với các ràng buộc PRIMARY KE, các ràng buộc UNIQUE cho phép NULL. Hơn nữa, ràng buộc UNIQUE coi NULL như một giá trị thông thường, do đó, nó chỉ cho phép một NULL trên mỗi cột."
            ],
            "metadata": {
                "azdata_cell_guid": "f8e8f6c9-eab6-4153-b03b-7df3132f377a"
            },
            "attachments": {}
        },
        {
            "cell_type": "code",
            "source": [
                "INSERT INTO hr.persons(first_name, last_name)\r\n",
                "VALUES('John','Smith')"
            ],
            "metadata": {
                "azdata_cell_guid": "b34dd3d9-aa78-4b12-99a2-79f8bd95faf0",
                "language": "sql"
            },
            "outputs": [],
            "execution_count": null
        },
        {
            "cell_type": "code",
            "source": [
                "INSERT INTO hr.persons(first_name, last_name)\r\n",
                "VALUES('Lily','Bush')"
            ],
            "metadata": {
                "azdata_cell_guid": "e1107fd6-ec49-4c84-8e72-95feee538f85",
                "language": "sql"
            },
            "outputs": [],
            "execution_count": null
        },
        {
            "cell_type": "markdown",
            "source": [
                "**<mark>Ràng buộc UNIQUE cho một nhóm cột</mark>**"
            ],
            "metadata": {
                "azdata_cell_guid": "c95a0a6b-cb84-406f-b5ad-2972463c0060"
            },
            "attachments": {}
        },
        {
            "cell_type": "markdown",
            "source": [
                "> <span style=\"color: #0000ff;\">CREATE</span> <span style=\"color: #0000ff;\">TABLE</span> table\\_name (\n",
                "> \n",
                ">     key\\_column data\\_type <span style=\"color: #0000ff;\">PRIMARY</span> <span style=\"color: #0000ff;\">KEY</span>,\n",
                "> \n",
                ">     column1 data\\_type,\n",
                "> \n",
                ">     column2 data\\_type,\n",
                "> \n",
                ">     column3 data\\_type,\n",
                "> \n",
                ">     ...,\n",
                "> \n",
                ">     <span style=\"color: #0000ff;\">UNIQUE</span> (column1,column2)\n",
                "> \n",
                "> )"
            ],
            "metadata": {
                "azdata_cell_guid": "d6f08eb8-4358-4743-9ad8-088d11e92ffc"
            },
            "attachments": {}
        },
        {
            "cell_type": "code",
            "source": [
                "CREATE TABLE hr.person_skills (\r\n",
                "    id INT IDENTITY PRIMARY KEY,\r\n",
                "    person_id int,\r\n",
                "    skill_id int,\r\n",
                "    updated_at DATETIME,\r\n",
                "    UNIQUE (person_id, skill_id)\r\n",
                ")"
            ],
            "metadata": {
                "azdata_cell_guid": "ccca4d88-10db-45d9-8eeb-484641f42a64",
                "language": "sql"
            },
            "outputs": [],
            "execution_count": null
        },
        {
            "cell_type": "markdown",
            "source": [
                "**<mark>Thêm các ràng buộc UNIQUE vào các cột hiện có</mark>**"
            ],
            "metadata": {
                "azdata_cell_guid": "1904ffe6-3ff7-4166-9c87-3c395aff8478"
            },
            "attachments": {}
        },
        {
            "cell_type": "markdown",
            "source": [
                "> ALTER TABLE table\\_name\n",
                "> \n",
                "> ADD CONSTRAINT constraint\\_name \n",
                "> \n",
                "> UNIQUE(column1, column2,...)\n",
                "\n",
                "hoặc\n",
                "\n",
                "> ALTER TABLE table\\_name\n",
                "> \n",
                "> ADD UNIQUE(column1, column2,...)"
            ],
            "metadata": {
                "azdata_cell_guid": "6e6047e2-508b-4e26-b10e-62cb9e46c107"
            },
            "attachments": {}
        },
        {
            "cell_type": "code",
            "source": [
                "DROP TABLE hr.persons\r\n",
                "GO\r\n",
                "\r\n",
                "CREATE TABLE hr.persons (\r\n",
                "    person_id INT IDENTITY PRIMARY KEY,\r\n",
                "    first_name VARCHAR(255) NOT NULL,\r\n",
                "    last_name VARCHAR(255) NOT NULL,\r\n",
                "    email VARCHAR(255),\r\n",
                "    phone VARCHAR(20),\r\n",
                ")"
            ],
            "metadata": {
                "azdata_cell_guid": "0bc10a4d-3a9c-45a9-bb54-419077cd673e",
                "language": "sql"
            },
            "outputs": [],
            "execution_count": null
        },
        {
            "cell_type": "code",
            "source": [
                "ALTER TABLE hr.persons\r\n",
                "ADD CONSTRAINT unique_email UNIQUE(email)"
            ],
            "metadata": {
                "azdata_cell_guid": "24fd0e09-210d-487e-8461-2914cd934562",
                "language": "sql"
            },
            "outputs": [],
            "execution_count": null
        },
        {
            "cell_type": "code",
            "source": [
                "ALTER TABLE hr.persons\r\n",
                "ADD CONSTRAINT unique_phone UNIQUE(phone)"
            ],
            "metadata": {
                "azdata_cell_guid": "cfcc79f6-64a9-4e5d-94a5-87d77c313aa2",
                "language": "sql"
            },
            "outputs": [],
            "execution_count": null
        },
        {
            "cell_type": "markdown",
            "source": [
                "**<mark>Xóa các ràng buộc UNIQUE</mark>**"
            ],
            "metadata": {
                "azdata_cell_guid": "056bc8f6-74ee-483a-8c40-d9861c46b18a"
            },
            "attachments": {}
        },
        {
            "cell_type": "markdown",
            "source": [
                "> ALTER TABLE table\\_name\n",
                "> \n",
                "> DROP CONSTRAINT constraint_name"
            ],
            "metadata": {
                "azdata_cell_guid": "0ed646c2-6f2c-4b60-b6d4-416f99d34075"
            },
            "attachments": {}
        },
        {
            "cell_type": "code",
            "source": [
                "ALTER TABLE hr.persons\r\n",
                "DROP CONSTRAINT unique_phone"
            ],
            "metadata": {
                "azdata_cell_guid": "9eb8aa3f-9abd-42bc-bcac-f0c568915a2d",
                "language": "sql"
            },
            "outputs": [],
            "execution_count": null
        }
    ]
}