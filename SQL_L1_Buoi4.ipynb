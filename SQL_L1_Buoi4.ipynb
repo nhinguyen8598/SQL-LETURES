{
    "metadata": {
        "kernelspec": {
            "name": "SQL",
            "display_name": "SQL",
            "language": "sql"
        },
        "language_info": {
            "name": "sql",
            "version": ""
        }
    },
    "nbformat_minor": 2,
    "nbformat": 4,
    "cells": [
        {
            "cell_type": "markdown",
            "source": [
                "## **<mark>UNION và UNION ALL</mark>**"
            ],
            "metadata": {
                "azdata_cell_guid": "68d8262b-800b-4f5f-b23b-d50534d48b25"
            },
            "attachments": {}
        },
        {
            "cell_type": "markdown",
            "source": [
                "\\- Ý nghĩa: UNION là một trong những hoạt động tập hợp cho phép bạn kết hợp kết quả của hai câu lệnh SELECT thành một tập kết quả duy nhất bao gồm tất cả các hàng thuộc về câu lệnh SELECT trong liên hợp.\n",
                "\n",
                "\\- Cú pháp:\n",
                "\n",
                "> query\\_1\n",
                "> \n",
                "> UNION\n",
                "> \n",
                "> query\\_2\n",
                "\n",
                "Các yêu cầu đối với các truy vấn trong cú pháp trên:\n",
                "\n",
                "- Số lượng và thứ tự của các cột phải giống nhau trong cả hai truy vấn.\n",
                "- Các kiểu dữ liệu của các cột tương ứng phải giống nhau hoặc tương thích."
            ],
            "metadata": {
                "azdata_cell_guid": "6ff96cf5-188f-45e0-b6b1-e63aadcb1b4b"
            },
            "attachments": {}
        },
        {
            "cell_type": "markdown",
            "source": [
                "Theo mặc định, toán tử UNION loại bỏ tất cả các hàng trùng lặp khỏi tập kết quả. Tuy nhiên, nếu bạn muốn giữ lại các hàng trùng lặp, bạn cần chỉ định từ khóa ALL một cách rõ ràng như cú pháp dưới:\n",
                "\n",
                "> query\\_1\n",
                "> \n",
                "> UNION ALL\n",
                "> \n",
                "> query\\_2"
            ],
            "metadata": {
                "azdata_cell_guid": "ad8fae74-a1f8-493c-9e55-9196e4d759bb"
            },
            "attachments": {}
        },
        {
            "cell_type": "markdown",
            "source": [
                "UNION vs. JOIN: \n",
                "\n",
                "- Phép nối như INNER JOIN hoặc LEFT JOIN kết hợp các cột từ hai bảng trong khi UNION kết hợp các hàng từ hai truy vấn.\n",
                "- Nói cách khác, join nối kết quả theo chiều ngang trong khi union nối kết quả được đặt theo chiều dọc."
            ],
            "metadata": {
                "azdata_cell_guid": "5f1fe196-98c6-4451-aa61-5d27d03a29a7"
            },
            "attachments": {}
        },
        {
            "cell_type": "code",
            "source": [
                "-- Ví dụ sau kết hợp tên của nhân viên và khách hàng thành một danh sách:\r\n",
                "SELECT\r\n",
                "    first_name,\r\n",
                "    last_name\r\n",
                "FROM\r\n",
                "    sales.staffs\r\n",
                "\r\n",
                "UNION\r\n",
                "\r\n",
                "SELECT\r\n",
                "    first_name,\r\n",
                "    last_name\r\n",
                "FROM\r\n",
                "    sales.customers"
            ],
            "metadata": {
                "azdata_cell_guid": "8e427d37-863e-4ece-ace9-7b7a8e2800cb",
                "language": "sql"
            },
            "outputs": [],
            "execution_count": null
        },
        {
            "cell_type": "code",
            "source": [
                "SELECT\r\n",
                "    COUNT (*)\r\n",
                "FROM\r\n",
                "    sales.staffs\r\n",
                "-- 10       \r\n",
                "\r\n",
                "SELECT\r\n",
                "    COUNT (*)\r\n",
                "FROM\r\n",
                "    sales.customers\r\n",
                "-- 1454"
            ],
            "metadata": {
                "azdata_cell_guid": "4a90005b-8b3f-4fbf-bb43-8dc002c65778",
                "language": "sql"
            },
            "outputs": [],
            "execution_count": null
        },
        {
            "cell_type": "code",
            "source": [
                "SELECT\r\n",
                "    first_name,\r\n",
                "    last_name\r\n",
                "FROM\r\n",
                "    sales.staffs\r\n",
                "UNION ALL\r\n",
                "SELECT\r\n",
                "    first_name,\r\n",
                "    last_name\r\n",
                "FROM\r\n",
                "    sales.customers"
            ],
            "metadata": {
                "azdata_cell_guid": "6dcfc797-2c45-46b1-a4dd-824da76762bc",
                "tags": [],
                "language": "sql"
            },
            "outputs": [],
            "execution_count": null
        },
        {
            "cell_type": "markdown",
            "source": [
                "UNION và ORDER BY\n",
                "\n",
                "Để sắp xếp tập hợp kết quả được trả về bởi toán tử UNION, bạn đặt mệnh đề ORDER BY trong truy vấn cuối cùng như sau:\n",
                "\n",
                "> SELECT\n",
                "> \n",
                ">     select\\_list\n",
                "> \n",
                "> FROM\n",
                "> \n",
                ">     table\\_1\n",
                "> \n",
                "> UNION\n",
                "> \n",
                "> SELECT\n",
                "> \n",
                ">     select\\_list\n",
                "> \n",
                "> FROM\n",
                "> \n",
                ">     table\\_2\n",
                "> \n",
                "> ORDER BY\n",
                "> \n",
                ">     order\\_list"
            ],
            "metadata": {
                "azdata_cell_guid": "568b43e2-f3af-4be1-b0a1-028005ad0f9c"
            },
            "attachments": {}
        },
        {
            "cell_type": "code",
            "source": [
                "SELECT\r\n",
                "    first_name,\r\n",
                "    last_name\r\n",
                "FROM\r\n",
                "    sales.staffs\r\n",
                "UNION ALL\r\n",
                "SELECT\r\n",
                "    first_name,\r\n",
                "    last_name\r\n",
                "FROM\r\n",
                "    sales.customers\r\n",
                "ORDER BY\r\n",
                "    first_name,\r\n",
                "    last_name"
            ],
            "metadata": {
                "azdata_cell_guid": "c63fae99-0aed-4bf8-bb69-8ac3fb15fbf9",
                "language": "sql"
            },
            "outputs": [],
            "execution_count": null
        },
        {
            "cell_type": "markdown",
            "source": [
                "## **<mark>INTERSECT</mark>**"
            ],
            "metadata": {
                "azdata_cell_guid": "a467e86b-bb43-450c-90c2-a0ec55151870"
            },
            "attachments": {}
        },
        {
            "cell_type": "markdown",
            "source": [
                "\\- Ý nghĩa: INTERSECT kết hợp các bộ kết quả của hai hoặc nhiều truy vấn và trả về các hàng riêng biệt được xuất ra bởi cả hai truy vấn.\n",
                "\n",
                "\\- Cú pháp: \n",
                "\n",
                "> query\\_1\n",
                "> \n",
                "> INTERSECT\n",
                "> \n",
                "> query\\_2\n",
                "\n",
                "Tương tự như toán tử UNION, các truy vấn trong cú pháp ở trên phải tuân theo các quy tắc sau:\n",
                "\n",
                "- Cả hai truy vấn phải có cùng số lượng và thứ tự cột.\n",
                "- Kiểu dữ liệu của các cột tương ứng phải giống nhau hoặc tương thích."
            ],
            "metadata": {
                "azdata_cell_guid": "05f1c9c6-a7c1-4b59-ab69-06c041758375"
            },
            "attachments": {}
        },
        {
            "cell_type": "code",
            "source": [
                "SELECT\r\n",
                "    city\r\n",
                "FROM\r\n",
                "    sales.customers\r\n",
                "\r\n",
                "INTERSECT\r\n",
                "\r\n",
                "SELECT\r\n",
                "    city\r\n",
                "FROM\r\n",
                "    sales.stores\r\n",
                "ORDER BY\r\n",
                "    city"
            ],
            "metadata": {
                "azdata_cell_guid": "739122ba-e4a6-4d33-a99a-42766dcb4eb9",
                "language": "sql"
            },
            "outputs": [],
            "execution_count": null
        },
        {
            "cell_type": "markdown",
            "source": [
                "## **<mark>EXCEPT</mark>**"
            ],
            "metadata": {
                "azdata_cell_guid": "0cf41ccf-2b95-4185-9f0b-910bec67b30b"
            },
            "attachments": {}
        },
        {
            "cell_type": "markdown",
            "source": [
                "\\- Ý nghĩa: EXCEPT so sánh tập hợp kết quả của hai truy vấn và trả về các hàng khác biệt với truy vấn đầu tiên mà không được xuất ra bởi truy vấn thứ hai. Nói cách khác, EXCEPT trừ tập kết quả của một truy vấn từ một truy vấn khác.\n",
                "\n",
                "\\- Cú pháp:\n",
                "\n",
                "> query\\_1\n",
                "> \n",
                "> EXCEPT\n",
                "> \n",
                "> query\\_2\n",
                "\n",
                "Sau đây là các quy tắc để kết hợp tập kết quả của hai truy vấn theo cú pháp trên:\n",
                "\n",
                "- Số lượng và thứ tự của các cột phải giống nhau trong cả hai truy vấn.\n",
                "- Các kiểu dữ liệu của các cột tương ứng phải giống nhau hoặc tương thích."
            ],
            "metadata": {
                "azdata_cell_guid": "cda64f5f-52a9-48a7-8405-eab039948b25"
            },
            "attachments": {}
        },
        {
            "cell_type": "code",
            "source": [
                "-- Ví dụ sau sử dụng toán tử EXCEPT để tìm các sản phẩm không có doanh số bán hàng:\r\n",
                "SELECT\r\n",
                "    product_id\r\n",
                "FROM\r\n",
                "    production.products\r\n",
                "\r\n",
                "EXCEPT\r\n",
                "\r\n",
                "SELECT\r\n",
                "    product_id\r\n",
                "FROM\r\n",
                "    sales.order_items"
            ],
            "metadata": {
                "azdata_cell_guid": "0db98954-2a61-4aeb-9296-476ce820b1ce",
                "language": "sql"
            },
            "outputs": [],
            "execution_count": null
        },
        {
            "cell_type": "code",
            "source": [
                "SELECT\r\n",
                "    p.product_id\r\n",
                "FROM\r\n",
                "    production.products p\r\n",
                "LEFT JOIN sales.order_items oit \r\n",
                "    ON p.product_id = oit.product_id\r\n",
                "WHERE oit.order_id IS NULL"
            ],
            "metadata": {
                "azdata_cell_guid": "cfb5f63b-0824-4397-b42d-d32a552b8b1f",
                "language": "sql"
            },
            "outputs": [],
            "execution_count": null
        },
        {
            "cell_type": "code",
            "source": [
                "-- Ví dụ sau tìm các sản phẩm không có doanh số và sắp xếp các sản phẩm theo id của chúng theo thứ tự tăng dần:\r\n",
                "SELECT\r\n",
                "    product_id\r\n",
                "FROM\r\n",
                "    production.products\r\n",
                "\r\n",
                "EXCEPT\r\n",
                "\r\n",
                "SELECT\r\n",
                "    product_id\r\n",
                "FROM\r\n",
                "    sales.order_items\r\n",
                "ORDER BY \r\n",
                "\tproduct_id"
            ],
            "metadata": {
                "azdata_cell_guid": "f57b832e-d250-447b-a842-1c43c3954a4c",
                "language": "sql"
            },
            "outputs": [],
            "execution_count": null
        },
        {
            "cell_type": "markdown",
            "source": [
                "## **<mark>Các hàm xử lý chuỗi</mark>**"
            ],
            "metadata": {
                "azdata_cell_guid": "a4701318-c79e-4983-a369-739d99686efb"
            },
            "attachments": {}
        },
        {
            "cell_type": "markdown",
            "source": [
                "[String Functions (Transact-SQL) - SQL Server | Microsoft Docs](https://docs.microsoft.com/en-us/sql/t-sql/functions/string-functions-transact-sql?view=sql-server-ver15)"
            ],
            "metadata": {
                "azdata_cell_guid": "7582e0c5-3481-4b4e-b31f-e71481226ed3"
            },
            "attachments": {}
        },
        {
            "cell_type": "markdown",
            "source": [
                "**<mark>CHARINDEX()</mark>**\n",
                "\n",
                "\\- Ý nghĩa: Tìm kiếm một chuỗi con bên trong một chuỗi bắt đầu từ một vị trí được chỉ định. Nó trả về vị trí của chuỗi con được tìm thấy trong chuỗi được tìm kiếm hoặc bằng không nếu chuỗi con không được tìm thấy. Vị trí bắt đầu được trả về là dựa trên 1, không dựa trên 0.\n",
                "\n",
                "\\- Cú pháp: \n",
                "\n",
                "> CHARINDEX(substring, string \\[, start\\_location\\])\n",
                "\n",
                "Trong cú pháp này:\n",
                "\n",
                "- <span style=\"background-color:rgba(127, 127, 127, 0.1);\">Substring</span>: chuỗi con cần tìm kiếm. Độ dài của nó được giới hạn ở 8.000 ký tự.\n",
                "- <span style=\"background-color:rgba(127, 127, 127, 0.1);\">String:</span> có thể là một chuỗi ký tự, biểu thức hoặc cột. Nó là một chuỗi để tìm kiếm.\n",
                "- <span style=\"background-color:rgba(127, 127, 127, 0.1);\">Start_location:</span> là vị trí bắt đầu tìm kiếm. Start\\_location là một số nguyên, số nguyên lớn hoặc một biểu thức đánh giá một giá trị của các kiểu dữ liệu đó.\n",
                "\n",
                "Lưu ý rằng hàm CHARINDEX () có thể thực hiện cả tìm kiếm phân biệt chữ hoa chữ thường và không phân biệt chữ hoa chữ thường dựa trên đối chiếu được chỉ định."
            ],
            "metadata": {
                "azdata_cell_guid": "665d2c57-9556-4dbe-bf79-ab19e0db59ae"
            },
            "attachments": {}
        },
        {
            "cell_type": "code",
            "source": [
                "--A) Sử dụng CHARINDEX () để thực hiện một tìm kiếm\r\n",
                "SELECT \r\n",
                "    CHARINDEX('SQL', 'SQL Server CHARINDEX') position"
            ],
            "metadata": {
                "azdata_cell_guid": "df934024-8d92-4359-af4c-4e00797897a9",
                "language": "sql"
            },
            "outputs": [],
            "execution_count": null
        },
        {
            "cell_type": "code",
            "source": [
                "--B) Sử dụng hàm CHARINDEX () để thực hiện tìm kiếm không phân biệt chữ hoa chữ thường\r\n",
                "SELECT \r\n",
                "    CHARINDEX(\r\n",
                "        'SERVER', \r\n",
                "        'SQL Server CHARINDEX'\r\n",
                "    ) position"
            ],
            "metadata": {
                "azdata_cell_guid": "97b3b4f1-373b-4d99-aa33-f4d176db9e13",
                "language": "sql"
            },
            "outputs": [],
            "execution_count": null
        },
        {
            "cell_type": "code",
            "source": [
                "--C) Sử dụng hàm CHARINDEX () để thực hiện tìm kiếm phân biệt chữ hoa chữ thường\r\n",
                "SELECT \r\n",
                "    CHARINDEX(\r\n",
                "        'SERVER', \r\n",
                "        'SQL Server CHARINDEX' \r\n",
                "        COLLATE Latin1_General_CS_AS\r\n",
                "    ) position"
            ],
            "metadata": {
                "azdata_cell_guid": "50c0bb51-ed5b-41e6-9e6d-b98dac41c40a",
                "language": "sql"
            },
            "outputs": [],
            "execution_count": null
        },
        {
            "cell_type": "code",
            "source": [
                "--D) Sử dụng hàm CHARINDEX () để tìm kiếm một chuỗi con không tồn tại\r\n",
                "DECLARE @haystack VARCHAR(100)\r\n",
                "SELECT @haystack = 'This is a haystack'\r\n",
                "SELECT CHARINDEX('needle', @haystack)"
            ],
            "metadata": {
                "azdata_cell_guid": "2adc6861-c082-4252-bd50-ca6dba1efd23",
                "language": "sql"
            },
            "outputs": [],
            "execution_count": null
        },
        {
            "cell_type": "code",
            "source": [
                "--E) Sử dụng hàm CHARINDEX () để tìm kiếm từ một vị trí cụ thể\r\n",
                "SELECT \r\n",
                "    CHARINDEX('is','This is a my sister',5) start_at_fifth,\r\n",
                "    CHARINDEX('is','This is a my sister',10) start_at_tenth;"
            ],
            "metadata": {
                "azdata_cell_guid": "1feff6fc-4b91-43df-848c-b191227fe71e",
                "language": "sql"
            },
            "outputs": [],
            "execution_count": null
        },
        {
            "cell_type": "markdown",
            "source": [
                "**<mark>CONCAT()</mark>**\n",
                "\n",
                "\\- Ý nghĩa: Để nối hai hoặc nhiều chuỗi thành một\n",
                "\n",
                "\\- Cú pháp: \n",
                "\n",
                "> CONCAT ( input\\_string1, input\\_string2 \\[, input\\_stringN \\] );\n",
                "\n",
                "CONCAT () nhận hai tối đa 255 chuỗi đầu vào và nối chúng thành một. Nó yêu cầu ít nhất hai chuỗi đầu vào. Nếu bạn chuyển một chuỗi đầu vào, hàm CONCAT () sẽ phát sinh lỗi.\n",
                "\n",
                "Nếu bạn chuyển các giá trị chuỗi không phải ký tự, hàm CONCAT () sẽ chuyển đổi ngầm các giá trị đó thành chuỗi trước khi nối.\n",
                "\n",
                "Hàm CONCAT () cũng chuyển đổi NULL thành một chuỗi rỗng với kiểu VARCHAR (1).\n",
                "\n",
                "Lưu ý rằng để thêm dấu phân tách trong quá trình nối, bạn sử dụng hàm CONCAT\\_WS ()."
            ],
            "metadata": {
                "azdata_cell_guid": "2665c5c9-206a-4b80-aaef-3baefc9068c4"
            },
            "attachments": {}
        },
        {
            "cell_type": "code",
            "source": [
                "-- Sử dụng hàm CONCAT () với chuỗi ký tự\r\n",
                "SELECT \r\n",
                "    'John' + ' ' + 'Doe' AS full_name"
            ],
            "metadata": {
                "azdata_cell_guid": "e8e7859f-0a3e-45ee-b9fb-c7548d74b2d2",
                "language": "sql"
            },
            "outputs": [],
            "execution_count": null
        },
        {
            "cell_type": "code",
            "source": [
                "--Sử dụng hàm CONCAT () với các cột trong bảng\r\n",
                "SELECT \r\n",
                "    customer_id,\r\n",
                "    first_name,\r\n",
                "    last_name,\r\n",
                "    CONCAT(first_name, ' ', last_name) full_name\r\n",
                "FROM \r\n",
                "    sales.customers\r\n",
                "ORDER BY \r\n",
                "    full_name"
            ],
            "metadata": {
                "azdata_cell_guid": "de76bdc9-f1a5-471a-b035-65cd3b7eccd8",
                "language": "sql"
            },
            "outputs": [],
            "execution_count": null
        },
        {
            "cell_type": "code",
            "source": [
                "--Sử dụng hàm CONCAT () với NULL\r\n",
                "SELECT \r\n",
                "    CONCAT(\r\n",
                "        CHAR(13), -- sử dụng hàm CHAR () để lấy ký tự dòng mới trong ví dụ này\r\n",
                "        CONCAT(first_name,' ',last_name),\r\n",
                "        CHAR(13),\r\n",
                "        phone,\r\n",
                "        CHAR(13),\r\n",
                "        CONCAT(city,' ',state),\r\n",
                "        CHAR(13),\r\n",
                "        zip_code\r\n",
                "    ) customer_address\r\n",
                "FROM\r\n",
                "    sales.customers\r\n",
                "ORDER BY \r\n",
                "    first_name,\r\n",
                "    last_name"
            ],
            "metadata": {
                "azdata_cell_guid": "1820d196-64a7-4ce9-9d80-21589da84b29",
                "tags": [],
                "language": "sql"
            },
            "outputs": [],
            "execution_count": null
        },
        {
            "cell_type": "markdown",
            "source": [
                "**<mark>CONCAT\\_WS()</mark>**\n",
                "\n",
                "\\- Ý nghĩa: Nối hai hoặc nhiều chuỗi thành một chuỗi bằng dấu phân cách\n",
                "\n",
                "\\- Cú pháp:\n",
                "\n",
                "> CONCAT\\_WS(separator,input\\_string1,input\\_string2,\\[...input\\_stringN\\])\n",
                "\n",
                "Trong cú pháp này:\n",
                "\n",
                "- separator là một biểu thức dựa trên ký tự đánh giá bất kỳ ký tự nào thuộc loại CHAR, NCHAR, VARCHAR hoặc NVARCHAR.\n",
                "- input\\_string1 đến input\\_stringN là các biểu thức thuộc bất kỳ loại nào. Hàm CONCAT\\_WS () chuyển đổi ngầm các giá trị của kiểu không phải ký tự thành kiểu ký tự trước khi nối.\n",
                "- Hàm CONCAT\\_WS () nối các chuỗi đầu vào thành một chuỗi duy nhất. Nó phân tách các chuỗi được nối đó bằng dấu phân cách được chỉ định trong đối số đầu tiên.\n",
                "\n",
                "Lưu ý rằng CONCAT\\_WS () yêu cầu ít nhất hai chuỗi đầu vào.\n",
                "\n",
                "Hàm CONCAT\\_WS () coi NULL là một chuỗi rỗng kiểu VARCHAR (1). Nó cũng không thêm dấu phân cách giữa các NULL. Do đó, hàm CONCAT\\_WS () có thể nối các chuỗi có giá trị trống."
            ],
            "metadata": {
                "azdata_cell_guid": "e82fa336-7d0f-4d66-a971-0b74058ef49f"
            },
            "attachments": {}
        },
        {
            "cell_type": "code",
            "source": [
                "-- A) Sử dụng CONCAT_WS () để nối các chuỗi ký tự bằng dấu phân cách\r\n",
                "SELECT \r\n",
                "    CONCAT_WS(' ', 'John', 'Doe') full_name"
            ],
            "metadata": {
                "azdata_cell_guid": "5ec88562-8189-41ca-824d-c97c8629744c",
                "language": "sql"
            },
            "outputs": [],
            "execution_count": null
        },
        {
            "cell_type": "code",
            "source": [
                "-- B) Sử dụng CONCAT_WS () với các cột trong bảng\r\n",
                "SELECT \r\n",
                "    first_name, \r\n",
                "    last_name, \r\n",
                "    CONCAT_WS(', ', last_name, first_name) full_name\r\n",
                "FROM \r\n",
                "    sales.customers\r\n",
                "ORDER BY \r\n",
                "    first_name, \r\n",
                "    last_name"
            ],
            "metadata": {
                "azdata_cell_guid": "8ccc9f59-a571-4519-8e36-e59d692ef755",
                "language": "sql"
            },
            "outputs": [],
            "execution_count": null
        },
        {
            "cell_type": "code",
            "source": [
                "-- C) Sử dụng CONCAT_WS () với NULL\r\n",
                "SELECT \r\n",
                "    CONCAT_WS(',', 1, 2, NULL, NULL, 3)"
            ],
            "metadata": {
                "azdata_cell_guid": "9bd9a434-6003-4cce-934b-eda2fc39734c",
                "language": "sql"
            },
            "outputs": [],
            "execution_count": null
        },
        {
            "cell_type": "code",
            "source": [
                "SELECT \r\n",
                "    CONCAT_WS\r\n",
                "    (\r\n",
                "        CHAR(13), \r\n",
                "        CONCAT(first_name, ' ', last_name), \r\n",
                "        phone, \r\n",
                "        CONCAT(city, ' ', state), \r\n",
                "        zip_code,\r\n",
                "        '---'\r\n",
                "    ) customer_address\r\n",
                "FROM \r\n",
                "    sales.customers\r\n",
                "ORDER BY \r\n",
                "    first_name, \r\n",
                "    last_name\r\n",
                ""
            ],
            "metadata": {
                "azdata_cell_guid": "e8d0c61d-3753-470a-a1f2-4f4da939cfef",
                "language": "sql"
            },
            "outputs": [],
            "execution_count": null
        },
        {
            "cell_type": "code",
            "source": [
                "-- D) Sử dụng CONCAT_WS () để tạo tệp CSV\r\n",
                "SELECT \r\n",
                "    CONCAT_WS(',', first_name, last_name, email)\r\n",
                "FROM \r\n",
                "    sales.customers\r\n",
                "ORDER BY \r\n",
                "    first_name, \r\n",
                "    last_name"
            ],
            "metadata": {
                "azdata_cell_guid": "a045f617-4d68-453d-8820-18fc5b0a3458",
                "language": "sql"
            },
            "outputs": [],
            "execution_count": null
        },
        {
            "cell_type": "markdown",
            "source": [
                "**<mark>LEN()</mark>**\n",
                "\n",
                "\\- Ý nghĩa: Trả về số ký tự của một chuỗi đầu vào, không bao gồm các khoảng trống ở cuối.\n",
                "\n",
                "\\- Cú pháp:\n",
                "\n",
                "> LEN(input\\_string)\n",
                "\n",
                "Trong cú pháp này, input\\_string có thể là một chuỗi ký tự chữ, biểu thức chuỗi hoặc một cột chứa ký tự hoặc dữ liệu nhị phân.\n",
                "\n",
                "Hàm LEN () trả về một giá trị có kiểu dữ liệu là BIGINT nếu input\\_string thuộc kiểu dữ liệu VARCHAR (max), NVARCHAR (max) hoặc VARBINARY (max); nếu không, INT."
            ],
            "metadata": {
                "azdata_cell_guid": "05321206-d5f5-4374-8e51-37a4f19c950f"
            },
            "attachments": {}
        },
        {
            "cell_type": "code",
            "source": [
                "-- A) Sử dụng hàm LEN () với một chuỗi ký tự\r\n",
                "SELECT\r\n",
                "    LEN('SQL Server LEN') length,\r\n",
                "    LEN('SQL Server LEN   ') length_with_trailing_blanks"
            ],
            "metadata": {
                "azdata_cell_guid": "58a806c1-58fa-41eb-9f60-3f339c0d4f27",
                "language": "sql"
            },
            "outputs": [],
            "execution_count": null
        },
        {
            "cell_type": "code",
            "source": [
                "-- B) Sử dụng hàm LEN () với một cột\r\n",
                "SELECT\r\n",
                "    product_name,\r\n",
                "    LEN(product_name) product_name_length\r\n",
                "FROM\r\n",
                "    production.products\r\n",
                "ORDER BY\r\n",
                "    LEN(product_name) DESC"
            ],
            "metadata": {
                "azdata_cell_guid": "f8ffb270-61ca-4953-a993-c11195fe28cd",
                "language": "sql"
            },
            "outputs": [],
            "execution_count": null
        },
        {
            "cell_type": "markdown",
            "source": [
                "**<mark>LEFT() / RIGHT()</mark>**\n",
                "\n",
                "\\- Ý nghĩa: Trích xuất một số ký tự nhất định từ phía bên trái (hoặc bên phải) của một chuỗi được cung cấp\n",
                "\n",
                "\\- Cú pháp:\n",
                "\n",
                "> LEFT ( input\\_string , number\\_of\\_characters ) \n",
                "> \n",
                "> RIGHT ( input\\_string , number\\_of\\_characters )\n",
                "\n",
                "Trong cú pháp này:\n",
                "\n",
                "- input\\_string có thể là một chuỗi ký tự, biến hoặc cột. Kết quả của input\\_string có thể ở bất kỳ kiểu dữ liệu nào, ngoại trừ TEXT hoặc NTEXT, được chuyển đổi hoàn toàn thành VARCHAR hoặc NVARCHAR.\n",
                "- number\\_of\\_characters là một số nguyên dương xác định số lượng ký tự của chuỗi đầu vào sẽ được trả về.\n",
                "\n",
                "Lưu ý rằng hàm LEFT() / RIGHT() trả về giá trị VARCHAR khi input\\_string là kiểu dữ liệu ký tự không phải Unicode hoặc NVARCHAR nếu input\\_string là kiểu dữ liệu ký tự Unicode."
            ],
            "metadata": {
                "azdata_cell_guid": "9d239560-1011-4d40-af50-0ec524bd9d47"
            },
            "attachments": {}
        },
        {
            "cell_type": "code",
            "source": [
                "-- A) sử dụng hàm LEFT() / RIGHT() với một chuỗi ký tự chữ\r\n",
                "SELECT LEFT('SQL Server',3) Result_string\r\n",
                "SELECT RIGHT('SQL Server',6) Result_string"
            ],
            "metadata": {
                "azdata_cell_guid": "921d8151-4d55-4b8b-b970-e2f77dbe167a",
                "language": "sql"
            },
            "outputs": [],
            "execution_count": null
        },
        {
            "cell_type": "code",
            "source": [
                "-- B) Sử dụng hàm LEFT() / RIGHT() với một cột bảng\r\n",
                "SELECT \r\n",
                "    product_name,\r\n",
                "    LEFT(product_name, 7) first_7_characters\r\n",
                "FROM \r\n",
                "    production.products\r\n",
                "ORDER BY \r\n",
                "    product_name"
            ],
            "metadata": {
                "azdata_cell_guid": "cd1a2f9b-d3ab-47a0-b19e-35014841f756",
                "language": "sql"
            },
            "outputs": [],
            "execution_count": null
        },
        {
            "cell_type": "code",
            "source": [
                "SELECT \r\n",
                "    product_name,\r\n",
                "    RIGHT(product_name, 4) last_4_characters\r\n",
                "FROM \r\n",
                "    production.products\r\n",
                "ORDER BY \r\n",
                "    product_name"
            ],
            "metadata": {
                "azdata_cell_guid": "6344b7d3-32d3-471f-a4e0-73ff8c5b1e91",
                "language": "sql"
            },
            "outputs": [],
            "execution_count": null
        },
        {
            "cell_type": "code",
            "source": [
                "-- C) Sử dụng hàm LEFT() / RIGHT() với mệnh đề GROUP BY\r\n",
                "SELECT\r\n",
                "\tLEFT(product_name, 1) initial,  \r\n",
                "\tCOUNT(product_name) product_count\r\n",
                "FROM \r\n",
                "\tproduction.products\r\n",
                "GROUP BY\r\n",
                "\tleft(product_name, 1)\r\n",
                "ORDER BY \r\n",
                "\tinitial"
            ],
            "metadata": {
                "azdata_cell_guid": "11ced56e-7fba-4180-b3a1-c1e5c67b1480",
                "language": "sql"
            },
            "outputs": [],
            "execution_count": null
        },
        {
            "cell_type": "code",
            "source": [
                "SELECT\r\n",
                "\tRIGHT(product_name, 4) year,  \r\n",
                "\tCOUNT(product_name) product_count\r\n",
                "FROM \r\n",
                "\tproduction.products\r\n",
                "GROUP BY\r\n",
                "\tRIGHT(product_name, 4)\r\n",
                "ORDER BY \r\n",
                "\tyear"
            ],
            "metadata": {
                "azdata_cell_guid": "8ca44d3c-1e03-4fae-a709-c095b7718457",
                "language": "sql"
            },
            "outputs": [],
            "execution_count": null
        },
        {
            "cell_type": "markdown",
            "source": [
                "**<mark>LTRIM() / RTRIM()</mark>**\n",
                "\n",
                "\\- Ý nghĩa: trả về một chuỗi sau khi loại bỏ các khoảng trống ở đầu (LTRIM) hoặc các khoảng trống ở cuối (RTRIM)\n",
                "\n",
                "\\- Cú pháp:\n",
                "\n",
                "> LTRIM(input\\_string)\n",
                "> \n",
                "> RTRIM(input\\_string)\n",
                "\n",
                "Trong cú pháp này, input\\_string là một biểu thức của ký tự hoặc dữ liệu nhị phân. Nó có thể là một chuỗi ký tự, biến hoặc cột\n",
                "\n",
                "input\\_string phải là giá trị của một kiểu dữ liệu, ngoại trừ TEXT, NTEXT và IMAGE, có thể chuyển đổi hoàn toàn thành VARCHAR. Nếu không, bạn phải sử dụng hàm CAST () để chuyển đổi nó thành một chuỗi ký tự một cách rõ ràng."
            ],
            "metadata": {
                "azdata_cell_guid": "e24d809b-debc-4e0d-af79-b626c1b6709c"
            },
            "attachments": {}
        },
        {
            "cell_type": "code",
            "source": [
                "-- Sử dụng hàm LTRIM() / RTRIM() với các chuỗi ký tự\r\n",
                "SELECT \r\n",
                "    LTRIM('   SQL Server LTRIM Function') result"
            ],
            "metadata": {
                "azdata_cell_guid": "ec7593a0-9f03-4fb0-95ad-06abb44b6b0a",
                "language": "sql"
            },
            "outputs": [],
            "execution_count": null
        },
        {
            "cell_type": "code",
            "source": [
                "SELECT \r\n",
                "    RTRIM('SQL Server RTRIM Function   ') result"
            ],
            "metadata": {
                "azdata_cell_guid": "6138fbd7-80f9-450a-b56e-49f50555b0c7",
                "tags": [],
                "language": "sql"
            },
            "outputs": [],
            "execution_count": null
        },
        {
            "cell_type": "markdown",
            "source": [
                "**<mark>TRIM()</mark>**\n",
                "\n",
                "\\- Ý nghĩa: Loại bỏ khoảng trắng hoặc các ký tự được chỉ định khỏi cả hai đầu của một chuỗi\n",
                "\n",
                "\\- Cú pháp:\n",
                "\n",
                "> TRIM(\\[removed\\_characters FROM\\] input\\_string)\n",
                "\n",
                "Trong cú pháp này:\n",
                "\n",
                "- removed\\_characters là một cột chữ, biến hoặc bảng của bất kỳ loại ký tự không phải Large-Object (NVARCHAR, VARCHAR, NCHAR hoặc CHAR) chứa các ký tự sẽ bị xóa. Lưu ý rằng loại NVARCHAR (MAX) và VARCHAR (MAX) không được phép. Đối số remove\\_characters là tùy chọn. Nếu bạn bỏ qua, hàm TRIM () sẽ trả về một chuỗi sau khi cắt bớt tất cả các khoảng trắng đầu và cuối từ input\\_string. Nó có tác dụng tương tự như sử dụng cả hàm LTRIM () và RTRIM (): RTRIM (LTRIM (input\\_string).\n",
                "- input\\_string là một biểu thức của bất kỳ loại ký tự nào (NVARCHAR, VARCHAR, NCHAR hoặc CHAR) trong đó các ký tự loại bỏ sẽ được loại bỏ.\n",
                "\n",
                "Hàm TRIM () trả về một chuỗi trong đó các ký tự loại bỏ được xóa khỏi cả hai bên trái và phải. Nó trả về NULL nếu input\\_string là NULL."
            ],
            "metadata": {
                "azdata_cell_guid": "e288809d-c957-4278-8bb3-cf1c74dfb115"
            },
            "attachments": {}
        },
        {
            "cell_type": "code",
            "source": [
                "-- A) Xóa các khoảng trắng ở đầu và cuối khỏi một chuỗi\r\n",
                "SELECT \r\n",
                "    TRIM('  Test string    ')"
            ],
            "metadata": {
                "azdata_cell_guid": "71df7138-cc1a-4afc-9881-fa29a515be5b",
                "language": "sql"
            },
            "outputs": [],
            "execution_count": null
        },
        {
            "cell_type": "code",
            "source": [
                "-- B) Sử dụng hàm TRIM () để xóa các ký tự được chỉ định từ cả hai phía của một chuỗi\r\n",
                "SELECT \r\n",
                "    TRIM('.$' FROM '$$$Hello..') result"
            ],
            "metadata": {
                "azdata_cell_guid": "a6be10d9-61a8-4fb7-928e-b8b3cce15958",
                "language": "sql"
            },
            "outputs": [],
            "execution_count": null
        },
        {
            "cell_type": "markdown",
            "source": [
                "**<mark>REPLACE()</mark>**\n",
                "\n",
                "\\- Ý nghĩa: Để thay thế tất cả các lần xuất hiện của một chuỗi con trong một chuỗi bằng một chuỗi con mới\n",
                "\n",
                "\\- Cú pháp:\n",
                "\n",
                "> REPLACE(input\\_string, substring, new\\_substring)\n",
                "\n",
                "Trong cú pháp này:\n",
                "\n",
                "- input\\_string là bất kỳ biểu thức chuỗi nào được tìm kiếm.\n",
                "- substring là chuỗi con được thay thế.\n",
                "- new\\_substring là chuỗi thay thế.\n",
                "\n",
                "Hàm REPLACE () trả về một chuỗi mới trong đó tất cả các lần xuất hiện của chuỗi con được thay thế bởi new\\_substring. Nó trả về NULL nếu bất kỳ đối số nào là NULL."
            ],
            "metadata": {
                "azdata_cell_guid": "b9c94c29-c4a1-41e4-af21-0b87ebb7ca4b"
            },
            "attachments": {}
        },
        {
            "cell_type": "code",
            "source": [
                "-- A) Sử dụng hàm REPLACE () với các chuỗi ký tự\r\n",
                "SELECT \r\n",
                "    REPLACE(\r\n",
                "        'It is a good tea at the famous tea store.', \r\n",
                "        'tea', \r\n",
                "        'coffee'\r\n",
                "    ) result"
            ],
            "metadata": {
                "azdata_cell_guid": "61e4a87d-aa69-4a60-8e4b-e223c918962e",
                "language": "sql"
            },
            "outputs": [],
            "execution_count": null
        },
        {
            "cell_type": "code",
            "source": [
                "-- B) Sử dụng hàm REPLACE () với các cột trong bảng\r\n",
                "SELECT    \r\n",
                "\tfirst_name, \r\n",
                "\tlast_name, \r\n",
                "\tphone, \r\n",
                "\tREPLACE(REPLACE(phone, '(', ''), ')', '') phone_formatted\r\n",
                "FROM    \r\n",
                "\tsales.customers\r\n",
                "WHERE phone IS NOT NULL\r\n",
                "ORDER BY \r\n",
                "\tfirst_name, \r\n",
                "\tlast_name"
            ],
            "metadata": {
                "azdata_cell_guid": "3eebcc5a-cb0b-4277-bef8-e966f2881a1b",
                "language": "sql"
            },
            "outputs": [],
            "execution_count": null
        },
        {
            "cell_type": "markdown",
            "source": [
                "**<mark>SUBSTRING()</mark>**\n",
                "\n",
                "\\- Ý nghĩa: Trích xuất một chuỗi con có độ dài được chỉ định bắt đầu từ một vị trí trong chuỗi đầu vào\n",
                "\n",
                "\\- Cú pháp:\n",
                "\n",
                "> SUBSTRING(input\\_string, start, length)\n",
                "\n",
                "Trong cú pháp này:\n",
                "\n",
                "- input\\_string có thể là một ký tự, nhị phân, văn bản, ntext hoặc biểu thức hình ảnh.\n",
                "- start là một số nguyên chỉ định vị trí bắt đầu chuỗi con trả về. Lưu ý rằng ký tự đầu tiên trong input\\_string là 1, không phải là 0.\n",
                "- length là một số nguyên dương xác định số ký tự của chuỗi con được trả về. Hàm SUBSTRING () phát sinh lỗi nếu độ dài là âm. Nếu start + length\\> độ dài của input\\_string, chuỗi con sẽ bắt đầu ở đầu và bao gồm các ký tự còn lại của input\\_string."
            ],
            "metadata": {
                "azdata_cell_guid": "d5c6b3e3-32cb-4f38-b540-cd0e4080055f"
            },
            "attachments": {}
        },
        {
            "cell_type": "code",
            "source": [
                "-- A) Sử dụng hàm SUBSTRING () với các chuỗi ký tự\r\n",
                "SELECT \r\n",
                "    SUBSTRING('SQL Server SUBSTRING', 5, 6) result"
            ],
            "metadata": {
                "azdata_cell_guid": "677ea08f-1eef-46cb-b5ee-8ac323573f1a",
                "language": "sql"
            },
            "outputs": [],
            "execution_count": null
        },
        {
            "cell_type": "code",
            "source": [
                "-- B) Sử dụng hàm SUBSTRING () với các cột trong bảng\r\n",
                "SELECT \r\n",
                "    email, \r\n",
                "    SUBSTRING(\r\n",
                "        email, \r\n",
                "        CHARINDEX('@', email)+1, \r\n",
                "        LEN(email)-CHARINDEX('@', email)\r\n",
                "    ) domain\r\n",
                "FROM \r\n",
                "    sales.customers\r\n",
                "ORDER BY \r\n",
                "    email"
            ],
            "metadata": {
                "azdata_cell_guid": "5b150ba8-3800-4f46-a0bd-cda4f214f545",
                "language": "sql"
            },
            "outputs": [],
            "execution_count": null
        },
        {
            "cell_type": "code",
            "source": [
                "SELECT \r\n",
                "    SUBSTRING(\r\n",
                "        email, \r\n",
                "        CHARINDEX('@', email)+1, \r\n",
                "        LEN(email)-CHARINDEX('@', email)\r\n",
                "    ) domain,\r\n",
                "    COUNT(email) domain_count\r\n",
                "FROM \r\n",
                "    sales.customers\r\n",
                "GROUP BY\r\n",
                "    SUBSTRING(\r\n",
                "            email, \r\n",
                "            CHARINDEX('@', email)+1, \r\n",
                "            LEN(email)-CHARINDEX('@', email)\r\n",
                "        )"
            ],
            "metadata": {
                "azdata_cell_guid": "d491678d-9353-44a7-830b-414868e38991",
                "language": "sql"
            },
            "outputs": [],
            "execution_count": null
        },
        {
            "cell_type": "markdown",
            "source": [
                "**<mark>LOWER() / UPPER()</mark>**\n",
                "\n",
                "\\- Ý nghĩa: chuyển đổi một chuỗi thành chữ thường (LOWER) hoặc chữ hoa (UPPER)\n",
                "\n",
                "\\- Cú pháp:\n",
                "\n",
                "> LOWER(input\\_string)\n",
                "> \n",
                "> UPPER(input\\_string)\n",
                "\n",
                "Trong cú pháp này, input\\_string có thể là một chuỗi ký tự chữ, biến, biểu thức chuỗi ký tự hoặc cột bảng.\n",
                "\n",
                "Loại input\\_string phải được chuyển đổi hoàn toàn thành VARCHAR. Nếu không, bạn phải sử dụng hàm CAST () để chuyển đổi input\\_string một cách rõ ràng."
            ],
            "metadata": {
                "azdata_cell_guid": "7279148a-6a01-474e-9553-95b0a5fcd6d2"
            },
            "attachments": {}
        },
        {
            "cell_type": "code",
            "source": [
                "-- A) Sử dụng hàm LOWER() / UPPER() với các chuỗi ký tự\r\n",
                "SELECT \r\n",
                "    LOWER('TEST') result"
            ],
            "metadata": {
                "azdata_cell_guid": "b6b398d3-2c55-4c34-a71e-253fc4b19afb",
                "language": "sql"
            },
            "outputs": [],
            "execution_count": null
        },
        {
            "cell_type": "code",
            "source": [
                "SELECT \r\n",
                "    UPPER('sql') result"
            ],
            "metadata": {
                "azdata_cell_guid": "4386956f-266a-47e1-89c0-d3220e984036",
                "language": "sql"
            },
            "outputs": [],
            "execution_count": null
        },
        {
            "cell_type": "code",
            "source": [
                "-- B) Sử dụng hàm LOWER() / UPPER() với cột bảng\r\n",
                "SELECT \r\n",
                "    first_name, \r\n",
                "    last_name, \r\n",
                "    CONCAT_WS(\r\n",
                "        ' ', \r\n",
                "        LOWER(first_name), \r\n",
                "        LOWER(last_name)\r\n",
                "    ) full_name_lowercase\r\n",
                "FROM \r\n",
                "    sales.customers\r\n",
                "ORDER BY \r\n",
                "    first_name, \r\n",
                "    last_name"
            ],
            "metadata": {
                "azdata_cell_guid": "04d10d34-bb02-41c7-86a1-6a45c8109c6f",
                "language": "sql"
            },
            "outputs": [],
            "execution_count": null
        },
        {
            "cell_type": "code",
            "source": [
                "SELECT \r\n",
                "    product_name, \r\n",
                "    UPPER(product_name) product_name_upper\r\n",
                "FROM \r\n",
                "    production.products\r\n",
                "ORDER BY \r\n",
                "    product_name"
            ],
            "metadata": {
                "azdata_cell_guid": "836ff6a4-d5b1-473c-adb5-4e1555ec2991",
                "language": "sql"
            },
            "outputs": [],
            "execution_count": null
        },
        {
            "cell_type": "markdown",
            "source": [
                "## **<mark>Các hàm xử lí thời gian</mark>**"
            ],
            "metadata": {
                "azdata_cell_guid": "dff1dd3d-5122-43a3-b903-9411410c1a4e"
            },
            "attachments": {}
        },
        {
            "cell_type": "markdown",
            "source": [
                "[Date and Time Data Types and Functions - SQL Server (Transact-SQL) | Microsoft Docs](https://docs.microsoft.com/en-us/sql/t-sql/functions/date-and-time-data-types-and-functions-transact-sql?view=sql-server-ver15)"
            ],
            "metadata": {
                "azdata_cell_guid": "999f63d6-147a-4a1d-af2e-1c1a054944aa"
            },
            "attachments": {}
        },
        {
            "cell_type": "markdown",
            "source": [
                "### **<mark>1.  Các hàm trả về ngày và giờ hiện tại</mark>**"
            ],
            "metadata": {
                "azdata_cell_guid": "75bd1851-eac3-4a81-8a57-b9ce5c32603c"
            },
            "attachments": {}
        },
        {
            "cell_type": "code",
            "source": [
                "SELECT \r\n",
                "    CURRENT_TIMESTAMP AS [CURRENT_TIMESTAMP] -- Trả về ngày và giờ hệ thống hiện tại mà không có phần múi giờ\r\n",
                "    ,GETUTCDATE() AS [GETUTCDATE] -- Trả về ngày và giờ UTC của hệ thống hiện tại mà không có phần múi giờ\r\n",
                "    ,GETDATE() AS [GETDATE] -- Trả về ngày và giờ hệ thống hiện tại mà không có phần múi giờ\r\n",
                "    ,SYSDATETIME() AS [SYSDATETIME] -- Trả về ngày và giờ của hệ thống hiện tại với độ chính xác giây phân số nhiều hơn so với hàm GETDATE ().\r\n",
                "    ,SYSUTCDATETIME() AS [SYSUTCDATETIME] -- Trả về ngày và giờ UTC của hệ thống hiện tại với độ chính xác giây phân số nhiều hơn so với hàm GETDATE ().\r\n",
                "    ,SYSDATETIMEOFFSET() AS [SYSDATETIMEOFFSET] -- Trả về ngày và giờ và múi giờ của hệ thống hiện tại với độ chính xác giây phân số nhiều hơn so với hàm GETDATE ()."
            ],
            "metadata": {
                "azdata_cell_guid": "f2476835-5ade-4a78-8516-5b5910bf9e30",
                "tags": [],
                "language": "sql"
            },
            "outputs": [],
            "execution_count": null
        },
        {
            "cell_type": "markdown",
            "source": [
                "### **<mark>2\\. Các hàm trả về phần ngày và giờ</mark>**"
            ],
            "metadata": {
                "azdata_cell_guid": "33d5358e-3a2d-41fe-9b96-0d2f08a96c9a"
            },
            "attachments": {}
        },
        {
            "cell_type": "markdown",
            "source": [
                "**<mark>DATENAME() và DATEPART()</mark>**\n",
                "\n",
                "\\- Ý nghĩa: Trả về một phần ngày của ngày dưới dạng một chuỗi ký tự (DATENAME) hoặc dưới dạng số nguyên (DATEPART)\n",
                "\n",
                "\\- Cú pháp: \n",
                "\n",
                "> DATENAME( date\\_part, input\\_date )\n",
                "> \n",
                "> DATEPART( date\\_part, input\\_date )\n",
                "\n",
                "Trong đó:\n",
                "\n",
                "- date\\_part là một phần của ngày tháng sẽ được trích xuất. (Xem chi tiết trong [DATENAME (Transact-SQL) - SQL Server | Microsoft Docs](https://docs.microsoft.com/en-us/sql/t-sql/functions/datename-transact-sql?view=sql-server-ver15)).\n",
                "- input\\_date là ngày mà phần ngày tháng được trích xuất."
            ],
            "metadata": {
                "azdata_cell_guid": "f70020a5-ad35-48c3-9d9e-f555a6f2fe42"
            },
            "attachments": {}
        },
        {
            "cell_type": "code",
            "source": [
                "SELECT\r\n",
                "    DATEPART(year, '2018-05-10') [datepart], \r\n",
                "    DATENAME(year, '2018-05-10') [datename]"
            ],
            "metadata": {
                "azdata_cell_guid": "98803b8c-626e-4151-8ecd-d5d27d8a80c4",
                "language": "sql"
            },
            "outputs": [],
            "execution_count": null
        },
        {
            "cell_type": "code",
            "source": [
                "SELECT\r\n",
                "    DATEPART(year, '2018-05-10') + '1' [datepart], \r\n",
                "    DATENAME(year, '2018-05-10') + '1' [datename]"
            ],
            "metadata": {
                "azdata_cell_guid": "b50b8fbb-5827-4f58-93cb-f1aa06893e7e",
                "tags": [],
                "language": "sql"
            },
            "outputs": [],
            "execution_count": null
        },
        {
            "cell_type": "code",
            "source": [
                "DECLARE @dt DATETIME2 = SYSDATETIME();\r\n",
                "\r\n",
                "SELECT \r\n",
                "    'year,yyy,yy' date_part\r\n",
                "    ,DATENAME(year, @dt) result_dn\r\n",
                "    ,DATEPART(year, @dt) result_dp\r\n",
                "\r\n",
                "UNION\r\n",
                "\r\n",
                "SELECT \r\n",
                "    'quarter, qq, q'\r\n",
                "    ,DATENAME(quarter, @dt)\r\n",
                "    ,DATEPART(quarter, @dt)\r\n",
                "\r\n",
                "UNION\r\n",
                "\r\n",
                "SELECT \r\n",
                "    'month, mm, m'\r\n",
                "    ,DATENAME(month, @dt)\r\n",
                "    ,DATEPART(month, @dt)\r\n",
                "\r\n",
                "UNION\r\n",
                "\r\n",
                "SELECT \r\n",
                "    'dayofyear, dy, y'\r\n",
                "    ,DATENAME(dayofyear, @dt)\r\n",
                "    ,DATEPART(dayofyear, @dt)\r\n",
                "\r\n",
                "UNION\r\n",
                "\r\n",
                "SELECT \r\n",
                "    'day, dd, d'\r\n",
                "    ,DATENAME(day, @dt)\r\n",
                "    ,DATEPART(day, @dt)\r\n",
                "\r\n",
                "UNION\r\n",
                "\r\n",
                "SELECT \r\n",
                "    'week, wk, ww'\r\n",
                "    ,DATENAME(week, @dt)\r\n",
                "    ,DATEPART(week, @dt)\r\n",
                "\r\n",
                "UNION\r\n",
                "\r\n",
                "SELECT \r\n",
                "    'weekday, dw, w'\r\n",
                "    ,DATENAME(weekday, @dt)\r\n",
                "    ,DATEPART(weekday, @dt)\r\n",
                "\r\n",
                "UNION\r\n",
                "\r\n",
                "SELECT \r\n",
                "    'hour, hh' date_part\r\n",
                "    ,DATENAME(hour, @dt)\r\n",
                "    ,DATEPART(hour, @dt)\r\n",
                "\r\n",
                "UNION\r\n",
                "\r\n",
                "SELECT \r\n",
                "    'minute, mi,n'\r\n",
                "    ,DATENAME(minute, @dt)\r\n",
                "    ,DATEPART(minute, @dt)\r\n",
                "\r\n",
                "UNION\r\n",
                "\r\n",
                "SELECT \r\n",
                "    'second, ss, s'\r\n",
                "    ,DATENAME(second, @dt)\r\n",
                "    ,DATEPART(second, @dt)\r\n",
                "\r\n",
                "UNION\r\n",
                "\r\n",
                "SELECT \r\n",
                "    'millisecond, ms'\r\n",
                "    ,DATENAME(millisecond, @dt)\r\n",
                "    ,DATEPART(millisecond, @dt)\r\n",
                "\r\n",
                "UNION\r\n",
                "\r\n",
                "SELECT \r\n",
                "    'microsecond, mcs'\r\n",
                "    ,DATENAME(microsecond, @dt)\r\n",
                "    ,DATEPART(microsecond, @dt)\r\n",
                "\r\n",
                "UNION\r\n",
                "\r\n",
                "SELECT \r\n",
                "    'nanosecond, ns' \r\n",
                "    ,DATENAME(nanosecond, @dt)\r\n",
                "    ,DATEPART(nanosecond, @dt)\r\n",
                "\r\n",
                "UNION\r\n",
                "\r\n",
                "SELECT \r\n",
                "    'TZoffset, tz'\r\n",
                "    ,DATENAME(tz, @dt)\r\n",
                "    ,DATEPART(tz, @dt)\r\n",
                "\r\n",
                "UNION\r\n",
                "\r\n",
                "SELECT \r\n",
                "    'ISO_WEEK, ISOWK, ISOWW'\r\n",
                "    ,DATENAME(ISO_WEEK, @dt)\r\n",
                "    ,DATEPART(ISO_WEEK, @dt)"
            ],
            "metadata": {
                "azdata_cell_guid": "a506c40c-bf5c-4511-a602-f6045eafdcfe",
                "tags": [
                    "hide_input"
                ],
                "language": "sql"
            },
            "outputs": [],
            "execution_count": null
        },
        {
            "cell_type": "code",
            "source": [
                "-- Ví dụ sau sử dụng hàm DATEPART () để truy vấn tổng doanh thu theo năm, quý, tháng và ngày.\r\n",
                "SELECT DATEPART(year, shipped_date) [year], \r\n",
                "       DATEPART(quarter, shipped_date) [quarter], \r\n",
                "       DATEPART(month, shipped_date) [month], \r\n",
                "       DATEPART(day, shipped_date) [day], \r\n",
                "       SUM(quantity * list_price) [gross_sales]\r\n",
                "FROM sales.orders o\r\n",
                "     INNER JOIN sales.order_items i ON i.order_id = o.order_id\r\n",
                "WHERE shipped_date IS NOT NULL\r\n",
                "GROUP BY DATEPART(year, shipped_date), \r\n",
                "         DATEPART(quarter, shipped_date), \r\n",
                "         DATEPART(month, shipped_date), \r\n",
                "         DATEPART(day, shipped_date)\r\n",
                "ORDER BY [year] DESC, \r\n",
                "         [quarter] ASC,\r\n",
                "         [month] ASC,\r\n",
                "         [day] ASC"
            ],
            "metadata": {
                "azdata_cell_guid": "b8db0b85-13bb-41d7-8368-ad619dc9f51d",
                "language": "sql"
            },
            "outputs": [],
            "execution_count": null
        },
        {
            "cell_type": "markdown",
            "source": [
                "**<mark>DAY() / MONTH() / YEAR()</mark>**"
            ],
            "metadata": {
                "azdata_cell_guid": "88c3d0f2-a4a2-420d-8765-cb12e5208845"
            },
            "attachments": {}
        },
        {
            "cell_type": "code",
            "source": [
                "SELECT\r\n",
                "    DAY(GETDATE()) AS [DAY]\r\n",
                "    ,MONTH(GETDATE()) AS [MONTH]\r\n",
                "    ,YEAR(GETDATE()) AS [YEAR]"
            ],
            "metadata": {
                "azdata_cell_guid": "d7f40676-2e9e-4243-95a9-f3ba6f78c27f",
                "language": "sql"
            },
            "outputs": [],
            "execution_count": null
        },
        {
            "cell_type": "markdown",
            "source": [
                "### **<mark>3\\. Hàm trả về sự khác biệt giữa hai ngày</mark>**"
            ],
            "metadata": {
                "azdata_cell_guid": "33ef2971-194e-4d2a-8524-f173e9119b1c"
            },
            "attachments": {}
        },
        {
            "cell_type": "markdown",
            "source": [
                "**<mark>DATEDIFF()</mark>**\n",
                "\n",
                "\\- Ý nghĩa: Tính toán số năm, tháng, tuần, ngày, v.v., giữa hai ngày.\n",
                "\n",
                "\\- Cú pháp:\n",
                "\n",
                "> DATEDIFF( date\\_part , start\\_date , end\\_date)\n",
                "\n",
                "Trong đó:\n",
                "\n",
                "- date\\_part là một phần của ngày, ví dụ: một năm, một quý, một tháng, một tuần mà bạn muốn so sánh giữa start\\_date và end\\_date. (Xem chi tiết: [DATEDIFF (Transact-SQL) - SQL Server | Microsoft Docs](https://docs.microsoft.com/en-us/sql/t-sql/functions/datediff-transact-sql?view=sql-server-ver15))\n",
                "- start\\_date và end\\_date là những ngày được so sánh. Chúng phải được phân giải thành các giá trị kiểu DATE, DATETIME, DATETIMEOFFSET, DATETIME2, SMALLATETIME hoặc TIME."
            ],
            "metadata": {
                "azdata_cell_guid": "94448fdb-7e70-4577-b227-02fbdafb7806"
            },
            "attachments": {}
        },
        {
            "cell_type": "code",
            "source": [
                "DECLARE \r\n",
                "    @start_dt DATETIME2= '2021-12-31 23:59:59.9999999', \r\n",
                "    @end_dt DATETIME2= '2022-01-01 00:00:00.0000000';\r\n",
                "\r\n",
                "SELECT \r\n",
                "    DATEDIFF(year, @start_dt, @end_dt) diff_in_year, \r\n",
                "    DATEDIFF(quarter, @start_dt, @end_dt) diff_in_quarter, \r\n",
                "    DATEDIFF(month, @start_dt, @end_dt) diff_in_month, \r\n",
                "    DATEDIFF(dayofyear, @start_dt, @end_dt) diff_in_dayofyear, \r\n",
                "    DATEDIFF(day, @start_dt, @end_dt) diff_in_day, \r\n",
                "    DATEDIFF(week, @start_dt, @end_dt) diff_in_week, \r\n",
                "    DATEDIFF(hour, @start_dt, @end_dt) diff_in_hour, \r\n",
                "    DATEDIFF(minute, @start_dt, @end_dt) diff_in_minute, \r\n",
                "    DATEDIFF(second, @start_dt, @end_dt) diff_in_second, \r\n",
                "    DATEDIFF(millisecond, @start_dt, @end_dt) diff_in_millisecond;"
            ],
            "metadata": {
                "azdata_cell_guid": "8144a765-2348-4c2f-9f15-eb884e0c0650",
                "language": "sql"
            },
            "outputs": [],
            "execution_count": null
        },
        {
            "cell_type": "markdown",
            "source": [
                "### **<mark>4. Các hàm sửa đổi giá trị ngày và giờ</mark>**"
            ],
            "metadata": {
                "azdata_cell_guid": "35edd1f3-fb32-494f-adfb-07e67455b689"
            },
            "attachments": {}
        },
        {
            "cell_type": "markdown",
            "source": [
                "**<mark>DATEADD()</mark>**\n",
                "\n",
                "\\- Ý nghĩa: Thêm một giá trị vào một phần ngày của ngày và trả về giá trị ngày mới.\n",
                "\n",
                "\\- Cú pháp:\n",
                "\n",
                "> DATEADD (date\\_part , value , input\\_date )\n",
                "\n",
                "Trong đó:\n",
                "\n",
                "- date\\_part là phần ngày mà hàm DATEADD () sẽ thêm giá trị. (Xem thêm [DATEADD (Transact-SQL) - SQL Server | Microsoft Docs](https://docs.microsoft.com/en-us/sql/t-sql/functions/dateadd-transact-sql?view=sql-server-ver15))\n",
                "- value là một số nguyên được thêm vào phần ngày tháng của input\\_date. Nếu giá trị là số thập phân hoặc số thực, thì hàm DATEADD () sẽ cắt bớt phần thập phân. Nó sẽ không làm tròn số trong trường hợp này.\n",
                "- input\\_date là một giá trị ngày theo nghĩa đen hoặc một biểu thức có thể phân giải thành giá trị thuộc loại DATE, DATETIME, DATETIMEOFFSET, DATETIME2, SMALLATETIME hoặc TIME"
            ],
            "metadata": {
                "azdata_cell_guid": "b9267e77-b173-49b5-99c1-114dfc1decb4"
            },
            "attachments": {}
        },
        {
            "cell_type": "code",
            "source": [
                "SELECT \r\n",
                "    DATEADD(day, 1, getdate()) result;"
            ],
            "metadata": {
                "azdata_cell_guid": "5dcc72dd-4036-455f-a433-51b9c4815100",
                "tags": [],
                "language": "sql"
            },
            "outputs": [],
            "execution_count": null
        },
        {
            "cell_type": "code",
            "source": [
                "-- Ví dụ này sử dụng hàm DATEADD () để tính ngày vận chuyển ước tính dựa trên ngày đã đặt hàng:\r\n",
                "SELECT \r\n",
                "    order_id, \r\n",
                "    customer_id, \r\n",
                "    order_date,\r\n",
                "    DATEADD(day, 2, order_date) estimated_shipped_date\r\n",
                "FROM \r\n",
                "    sales.orders\r\n",
                "WHERE \r\n",
                "    shipped_date IS NULL\r\n",
                "ORDER BY \r\n",
                "    estimated_shipped_date DESC;"
            ],
            "metadata": {
                "azdata_cell_guid": "41d1bb6f-f87d-4f85-af95-396ab66daa9f",
                "language": "sql"
            },
            "outputs": [],
            "execution_count": null
        },
        {
            "cell_type": "code",
            "source": [
                "SELECT \n",
                "    DATEADD(month, -1, '2022-01-31') AS result"
            ],
            "metadata": {
                "azdata_cell_guid": "fe73dd51-a155-423a-80b7-d99151b657a3",
                "language": "sql"
            },
            "outputs": [],
            "execution_count": null
        },
        {
            "cell_type": "markdown",
            "source": [
                "**<mark>EOMONTH()</mark>**\n",
                "\n",
                "\\- Ý nghĩa: Trả về ngày cuối cùng của tháng có chứa ngày được chỉ định, với một khoảng chênh lệch tùy chọn (offset).\n",
                "\n",
                "\\- Cú pháp: \n",
                "\n",
                "> EOMONTH(start\\_date \\[, offset\\] )\n",
                "\n",
                "Trong đó:\n",
                "\n",
                "- start\\_date là một biểu thức ngày tháng đánh giá một ngày tháng. Hàm EOMONTH () trả về ngày cuối cùng của tháng cho ngày này.\n",
                "- offset là một số nguyên chỉ định số tháng cần thêm vào start\\_date.\n",
                "\n",
                "Nếu việc thêm offset và start\\_date dẫn đến một ngày không hợp lệ, thì hàm EOMONTH () sẽ gây ra lỗi."
            ],
            "metadata": {
                "azdata_cell_guid": "f03d91fa-ad0d-43ba-acc5-b77283206e13"
            },
            "attachments": {}
        },
        {
            "cell_type": "code",
            "source": [
                "-- A) Sử dụng hàm EOMONTH () cho một ngày\r\n",
                "SELECT \r\n",
                "    EOMONTH('2022-03-28') end_of_month_mar2022"
            ],
            "metadata": {
                "azdata_cell_guid": "603e03ee-96f9-42b5-b7c8-32c5af020c1e",
                "language": "sql"
            },
            "outputs": [],
            "execution_count": null
        },
        {
            "cell_type": "code",
            "source": [
                "-- B) Sử dụng hàm EOMONTH () để lấy số ngày trong một tháng cụ thể\r\n",
                "SELECT \r\n",
                "    DAY(EOMONTH('2022-03-28')) days"
            ],
            "metadata": {
                "azdata_cell_guid": "e8db6ada-9111-49ce-94ae-cec299115d78",
                "language": "sql"
            },
            "outputs": [],
            "execution_count": null
        },
        {
            "cell_type": "code",
            "source": [
                "-- C) Sử dụng EOMONTH () với một khoảng chênh lệch tùy chọn\r\n",
                "SELECT \r\n",
                "    EOMONTH('2022-03-28', 2) eomonth_next_2_months;"
            ],
            "metadata": {
                "azdata_cell_guid": "ca6620b7-ec38-49e1-bf8f-f7eda42a289b",
                "tags": [],
                "language": "sql"
            },
            "outputs": [],
            "execution_count": null
        },
        {
            "cell_type": "markdown",
            "source": [
                "### **<mark>5\\. Các hàm tạo giá trị ngày và giờ từ các phần thời gian</mark>**"
            ],
            "metadata": {
                "azdata_cell_guid": "4b41f15e-8ad5-4622-afb4-fa63c120518e"
            },
            "attachments": {}
        },
        {
            "cell_type": "markdown",
            "source": [
                "**<mark>DATEFROMPART()</mark>**\n",
                "\n",
                "\\- Ý nghĩa: Trả về giá trị DATE từ năm, tháng và ngày\n",
                "\n",
                "\\- Cú pháp:\n",
                "\n",
                "> DATEFROMPARTS(year, month, day)\n",
                "\n",
                "Trong đó:\n",
                "\n",
                "- year là một biểu thức số nguyên phân giải thành một năm\n",
                "- tháng là một biểu thức số nguyên đánh giá một tháng nằm trong khoảng từ 1 đến 12.\n",
                "- day là một biểu thức số nguyên chỉ định một ngày, nằm trong khoảng từ 1 đến 31\n",
                "\n",
                "Hàm DATEFROMPARTS () trả về giá trị DATE. Nếu bất kỳ đối số nào là NULL, hàm sẽ trả về NULL."
            ],
            "metadata": {
                "azdata_cell_guid": "284b1fed-20fa-437a-a180-2726d25bced7"
            },
            "attachments": {}
        },
        {
            "cell_type": "code",
            "source": [
                "SELECT \r\n",
                "    DATEFROMPARTS(2021,12,31) a_date"
            ],
            "metadata": {
                "azdata_cell_guid": "bff24054-9be2-45c9-8108-f53fe0332974",
                "language": "sql"
            },
            "outputs": [],
            "execution_count": null
        },
        {
            "cell_type": "code",
            "source": [
                "SELECT \r\n",
                "    DATEFROMPARTS(2021,null,31) a_date"
            ],
            "metadata": {
                "azdata_cell_guid": "6d416cc6-c22f-40de-a50e-55c5b6881c0f",
                "language": "sql"
            },
            "outputs": [],
            "execution_count": null
        },
        {
            "cell_type": "code",
            "source": [
                "SELECT \r\n",
                "    DATEFROMPARTS(2021,20,-1) a_date"
            ],
            "metadata": {
                "azdata_cell_guid": "a7021efb-f414-4085-9527-fe602451bb46",
                "language": "sql"
            },
            "outputs": [],
            "execution_count": null
        },
        {
            "cell_type": "markdown",
            "source": [
                "**<mark>TIMEFROMPART()</mark>**\n",
                "\n",
                "\\- Ý nghĩa: Trả về giá trị TIME từ các phần thời gian với các phân vùng\n",
                "\n",
                "\\- Cú pháp:\n",
                "\n",
                "> TIMEFROMPARTS ( hour, minute, seconds, fractions, precision ) \n",
                "\n",
                "Trong đó:\n",
                "\n",
                "- hour - chỉ định giờ.\n",
                "- minute - chỉ định phút.\n",
                "- second - chỉ định giây.\n",
                "- fraction - xác định phân số.\n",
                "- precision - chỉ định độ chính xác của giá trị thời gian. <mark>Độ chính xác không được để trống. Nếu nó là null, hàm sẽ báo lỗi.</mark>"
            ],
            "metadata": {
                "azdata_cell_guid": "9847c4d4-d182-4793-a2eb-0bd55c7ad8e4"
            },
            "attachments": {}
        },
        {
            "cell_type": "code",
            "source": [
                "SELECT \r\n",
                "    TIMEFROMPARTS(23, 59, 59, 0, 0) AS Time"
            ],
            "metadata": {
                "azdata_cell_guid": "ed1e00d6-3e15-447a-b6b8-eacef663e4cd",
                "language": "sql"
            },
            "outputs": [],
            "execution_count": null
        },
        {
            "cell_type": "code",
            "source": [
                "SELECT \r\n",
                "    TIMEFROMPARTS(06, 30, 15, 5, 2) Time"
            ],
            "metadata": {
                "azdata_cell_guid": "a93c1630-f73d-4568-92c5-5a5df9164adc",
                "tags": [],
                "language": "sql"
            },
            "outputs": [],
            "execution_count": null
        },
        {
            "cell_type": "markdown",
            "source": [
                "## **<mark>Các hàm chuyển đổi</mark>**"
            ],
            "metadata": {
                "azdata_cell_guid": "637cfcbb-558d-4130-b97e-4c67e31b2b51"
            },
            "attachments": {}
        },
        {
            "cell_type": "code",
            "source": [
                "SELECT 1 + '1' AS result"
            ],
            "metadata": {
                "azdata_cell_guid": "a46f4278-2e37-4515-a02a-909be849af17",
                "language": "sql"
            },
            "outputs": [],
            "execution_count": null
        },
        {
            "cell_type": "markdown",
            "source": [
                "[CAST and CONVERT (Transact-SQL) - SQL Server | Microsoft Docs](https://docs.microsoft.com/en-us/sql/t-sql/functions/cast-and-convert-transact-sql?view=sql-server-ver15)"
            ],
            "metadata": {
                "azdata_cell_guid": "02dde032-c373-4f9d-b187-08036147b787"
            },
            "attachments": {}
        },
        {
            "cell_type": "markdown",
            "source": [
                "**<mark>CAST()</mark>**\n",
                "\n",
                "\\- Ý nghĩa: Chuyển đổi một giá trị hoặc một biểu thức từ kiểu này sang kiểu khác.\n",
                "\n",
                "\\- Cú pháp:\n",
                "\n",
                "> CAST ( expression AS target\\_type \\[ ( length ) \\] ) \n",
                "\n",
                "Trong cú pháp này:\n",
                "\n",
                "- expression có thể là một giá trị chữ hoặc một biểu thức hợp lệ của bất kỳ loại nào sẽ được chuyển đổi.\n",
                "- target\\_type là kiểu dữ liệu đích mà bạn muốn chuyển đổi biểu thức. Nó bao gồm INT, BIT, SQL\\_VARIANT, v.v. Lưu ý rằng nó không thể là kiểu dữ liệu bí danh.\n",
                "- length là một số nguyên tùy chọn chỉ định độ dài của kiểu đích. Độ dài mặc định là 30."
            ],
            "metadata": {
                "azdata_cell_guid": "4badcb2c-60f4-4d02-9a2e-dd0a4156f3dc"
            },
            "attachments": {}
        },
        {
            "cell_type": "code",
            "source": [
                "-- Ví dụ này sử dụng hàm CAST () để chuyển đổi số thập phân 5.95 thành số nguyên:\r\n",
                "SELECT CAST(5.95 AS INT) result"
            ],
            "metadata": {
                "azdata_cell_guid": "9aabcb3c-8ea7-46e6-a7fe-4f3f990dfd7b",
                "language": "sql"
            },
            "outputs": [],
            "execution_count": null
        },
        {
            "cell_type": "code",
            "source": [
                "-- Sử dụng hàm CAST () để chuyển đổi một số thập phân sang một số thập phân khác có độ dài khác\r\n",
                "SELECT CAST(5.95 AS DEC(3,0)) result"
            ],
            "metadata": {
                "azdata_cell_guid": "b0546f3b-57d4-4481-b1c5-728dd25801e0",
                "language": "sql"
            },
            "outputs": [],
            "execution_count": null
        },
        {
            "cell_type": "code",
            "source": [
                "-- Sử dụng hàm CAST () để chuyển đổi một chuỗi thành một ví dụ về giá trị datetime\r\n",
                "SELECT \r\n",
                "    CAST('2019-03-14' AS DATETIME) result"
            ],
            "metadata": {
                "azdata_cell_guid": "36de4ace-978e-4d20-81e8-1c1e1abab87f",
                "language": "sql"
            },
            "outputs": [],
            "execution_count": null
        },
        {
            "cell_type": "code",
            "source": [
                "-- Sử dụng hàm CAST () với các toán tử số học\r\n",
                "SELECT \r\n",
                "    MONTH(order_date) month, \r\n",
                "    CAST(SUM(quantity * list_price * (1 - discount)) AS INT) amount\r\n",
                "FROM sales.orders o\r\n",
                "    INNER JOIN sales.order_items i ON o.order_id = i.order_id\r\n",
                "WHERE \r\n",
                "    YEAR(order_date) = 2017\r\n",
                "GROUP BY \r\n",
                "    MONTH(order_date)\r\n",
                "ORDER BY \r\n",
                "    month"
            ],
            "metadata": {
                "azdata_cell_guid": "4d3f1eab-178b-4901-ac31-f0d90284abf6",
                "language": "sql"
            },
            "outputs": [],
            "execution_count": null
        },
        {
            "cell_type": "markdown",
            "source": [
                "**<mark>CONVERT()</mark>**\n",
                "\n",
                "\\- Ý nghĩa: Tương tự CAST()\n",
                "\n",
                "\\- Cú pháp:\n",
                "\n",
                "> CONVERT ( target\\_type \\[ ( length ) \\] , expression \\[ , style \\] )  \n",
                "\n",
                "Trong cú pháp này:\n",
                "\n",
                "- target\\_type là kiểu dữ liệu đích mà bạn muốn chuyển đổi biểu thức. Nó bao gồm INT, BIT, SQL\\_VARIANT, v.v. Lưu ý rằng nó không thể là kiểu dữ liệu bí danh.\n",
                "- length là một số nguyên xác định độ dài của kiểu đích. Độ dài là tùy chọn và mặc định là 30.\n",
                "- expression là một biểu thức hợp lệ của bất kỳ kiểu nào sẽ được chuyển đổi.\n",
                "- style là một số nguyên tùy chọn xác định cách hàm CONVERT () sẽ dịch biểu thức. Nếu kiểu là NULL, hàm CONVERT () sẽ trả về NULL.\n",
                "\n",
                "Hàm CONVERT () trả về giá trị của biểu thức được dịch sang target\\_type với một kiểu được chỉ định."
            ],
            "metadata": {
                "azdata_cell_guid": "dbb69b9a-710e-41f4-99a3-1f23fda301d0"
            },
            "attachments": {}
        },
        {
            "cell_type": "markdown",
            "source": [
                "CONVERT () tương tự như hàm CAST (). Tuy nhiên, nó dành riêng cho SQL Server. Ngược lại, hàm CAST () là một phần của hàm ANSI-SQL, có sẵn rộng rãi trong nhiều sản phẩm cơ sở dữ liệu khác."
            ],
            "metadata": {
                "azdata_cell_guid": "c41095d7-d522-4232-bdfd-109084cb64e6"
            },
            "attachments": {}
        },
        {
            "cell_type": "code",
            "source": [
                "-- Sử dụng hàm CONVERT () để chuyển đổi ví dụ số thập phân thành số nguyên\r\n",
                "SELECT CONVERT(INT, 9.95) result"
            ],
            "metadata": {
                "azdata_cell_guid": "6eb4ce1c-c296-425b-84d9-af2d12d6c6fe",
                "language": "sql"
            },
            "outputs": [],
            "execution_count": null
        },
        {
            "cell_type": "code",
            "source": [
                "-- Sử dụng hàm CONVERT () để chuyển đổi một số thập phân sang một số thập phân khác với ví dụ về độ dài khác nhau\r\n",
                "SELECT CAST(9.95 AS DEC(2,0)) result"
            ],
            "metadata": {
                "azdata_cell_guid": "72c9504c-b9b1-43ab-a236-bea40539a2ff",
                "language": "sql"
            },
            "outputs": [],
            "execution_count": null
        },
        {
            "cell_type": "code",
            "source": [
                "-- Sử dụng hàm CONVERT () để chuyển đổi một chuỗi thành ví dụ về giá trị ngày giờ\r\n",
                "SELECT \r\n",
                "    CONVERT(DATETIME, '2019-03-14') result"
            ],
            "metadata": {
                "azdata_cell_guid": "bc863a26-0551-445c-b6d5-2af456fbfa33",
                "language": "sql"
            },
            "outputs": [],
            "execution_count": null
        },
        {
            "cell_type": "code",
            "source": [
                "-- Sử dụng hàm CONVERT () để chuyển đổi giá trị ngày giờ thành ví dụ về giá trị chuỗi\r\n",
                "SELECT \r\n",
                "    CONVERT(VARCHAR, GETDATE(),13) result"
            ],
            "metadata": {
                "azdata_cell_guid": "70130094-364b-4e22-9097-36f7ff8ea6de",
                "language": "sql"
            },
            "outputs": [],
            "execution_count": null
        },
        {
            "cell_type": "markdown",
            "source": [
                "**<mark>ISNULL()</mark>**\n",
                "\n",
                "\\- Ý nghĩa: Thay thế NULL bằng một giá trị được chỉ định.\n",
                "\n",
                "\\- Cú pháp:\n",
                "\n",
                "> ISNULL(expression, replacement)\n",
                "\n",
                "- expression là một biểu thức của bất kỳ kiểu nào được kiểm tra cho NULL.\n",
                "- replacement là giá trị được trả về nếu biểu thức là NULL. replacement phải được chuyển đổi thành một giá trị của kiểu biểu thức.\n",
                "\n",
                "Hàm ISNULL () trả về giá trị thay thế nếu biểu thức đánh giá là NULL. Trước khi trả về một giá trị, nó sẽ ngầm chuyển đổi kiểu thay thế thành kiểu của biểu thức nếu kiểu của hai đối số khác nhau."
            ],
            "metadata": {
                "azdata_cell_guid": "8022e75f-708b-4724-aa18-0c4f29053449"
            },
            "attachments": {}
        },
        {
            "cell_type": "code",
            "source": [
                "SELECT \r\n",
                "    ISNULL(NULL,20) result"
            ],
            "metadata": {
                "azdata_cell_guid": "9eb1baa1-2b3b-4b34-8374-f54e67a08e65",
                "language": "sql"
            },
            "outputs": [],
            "execution_count": null
        },
        {
            "cell_type": "code",
            "source": [
                "SELECT \r\n",
                "    ISNULL('Hello', 'Hi') Result"
            ],
            "metadata": {
                "azdata_cell_guid": "7459bdd4-2e2a-4b69-8092-f8f4a6cb2aad",
                "language": "sql"
            },
            "outputs": [],
            "execution_count": null
        }
    ]
}