{
    "metadata": {
        "kernelspec": {
            "name": "SQL",
            "display_name": "SQL",
            "language": "sql"
        },
        "language_info": {
            "name": "sql",
            "version": ""
        }
    },
    "nbformat_minor": 2,
    "nbformat": 4,
    "cells": [
        {
            "cell_type": "markdown",
            "source": [
                "**<mark>CREATE DATABASE</mark>**\n",
                "\n",
                "Cú pháp:\n",
                "\n",
                "> CREATE DATABASE database\\_name"
            ],
            "metadata": {
                "azdata_cell_guid": "18ca84aa-c2df-48f8-9628-97e586a82f1b"
            },
            "attachments": {}
        },
        {
            "cell_type": "code",
            "source": [
                "CREATE DATABASE TestDb"
            ],
            "metadata": {
                "azdata_cell_guid": "0da5df7a-3df4-4c13-a813-d7df65ee8204",
                "language": "sql"
            },
            "outputs": [],
            "execution_count": null
        },
        {
            "cell_type": "code",
            "source": [
                "-- Câu lệnh này liệt kê tất cả cơ sở dữ liệu trong SQL Server\r\n",
                "SELECT \r\n",
                "    name\r\n",
                "FROM \r\n",
                "    master.sys.databases\r\n",
                "ORDER BY \r\n",
                "    name"
            ],
            "metadata": {
                "azdata_cell_guid": "4a93fe63-5c84-415c-9246-5c92524e1445",
                "tags": [],
                "language": "sql"
            },
            "outputs": [],
            "execution_count": null
        },
        {
            "cell_type": "markdown",
            "source": [
                "**<mark>DROP DATABASE</mark>**\n",
                "\n",
                "Cú pháp:\n",
                "\n",
                "> DROP DATABASE  \\[ IF EXISTS \\]\n",
                "> \n",
                ">     database\\_name \n",
                "> \n",
                ">     \\[,database\\_name2,...\\]\n",
                "\n",
                "Tùy chọn IF EXISTS có sẵn từ SQL Server 2016 (13.x). Nó cho phép bạn xóa cơ sở dữ liệu có điều kiện chỉ khi cơ sở dữ liệu đó đã tồn tại. Nếu bạn cố gắng xóa cơ sở dữ liệu không tồn tại mà không chỉ định tùy chọn IF EXISTS, SQL Server sẽ gặp lỗi.\n",
                "\n",
                "Trước khi xóa cơ sở dữ liệu, bạn phải đảm bảo các điểm quan trọng sau:\n",
                "\n",
                "- <mark>Đầu tiên, câu lệnh DROP DATABASE xóa cơ sở dữ liệu và cả các tệp đĩa vật lý được cơ sở dữ liệu sử dụng. Do đó, bạn nên có một bản sao lưu cơ sở dữ liệu phòng trường hợp muốn khôi phục lại trong tương lai.</mark>\n",
                "- <mark>Thứ hai, bạn không thể bỏ cơ sở dữ liệu hiện đang được sử dụng.</mark>"
            ],
            "metadata": {
                "azdata_cell_guid": "ae72e85b-e5d1-40a0-a1fd-fa98f52f34b6"
            },
            "attachments": {}
        },
        {
            "cell_type": "code",
            "source": [
                "DROP DATABASE IF EXISTS TestDb"
            ],
            "metadata": {
                "azdata_cell_guid": "329c91ae-00e4-4162-bb71-decab6ec03e3",
                "language": "sql"
            },
            "outputs": [],
            "execution_count": null
        },
        {
            "cell_type": "markdown",
            "source": [
                "**<mark>SCHEMA</mark>**\n",
                "\n",
                "**Ý nghĩa Schema****:** <mark>Schema (lược đồ)</mark> là một tập hợp các đối tượng cơ sở dữ liệu bao gồm <mark>bảng</mark>, dạng <mark>xem (views)</mark>, <mark>trình kích hoạt</mark> <mark>(triggers),</mark> thủ tục được lưu trữ <mark>(stored procedures)</mark>, <mark>chỉ mục (indexs),</mark> v.v. Một lược đồ được liên kết với tên người dùng được gọi là chủ sở hữu lược đồ, chủ sở hữu của các đối tượng cơ sở dữ liệu liên quan về mặt logic. Một lược đồ luôn thuộc về một cơ sở dữ liệu. Mặt khác, một cơ sở dữ liệu có thể có một hoặc nhiều lược đồ.\n",
                "\n",
                "**Các lược đồ tích hợp trong SQL Server**\n",
                "\n",
                "SQL Server cung cấp cho chúng ta một số lược đồ được xác định trước có cùng tên với vai trò và người dùng cơ sở dữ liệu tích hợp, ví dụ: dbo, guest, sys và INFORMATION\\_SCHEMA.\n",
                "\n",
                "Lưu ý rằng SQL Server dự trữ hệ thống và lược đồ INFORMATION\\_SCHEMA cho các đối tượng hệ thống, do đó, bạn không thể tạo hoặc bỏ bất kỳ đối tượng nào trong các lược đồ này.\n",
                "\n",
                "Lược đồ mặc định cho cơ sở dữ liệu mới được tạo là dbo, thuộc sở hữu của tài khoản người dùng dbo. Theo mặc định, khi bạn tạo người dùng mới bằng lệnh CREATE USER, người dùng sẽ lấy dbo làm giản đồ mặc định."
            ],
            "metadata": {
                "azdata_cell_guid": "a89cb850-4c4f-458f-a510-c85fd094b293"
            },
            "attachments": {}
        },
        {
            "cell_type": "markdown",
            "source": [
                "**<mark>CREATE SCHEMA</mark>**\n",
                "\n",
                "Cú pháp:\n",
                "\n",
                "> CREATE SCHEMA schema\\_name\n",
                "> \n",
                ">     \\[AUTHORIZATION owner\\_name\\]"
            ],
            "metadata": {
                "azdata_cell_guid": "aa86236e-4a97-46dd-94b5-e3cf077f6454"
            },
            "attachments": {}
        },
        {
            "cell_type": "code",
            "source": [
                "CREATE SCHEMA customer_services\r\n",
                "GO"
            ],
            "metadata": {
                "azdata_cell_guid": "1120212e-a024-451d-bd99-62473d4f3918",
                "tags": [],
                "language": "sql"
            },
            "outputs": [],
            "execution_count": null
        },
        {
            "cell_type": "markdown",
            "source": [
                "**<mark>ALTER SCHEMA</mark>**\n",
                "\n",
                "Câu lệnh ALTER SCHEMA cho phép bạn chuyển một lược đồ có thể bảo mật từ một lược đồ sang một lược đồ khác trong cùng một cơ sở dữ liệu.\n",
                "\n",
                "Lưu ý rằng có thể bảo mật là tài nguyên mà hệ thống ủy quyền Công cụ cơ sở dữ liệu kiểm soát quyền truy cập. Ví dụ, một bảng là một bảo mật.\n",
                "\n",
                "Cú pháp:\n",
                "\n",
                "> ALTER SCHEMA target\\_schema\\_name   \n",
                "> \n",
                ">     TRANSFER \\[ entity\\_type :: \\] securable\\_name\n",
                "\n",
                "Trong cú pháp này:\n",
                "\n",
                "- target\\_schema\\_name là tên của một lược đồ trong cơ sở dữ liệu hiện tại mà bạn muốn di chuyển đối tượng vào đó. Lưu ý rằng nó không thể là SYS hoặc INFORMATION\\_SCHEMA.\n",
                "- Entity\\_type có thể là Object, Type hoặc XML Schema Collection. Nó mặc định là Đối tượng. Entity\\_type đại diện cho lớp của thực thể mà chủ sở hữu đang được thay đổi.\n",
                "- object\\_name là tên của bảo mật mà bạn muốn chuyển vào target\\_schema\\_name."
            ],
            "metadata": {
                "azdata_cell_guid": "c125ae30-4df3-444a-8d93-312dd4250c54"
            },
            "attachments": {}
        },
        {
            "cell_type": "code",
            "source": [
                "-- First, create a new table named offices in the dbo schema:\r\n",
                "CREATE TABLE dbo.offices\r\n",
                "(\r\n",
                "    office_id      INT\r\n",
                "    PRIMARY KEY IDENTITY, \r\n",
                "    office_name    NVARCHAR(40) NOT NULL, \r\n",
                "    office_address NVARCHAR(255) NOT NULL, \r\n",
                "    phone          VARCHAR(20),\r\n",
                ")"
            ],
            "metadata": {
                "azdata_cell_guid": "9b138af2-1c73-454b-a8b9-c2a1f6d64132",
                "language": "sql"
            },
            "outputs": [],
            "execution_count": null
        },
        {
            "cell_type": "code",
            "source": [
                "-- Next, insert some rows into the dob.offices table:\r\n",
                "INSERT INTO \r\n",
                "    dbo.offices(office_name, office_address)\r\n",
                "VALUES\r\n",
                "    ('Silicon Valley','400 North 1st Street, San Jose, CA 95130'),\r\n",
                "    ('Sacramento','1070 River Dr., Sacramento, CA 95820')"
            ],
            "metadata": {
                "azdata_cell_guid": "4ef147b4-0012-4634-84e4-23c4556d1bb4",
                "tags": [],
                "language": "sql"
            },
            "outputs": [],
            "execution_count": null
        },
        {
            "cell_type": "code",
            "source": [
                "ALTER SCHEMA sales TRANSFER OBJECT::dbo.offices"
            ],
            "metadata": {
                "azdata_cell_guid": "d343bc43-eb7e-4360-8a9c-ee997e51b42c",
                "language": "sql"
            },
            "outputs": [],
            "execution_count": null
        },
        {
            "cell_type": "markdown",
            "source": [
                "**<mark>DROP SCHEMA</mark>**\n",
                "\n",
                "Câu lệnh DROP SCHEMA cho phép bạn xóa một lược đồ khỏi cơ sở dữ liệu.\n",
                "\n",
                "Cú pháp:\n",
                "\n",
                "> DROP SCHEMA \\[IF EXISTS\\] schema\\_name\n",
                "\n",
                "Trong cú pháp này:\n",
                "\n",
                "- Đầu tiên, chỉ định tên của lược đồ mà bạn muốn thả. Nếu lược đồ chứa bất kỳ đối tượng nào, câu lệnh sẽ không thành công. Do đó, bạn phải xóa tất cả các đối tượng trong lược đồ trước khi xóa lược đồ.\n",
                "- Thứ hai, sử dụng tùy chọn IF EXISTS để loại bỏ lược đồ có điều kiện chỉ khi lược đồ tồn tại. Cố gắng loại bỏ một lược đồ không tồn tại mà không có tùy chọn IF EXISTS sẽ dẫn đến lỗi."
            ],
            "metadata": {
                "azdata_cell_guid": "e01b2951-87c8-4099-9108-c39bcc7abacd"
            },
            "attachments": {}
        },
        {
            "cell_type": "code",
            "source": [
                "-- First, create a new schema named logistics:\r\n",
                "CREATE SCHEMA logistics\r\n",
                "GO"
            ],
            "metadata": {
                "azdata_cell_guid": "2ae542a9-9bb6-409d-bfba-735885f40c8b",
                "language": "sql"
            },
            "outputs": [],
            "execution_count": null
        },
        {
            "cell_type": "code",
            "source": [
                "-- Next, create a new table named deliveries inside the logistics schema:\r\n",
                "CREATE TABLE logistics.deliveries\r\n",
                "(\r\n",
                "    order_id        INT\r\n",
                "    PRIMARY KEY, \r\n",
                "    delivery_date   DATE NOT NULL, \r\n",
                "    delivery_status TINYINT NOT NULL\r\n",
                ")"
            ],
            "metadata": {
                "azdata_cell_guid": "736734df-8b84-4f4d-b1c5-bc224d7e2e11",
                "language": "sql"
            },
            "outputs": [],
            "execution_count": null
        },
        {
            "cell_type": "code",
            "source": [
                "-- Then, drop the schema logistics:\r\n",
                "DROP SCHEMA logistics"
            ],
            "metadata": {
                "azdata_cell_guid": "9c1057d0-e9ce-4ea5-b266-dcb9fe7ef492",
                "language": "sql"
            },
            "outputs": [],
            "execution_count": null
        },
        {
            "cell_type": "code",
            "source": [
                "-- After that, drop the table logistics.deliveries:\r\n",
                "DROP TABLE logistics.deliveries"
            ],
            "metadata": {
                "azdata_cell_guid": "b5ef0a7d-f61f-438c-a9bc-4ed7905e4648",
                "language": "sql"
            },
            "outputs": [],
            "execution_count": null
        },
        {
            "cell_type": "code",
            "source": [
                "-- Finally, issue the DROP SCHEMA again to drop the logistics schema:\r\n",
                "DROP SCHEMA IF EXISTS logistics"
            ],
            "metadata": {
                "azdata_cell_guid": "b590e849-9a43-4ab2-a637-de1676fbbf24",
                "language": "sql"
            },
            "outputs": [],
            "execution_count": null
        },
        {
            "cell_type": "markdown",
            "source": [
                "**<mark>CREATE TABLE</mark>**\n",
                "\n",
                "Các bảng được sử dụng để lưu trữ dữ liệu trong cơ sở dữ liệu. Các bảng được đặt tên duy nhất trong cơ sở dữ liệu và lược đồ. Mỗi bảng chứa một hoặc nhiều cột. Và mỗi cột có một kiểu dữ liệu được liên kết xác định loại dữ liệu mà nó có thể lưu trữ, ví dụ: số, chuỗi hoặc dữ liệu tạm thời.\n",
                "\n",
                "Cú pháp:\n",
                "\n",
                "> CREATE TABLE \\[database\\_name.\\]\\[schema\\_name.\\]table\\_name (\n",
                "> \n",
                ">     pk\\_column data\\_type PRIMARY KEY,\n",
                "> \n",
                ">     column\\_1 data\\_type NOT NULL,\n",
                "> \n",
                ">     column\\_2 data\\_type,\n",
                "> \n",
                ">     ...,\n",
                "> \n",
                ">     table\\_constraints\n",
                "> \n",
                "> )\n",
                "\n",
                "Trong cú pháp này:\n",
                "\n",
                "- Đầu tiên, chỉ định tên của cơ sở dữ liệu mà bảng được tạo. Database\\_name phải là tên của cơ sở dữ liệu hiện có. Nếu bạn không chỉ định nó, thì database\\_name sẽ mặc định cho cơ sở dữ liệu hiện tại.\n",
                "- Thứ hai, chỉ định lược đồ chứa bảng mới.\n",
                "- Thứ ba, chỉ định tên của bảng mới.\n",
                "- Thứ tư, mỗi bảng phải có một khóa chính (PRIMARY KEY) bao gồm một hoặc nhiều cột. Thông thường, bạn liệt kê các cột khóa chính trước rồi đến các cột khác. Nếu khóa chính chỉ chứa một cột, bạn có thể sử dụng các từ khóa CHÍNH sau tên cột. Nếu khóa chính bao gồm hai hoặc nhiều cột, bạn cần chỉ định ràng buộc KHÓA CHÍNH làm ràng buộc bảng (CONSTRAINTS). Mỗi cột có một kiểu dữ liệu liên quan được chỉ định sau tên của nó trong câu lệnh. Một cột có thể có một hoặc nhiều ràng buộc cột như NOT NULL và UNIQUE.\n",
                "- Thứ năm, một bảng có thể có một số ràng buộc được chỉ định trong phần ràng buộc bảng như KHÓA NGOẠI (FOREIGN KEYS), KHÓA CHÍNH, UNIQUE và CHECK."
            ],
            "metadata": {
                "azdata_cell_guid": "2f79639b-615c-49a6-959a-e163de6d9db0"
            },
            "attachments": {}
        },
        {
            "cell_type": "code",
            "source": [
                "CREATE TABLE sales.visits (\r\n",
                "    visit_id INT PRIMARY KEY IDENTITY (1, 1),\r\n",
                "    first_name VARCHAR (50) NOT NULL,\r\n",
                "    last_name VARCHAR (50) NOT NULL,\r\n",
                "    visited_at DATETIME,\r\n",
                "    phone VARCHAR(20),\r\n",
                "    store_id INT NOT NULL,\r\n",
                "    FOREIGN KEY (store_id) REFERENCES sales.stores (store_id)\r\n",
                ")"
            ],
            "metadata": {
                "azdata_cell_guid": "2f3dee1e-76e3-492b-b943-9f4fff6c0428",
                "language": "sql"
            },
            "outputs": [],
            "execution_count": null
        },
        {
            "cell_type": "markdown",
            "source": [
                "**<mark>ALTER TABLE ADD Column</mark>**\n",
                "\n",
                "Cú pháp:\n",
                "\n",
                "> ALTER TABLE table\\_name\n",
                "> \n",
                "> ADD column\\_name data\\_type column\\_constraint\n",
                "\n",
                "Trong cú pháp này:\n",
                "\n",
                "- Đầu tiên, chỉ định tên của bảng mà bạn muốn thêm cột mới.\n",
                "- Thứ hai, chỉ định tên của cột, kiểu dữ liệu của nó và ràng buộc nếu có.\n",
                "\n",
                "Nếu bạn muốn thêm nhiều cột vào bảng cùng một lúc bằng cách sử dụng một câu lệnh ALTER TABLE, bạn sử dụng cú pháp sau:\n",
                "\n",
                "> ALTER TABLE table\\_name\n",
                "> \n",
                "> ADD \n",
                "> \n",
                ">     column\\_name\\_1 data\\_type\\_1 column\\_constraint\\_1,\n",
                "> \n",
                ">     column\\_name\\_2 data\\_type\\_2 column\\_constraint\\_2,\n",
                "> \n",
                ">     ...,\n",
                "> \n",
                ">     column\\_name\\_n data\\_type\\_n column\\_constraint\\_n"
            ],
            "metadata": {
                "azdata_cell_guid": "88f9084e-6e42-4438-8bbd-89b8760d9afd"
            },
            "attachments": {}
        },
        {
            "cell_type": "code",
            "source": [
                "-- The following statement creates a new table named sales.quotations:\r\n",
                "CREATE TABLE sales.quotations (\r\n",
                "    quotation_no INT IDENTITY PRIMARY KEY,\r\n",
                "    valid_from DATE NOT NULL,\r\n",
                "    valid_to DATE NOT NULL\r\n",
                ")"
            ],
            "metadata": {
                "azdata_cell_guid": "80462ebc-8d5e-439a-b66b-f65dd37a01f1",
                "language": "sql"
            },
            "outputs": [],
            "execution_count": null
        },
        {
            "cell_type": "code",
            "source": [
                "ALTER TABLE sales.quotations \r\n",
                "ADD description VARCHAR (255) NOT NULL"
            ],
            "metadata": {
                "azdata_cell_guid": "14706f6f-1283-48d9-98b2-7955e9d0d439",
                "language": "sql"
            },
            "outputs": [],
            "execution_count": null
        },
        {
            "cell_type": "code",
            "source": [
                "ALTER TABLE sales.quotations \r\n",
                "ADD \r\n",
                "    amount DECIMAL (10, 2) NOT NULL,\r\n",
                "    customer_name VARCHAR (50) NOT NULL"
            ],
            "metadata": {
                "azdata_cell_guid": "6d50e58a-e3ce-4a96-8491-f8c923344a9e",
                "tags": [],
                "language": "sql"
            },
            "outputs": [],
            "execution_count": null
        },
        {
            "cell_type": "markdown",
            "source": [
                "**<mark>ALTER TABLE ALTER COLUMN</mark>**\n",
                "\n",
                "SQL Server cho phép bạn thực hiện các thay đổi sau đối với cột hiện có của bảng:\n",
                "\n",
                "- Sửa đổi kiểu dữ liệu\n",
                "- Thay đổi kích thước\n",
                "- Thêm ràng buộc NOT NULL"
            ],
            "metadata": {
                "azdata_cell_guid": "f2b69876-0ed8-4985-9752-4adc51b1634f"
            },
            "attachments": {}
        },
        {
            "cell_type": "markdown",
            "source": [
                "Sửa đổi kiểu dữ liệu của cột\n",
                "\n",
                "> ALTER TABLE table\\_name \n",
                "> \n",
                "> ALTER COLUMN column\\_name new\\_data\\_type(size)\n",
                "\n",
                "<mark>Kiểu dữ liệu mới phải tương thích với kiểu cũ, nếu không, bạn sẽ gặp lỗi chuyển đổi trong trường hợp cột có dữ liệu và nó không chuyển đổi được.</mark>"
            ],
            "metadata": {
                "azdata_cell_guid": "29a8ee81-fc8a-449d-b7ff-0bfd17f440e7"
            },
            "attachments": {}
        },
        {
            "cell_type": "code",
            "source": [
                "-- First, create a new table with one column whose data type is INT:\r\n",
                "CREATE TABLE t1 (c INT)"
            ],
            "metadata": {
                "azdata_cell_guid": "d15173ee-cc8d-4a40-9dd9-0b2f4397ca73",
                "language": "sql"
            },
            "outputs": [],
            "execution_count": null
        },
        {
            "cell_type": "code",
            "source": [
                "-- Second, insert some rows into the table:\r\n",
                "INSERT INTO t1\r\n",
                "VALUES\r\n",
                "    (1),\r\n",
                "    (2),\r\n",
                "    (3)"
            ],
            "metadata": {
                "azdata_cell_guid": "36d6b473-0aa2-41eb-81e7-92196f8119a2",
                "language": "sql"
            },
            "outputs": [],
            "execution_count": null
        },
        {
            "cell_type": "code",
            "source": [
                "-- Second, modify the data type of the column from INT to VARCHAR:\r\n",
                "ALTER TABLE t1 ALTER COLUMN c VARCHAR (2)"
            ],
            "metadata": {
                "azdata_cell_guid": "cac5e998-78af-4467-8cea-770835397d12",
                "language": "sql"
            },
            "outputs": [],
            "execution_count": null
        },
        {
            "cell_type": "code",
            "source": [
                "-- Third, insert a new row with a character string data:\r\n",
                "INSERT INTO t1\r\n",
                "VALUES ('@')"
            ],
            "metadata": {
                "azdata_cell_guid": "cf9bd43d-c763-4078-a61a-4920e7ef5bbf",
                "language": "sql"
            },
            "outputs": [],
            "execution_count": null
        },
        {
            "cell_type": "code",
            "source": [
                "-- Fourth, modify the data type of the column from VARCHAR back to INT:\r\n",
                "ALTER TABLE t1 ALTER COLUMN c INT"
            ],
            "metadata": {
                "azdata_cell_guid": "db7ac4f7-4e7a-44ed-bc8e-8c0308d77df5",
                "language": "sql"
            },
            "outputs": [],
            "execution_count": null
        },
        {
            "cell_type": "markdown",
            "source": [
                "Thay đổi kích thước"
            ],
            "metadata": {
                "azdata_cell_guid": "58656f59-59e5-463e-967d-3790b575ccb9"
            },
            "attachments": {}
        },
        {
            "cell_type": "code",
            "source": [
                "-- The following statement creates a new table with one column whose data type is VARCHAR(10):\r\n",
                "CREATE TABLE t2 (c VARCHAR(10))"
            ],
            "metadata": {
                "azdata_cell_guid": "87bbb678-73e3-450b-bce8-641875fd9dc6",
                "language": "sql"
            },
            "outputs": [],
            "execution_count": null
        },
        {
            "cell_type": "code",
            "source": [
                "-- Let’s insert some sample data into the t2 table:\r\n",
                "INSERT INTO t2\r\n",
                "VALUES\r\n",
                "    ('SQL Server'),\r\n",
                "    ('Modify'),\r\n",
                "    ('Column')"
            ],
            "metadata": {
                "azdata_cell_guid": "38b5cbbf-5538-4ced-8858-4b4e0887166b",
                "language": "sql"
            },
            "outputs": [],
            "execution_count": null
        },
        {
            "cell_type": "code",
            "source": [
                "-- You can increase the size of the column as follows:\r\n",
                "ALTER TABLE t2 ALTER COLUMN c VARCHAR (50)"
            ],
            "metadata": {
                "azdata_cell_guid": "5cc80af7-0e30-4aa4-b41c-791f5988866f",
                "language": "sql"
            },
            "outputs": [],
            "execution_count": null
        },
        {
            "cell_type": "code",
            "source": [
                "ALTER TABLE t2 ALTER COLUMN c VARCHAR (5);"
            ],
            "metadata": {
                "azdata_cell_guid": "a93daf99-78ec-4000-a648-22d82beccee8",
                "language": "sql"
            },
            "outputs": [],
            "execution_count": null
        },
        {
            "cell_type": "markdown",
            "source": [
                "<span style=\"font-size: 14px;\">Thêm ràng buộc NOT NULL</span>"
            ],
            "metadata": {
                "azdata_cell_guid": "6b4530ea-28da-42da-ae6e-dd463fa105ae"
            },
            "attachments": {}
        },
        {
            "cell_type": "code",
            "source": [
                "-- The following statement creates a new table with a nullable column:\r\n",
                "CREATE TABLE t3 (c VARCHAR(50))"
            ],
            "metadata": {
                "azdata_cell_guid": "df8dc8e8-237f-4a53-b0db-e8560670f7b8",
                "language": "sql"
            },
            "outputs": [],
            "execution_count": null
        },
        {
            "cell_type": "code",
            "source": [
                "-- The following statement inserts some rows into the table:\r\n",
                "INSERT INTO t3\r\n",
                "VALUES\r\n",
                "    ('Nullable column'),\r\n",
                "    (NULL)"
            ],
            "metadata": {
                "azdata_cell_guid": "9e0a29a1-d13c-4a92-8297-6efd0007e2e8",
                "language": "sql"
            },
            "outputs": [],
            "execution_count": null
        },
        {
            "cell_type": "code",
            "source": [
                "-- If you want to add the NOT NULL constraint to the column c, you must update NULL to non-null first for example:\r\n",
                "UPDATE t3\r\n",
                "SET c = ''\r\n",
                "WHERE\r\n",
                "    c IS NULL"
            ],
            "metadata": {
                "azdata_cell_guid": "d71483df-721f-40e8-b6eb-8a41e7f0db66",
                "tags": [],
                "language": "sql"
            },
            "outputs": [],
            "execution_count": null
        },
        {
            "cell_type": "code",
            "source": [
                "-- And then add the NOT NULL constraint:\r\n",
                "ALTER TABLE t3 ALTER COLUMN c VARCHAR (20) NOT NULL"
            ],
            "metadata": {
                "azdata_cell_guid": "fdd34646-f3d1-472a-ab09-f90a45a038f0",
                "language": "sql"
            },
            "outputs": [],
            "execution_count": null
        },
        {
            "cell_type": "markdown",
            "source": [
                "**<mark>ALTER TABLE DROP COLUMN</mark>**\n",
                "\n",
                "Cú pháp:\n",
                "\n",
                "> <span style=\"font-size:14px;\">ALTER TABLE table_name</span>\n",
                "> \n",
                "> <span style=\"font-size:14px;\">DROP COLUMN column_name</span>\n",
                "\n",
                "<span style=\"font-size:14px;\">Trong cú pháp này:</span>\n",
                "\n",
                "- <span style=\"font-size:14px;\">Đầu tiên, chỉ định tên của bảng mà bạn muốn xóa cột.</span>\n",
                "- <span style=\"font-size:14px;\">Thứ hai, chỉ định tên của cột mà bạn muốn xóa.</span>\n",
                "\n",
                "<span style=\"font-size:14px;background-color:yellow;\">Nếu cột bạn muốn xóa có ràng buộc CHECK, bạn phải xóa ràng buộc trước khi xóa cột. Ngoài ra, SQL Server không cho phép bạn xóa một cột có một KHÓA CHÍNH hoặc một ràng buộc KHÓA NGOẠI.</span>\n",
                "\n",
                "<span style=\"font-size:14px;\">Nếu bạn muốn xóa nhiều cột cùng một lúc, bạn sử dụng cú pháp sau:</span>\n",
                "\n",
                "> ALTER TABLE table\\_name\n",
                "> \n",
                "> DROP COLUMN column\\_name\\_1, column\\_name\\_2,..."
            ],
            "metadata": {
                "azdata_cell_guid": "c9346c98-35d9-4cde-bdb1-abaf8800684e"
            },
            "attachments": {}
        },
        {
            "cell_type": "code",
            "source": [
                "-- Let’s create a new table named sales.price_lists for the demonstration.\r\n",
                "CREATE TABLE sales.price_lists(\r\n",
                "    product_id int,\r\n",
                "    valid_from DATE,\r\n",
                "    price DEC(10,2) NOT NULL CONSTRAINT ck_positive_price CHECK(price >= 0),\r\n",
                "    discount DEC(10,2) NOT NULL,\r\n",
                "    surcharge DEC(10,2) NOT NULL,\r\n",
                "    note VARCHAR(255),\r\n",
                "    PRIMARY KEY(product_id, valid_from)\r\n",
                ")"
            ],
            "metadata": {
                "azdata_cell_guid": "1dd9fbca-b9ea-423a-97fb-4717f28c338c",
                "language": "sql"
            },
            "outputs": [],
            "execution_count": null
        },
        {
            "cell_type": "code",
            "source": [
                "-- The following statement drops the note column from the price_lists table:\r\n",
                "ALTER TABLE sales.price_lists\r\n",
                "DROP COLUMN note"
            ],
            "metadata": {
                "azdata_cell_guid": "41c16343-6a67-4bfe-adc2-f52b6c2cf5d4",
                "language": "sql"
            },
            "outputs": [],
            "execution_count": null
        },
        {
            "cell_type": "code",
            "source": [
                "-- The price column has a CHECK constraint, therefore, you cannot delete it. If you try to execute the following statement, you will get an error:\r\n",
                "ALTER TABLE sales.price_lists\r\n",
                "DROP COLUMN price"
            ],
            "metadata": {
                "azdata_cell_guid": "e6dff02a-6491-469a-bdc1-34d2ab1d4b2f",
                "language": "sql"
            },
            "outputs": [],
            "execution_count": null
        },
        {
            "cell_type": "code",
            "source": [
                "-- To drop the price column, first, delete its CHECK constraint:\r\n",
                "ALTER TABLE sales.price_lists\r\n",
                "DROP CONSTRAINT ck_positive_price"
            ],
            "metadata": {
                "azdata_cell_guid": "9116b654-2640-4b22-8f42-6fb49c2b97b7",
                "language": "sql"
            },
            "outputs": [],
            "execution_count": null
        },
        {
            "cell_type": "code",
            "source": [
                "-- And then, delete the price column:\r\n",
                "ALTER TABLE sales.price_lists\r\n",
                "DROP COLUMN price"
            ],
            "metadata": {
                "azdata_cell_guid": "5c96dc5c-f54d-4690-8c4e-c8c0a0c2c215",
                "language": "sql"
            },
            "outputs": [],
            "execution_count": null
        },
        {
            "cell_type": "code",
            "source": [
                "-- The following example deletes two columns discount and surcharge at once:\r\n",
                "ALTER TABLE sales.price_lists\r\n",
                "DROP COLUMN discount, surcharge"
            ],
            "metadata": {
                "azdata_cell_guid": "cac23729-fc1e-4ec3-9c8c-968933a16b03",
                "language": "sql"
            },
            "outputs": [],
            "execution_count": null
        },
        {
            "cell_type": "markdown",
            "source": [
                "**<mark>DROP TABLE</mark>**\n",
                "\n",
                "Cú pháp:\n",
                "\n",
                "> <span style=\"font-size:14px;\">DROP TABLE [IF EXISTS]&nbsp; [database_name.][schema_name.]table_name;</span>\n",
                "\n",
                "<span style=\"font-size:14px;\">Trong cú pháp này:</span>\n",
                "\n",
                "- <span style=\"font-size:14px;\">Đầu tiên, chỉ định tên của bảng sẽ bị xóa.</span>\n",
                "- <span style=\"font-size:14px;\">Thứ hai, chỉ định tên của cơ sở dữ liệu mà bảng được tạo và tên của lược đồ chứa bảng đó. Tên cơ sở dữ liệu là tùy chọn. Nếu bạn bỏ qua nó, câu lệnh DROP TABLE sẽ thả bảng trong cơ sở dữ liệu hiện được kết nối.</span>\n",
                "- <span style=\"font-size:14px;\">Thứ ba, sử dụng mệnh đề IF EXISTS để loại bỏ bảng chỉ khi nó tồn tại. Mệnh đề IF EXISTS đã được hỗ trợ kể từ SQL Server 2016 13.x. Nếu bạn xóa một bảng không tồn tại, bạn sẽ gặp lỗi. Mệnh đề IF EXISTS loại bỏ bảng có điều kiện nếu nó đã tồn tại.</span>\n",
                "\n",
                "<span style=\"font-size:14px;background-color:yellow;\">Khi SQL Server bỏ một bảng, nó cũng xóa tất cả dữ liệu, trình kích hoạt (triggers), ràng buộc (constraints), quyền (permissions) của bảng đó. Hơn nữa, SQL Server không loại bỏ rõ ràng các dạng xem (views) và các thủ tục được lưu trữ (stored procedures) tham chiếu đến bảng bị loại bỏ. Do đó, để loại bỏ các đối tượng phụ thuộc này một cách rõ ràng, bạn phải sử dụng câu lệnh DROP VIEW và DROP PROCEDURE.</span>\n",
                "\n",
                "SQL Server cho phép bạn loại bỏ nhiều bảng cùng một lúc bằng cách sử dụng một câu lệnh DROP TABLE như sau:\n",
                "\n",
                "> <span style=\"color:#0000ff;\">DROP</span> <span style=\"color:#0000ff;\">TABLE</span> \n",
                "> \n",
                ">     \\[database\\_name.\\]\\[schema\\_name.\\]table\\_name\\_1,\n",
                "> \n",
                ">     \\[database\\_name.\\]\\[schema\\_name.\\]table\\_name\\_2, …\n",
                "> \n",
                ">     \\[database\\_name.\\]\\[schema\\_name.\\]table\\_name\\_n"
            ],
            "metadata": {
                "azdata_cell_guid": "1e439451-a148-452b-9cda-6aa46fa82be2"
            },
            "attachments": {}
        },
        {
            "cell_type": "code",
            "source": [
                "-- A) Drop a table that does not exist\r\n",
                "DROP TABLE IF EXISTS sales.revenues"
            ],
            "metadata": {
                "azdata_cell_guid": "342402e3-e5fc-4402-b222-4e4ec7896835",
                "language": "sql"
            },
            "outputs": [],
            "execution_count": null
        },
        {
            "cell_type": "code",
            "source": [
                "-- B) Drop a single table example\r\n",
                "-- The following statement creates a new table named delivery in the sales schema:\r\n",
                "CREATE TABLE sales.delivery (\r\n",
                "    delivery_id INT PRIMARY KEY,\r\n",
                "    delivery_note VARCHAR (255) NOT NULL,\r\n",
                "    delivery_date DATE NOT NULL\r\n",
                ")"
            ],
            "metadata": {
                "azdata_cell_guid": "c63da991-fa7a-4fda-953a-ea85bda5069c",
                "language": "sql"
            },
            "outputs": [],
            "execution_count": null
        },
        {
            "cell_type": "code",
            "source": [
                "-- To remove the delivery table, you use the following statement:\r\n",
                "DROP TABLE sales.delivery"
            ],
            "metadata": {
                "azdata_cell_guid": "1d9f1713-ae44-4066-a7aa-6299037f4472",
                "language": "sql"
            },
            "outputs": [],
            "execution_count": null
        },
        {
            "cell_type": "code",
            "source": [
                "-- C) Drop a table with a foreign key constraint example\r\n",
                "CREATE SCHEMA procurement;\r\n",
                "GO\r\n",
                "\r\n",
                "CREATE TABLE procurement.supplier_groups (\r\n",
                "    group_id INT IDENTITY PRIMARY KEY,\r\n",
                "    group_name VARCHAR (50) NOT NULL\r\n",
                ");\r\n",
                "\r\n",
                "CREATE TABLE procurement.suppliers (\r\n",
                "    supplier_id INT IDENTITY PRIMARY KEY,\r\n",
                "    supplier_name VARCHAR (50) NOT NULL,\r\n",
                "    group_id INT NOT NULL,\r\n",
                "    FOREIGN KEY (group_id) REFERENCES procurement.supplier_groups (group_id)\r\n",
                ")"
            ],
            "metadata": {
                "azdata_cell_guid": "4f624149-c693-452f-a7a1-8d1bb2a2187d",
                "language": "sql"
            },
            "outputs": [],
            "execution_count": null
        },
        {
            "cell_type": "code",
            "source": [
                "-- Let’s try to drop the supplier_groups table:\r\n",
                "DROP TABLE procurement.supplier_groups"
            ],
            "metadata": {
                "azdata_cell_guid": "69d0e07a-8e37-479f-b2eb-6c4a3a9287b1",
                "language": "sql"
            },
            "outputs": [],
            "execution_count": null
        },
        {
            "cell_type": "code",
            "source": [
                "-- SQL Server does not allow you to delete a table that is referenced by a foreign constraint. \r\n",
                "-- To delete this table, you must drop the referencing foreign key constraint or referencing table first. \r\n",
                "-- In this case, you have to drop the foreign key constraint in the  suppliers table or the  suppliers table first before removing the supplier_groups table.\r\n",
                "DROP TABLE procurement.supplier_groups\r\n",
                "DROP TABLE procurement.suppliers"
            ],
            "metadata": {
                "azdata_cell_guid": "87a9dc2b-3eaf-42b9-bc34-f15d5740e55b",
                "language": "sql"
            },
            "outputs": [],
            "execution_count": null
        },
        {
            "cell_type": "code",
            "source": [
                "--If you use a single DROP TABLE statement to remove both tables, the referencing table must be listed first as shown in the query below:\r\n",
                "DROP TABLE procurement.suppliers, procurement.supplier_groups"
            ],
            "metadata": {
                "azdata_cell_guid": "a74428df-c9b1-4763-8d5c-997ab7595167",
                "language": "sql"
            },
            "outputs": [],
            "execution_count": null
        }
    ]
}