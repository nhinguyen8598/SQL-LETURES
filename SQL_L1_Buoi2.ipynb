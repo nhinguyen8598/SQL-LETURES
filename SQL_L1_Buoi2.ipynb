{
    "metadata": {
        "kernelspec": {
            "name": "SQL",
            "display_name": "SQL",
            "language": "sql"
        },
        "language_info": {
            "name": "sql",
            "version": ""
        }
    },
    "nbformat_minor": 2,
    "nbformat": 4,
    "cells": [
        {
            "cell_type": "markdown",
            "source": [
                "# **DEMO BUỔI 2**"
            ],
            "metadata": {
                "azdata_cell_guid": "69b07541-6544-40d6-a602-3b23d0ac59a4"
            },
            "attachments": {}
        },
        {
            "cell_type": "code",
            "source": [
                "USE [BikeStores]\r\n",
                "GO"
            ],
            "metadata": {
                "azdata_cell_guid": "e18a1820-1fd8-45a7-bf0a-85d46b75ec4e",
                "language": "sql",
                "tags": []
            },
            "outputs": [
                {
                    "output_type": "display_data",
                    "data": {
                        "text/html": "Commands completed successfully."
                    },
                    "metadata": {}
                },
                {
                    "output_type": "display_data",
                    "data": {
                        "text/html": "Total execution time: 00:00:00.092"
                    },
                    "metadata": {}
                }
            ],
            "execution_count": 1
        },
        {
            "cell_type": "markdown",
            "source": [
                "### **<mark>SELECT</mark>**\n",
                "\n",
                "**Ý nghĩa:** Câu lệnh <mark>**SELECT**</mark> trong SQL được sử dụng để lấy dữ liệu từ một bảng cơ sở dữ liệu trả về dữ liệu này dưới dạng một bảng kết quả. Các bảng kết quả này được gọi là tập kết quả <mark>(result sets)</mark>.\n",
                "\n",
                "**Cú pháp:**\n",
                "\n",
                "> <span style=\"font-size: 14px;\">SELECT&nbsp;</span> \n",
                "> \n",
                ">  <span style=\"font-size: 14px;\">&nbsp; &nbsp; select_list&nbsp;</span> \n",
                "> \n",
                "> <span style=\"font-size: 14px;\">FROM&nbsp;</span> \n",
                "> \n",
                ">  <span style=\"font-size: 14px;\"><span style=\"white-space:pre\"></span>&nbsp; &nbsp; &nbsp;database.schema_name.table_name</span>"
            ],
            "metadata": {
                "azdata_cell_guid": "d4924e1c-c1a3-418e-9719-ffcc60a0f6ee"
            },
            "attachments": {}
        },
        {
            "cell_type": "markdown",
            "source": [
                "**VD1: Lấy một vài cột từ bảng**"
            ],
            "metadata": {
                "azdata_cell_guid": "74897016-043b-4500-af7d-919a763bac8d"
            },
            "attachments": {}
        },
        {
            "cell_type": "code",
            "source": [
                "SELECT\r\n",
                "    [first_name]\r\n",
                "    ,[last_name]\r\n",
                "    ,[email]\r\n",
                "FROM\r\n",
                "    [sales].[customers]"
            ],
            "metadata": {
                "azdata_cell_guid": "d72da48d-5a94-421c-bc45-9b5d1f5c6d8e",
                "language": "sql"
            },
            "outputs": [],
            "execution_count": null
        },
        {
            "cell_type": "markdown",
            "source": [
                "VD2: Lấy toàn bộ cột trên bảng"
            ],
            "metadata": {
                "azdata_cell_guid": "38346843-9512-472a-a6b7-1680733349d0"
            },
            "attachments": {}
        },
        {
            "cell_type": "code",
            "source": [
                "SELECT \r\n",
                "\t*\r\n",
                "FROM [sales].[customers]"
            ],
            "metadata": {
                "azdata_cell_guid": "b8c7d50e-4e67-43d5-bebb-3167cb6624dc",
                "language": "sql"
            },
            "outputs": [],
            "execution_count": null
        },
        {
            "cell_type": "markdown",
            "source": [
                "**Lưu ý:**\n",
                "\n",
                "<mark>**SELECT \\***</mark> hữu ích trong việc kiểm tra các cột và dữ liệu của bảng mà bạn không quen thuộc. Nó cũng hữu ích cho các truy vấn đặc biệt. <mark>(ad-hoc queries)</mark>\n",
                "\n",
                "Ngoài lý do trên, bạn không nên sử dụng <mark>**SELECT \\***</mark> bởi 2 nguyên nhân chính:\n",
                "\n",
                "1\\. Đầu tiên, **<mark>SELECT \\*</mark>** thường truy xuất nhiều dữ liệu hơn mức ứng dụng của bạn cần để hoạt động. Nó khiến dữ liệu không cần thiết phải chuyển từ SQL Server sang ứng dụng khách, mất nhiều thời gian hơn để dữ liệu di chuyển trên mạng và làm chậm ứng dụng.\n",
                "\n",
                "2\\. Thứ hai, nếu bảng được thêm một hoặc nhiều cột mới, thì **<mark>SELECT \\*</mark>** sẽ truy xuất tất cả các cột bao gồm các cột mới được thêm vào không được sử dụng trong ứng dụng. Điều này có thể làm cho ứng dụng bị lỗi."
            ],
            "metadata": {
                "azdata_cell_guid": "c7fcfe37-efa7-401d-87d7-7745a87e0a1a"
            },
            "attachments": {}
        },
        {
            "cell_type": "markdown",
            "source": [
                "### **<mark>Alias</mark>**"
            ],
            "metadata": {
                "azdata_cell_guid": "3bdeecc7-980f-484c-8045-7a0b87185fe2"
            },
            "attachments": {}
        },
        {
            "cell_type": "markdown",
            "source": [
                "Vấn đề: Tạo thêm cột full\\_name bằng việc nối 2 kết quả từ 2 cột <span style=\"color: rgb(33, 33, 33); font-family: Consolas, &quot;Courier New&quot;, monospace; font-size: 12px; white-space: pre;\">first_name và last_name</span>"
            ],
            "metadata": {
                "azdata_cell_guid": "d7e3c6ac-c6d3-4e21-a397-539fc166afa8"
            },
            "attachments": {}
        },
        {
            "cell_type": "code",
            "source": [
                "SELECT\r\n",
                "    [first_name] + ' ' + [last_name]\r\n",
                "FROM\r\n",
                "    [sales].[customers]"
            ],
            "metadata": {
                "azdata_cell_guid": "c6d35d2a-65a4-4b24-a36a-8548e8086fa4",
                "language": "sql"
            },
            "outputs": [],
            "execution_count": null
        },
        {
            "cell_type": "markdown",
            "source": [
                "**Ý nghĩa:** Đặt tên (bí danh) cho cột (hoặc bảng) có sẵn hoặc khởi tạo\n",
                "\n",
                "**Cú pháp**\n",
                "\n",
                "> column\\_name | expression  AS column\\_alias\n",
                "\n",
                "hoặc\n",
                "\n",
                "> column\\_name | expression column\\_alias"
            ],
            "metadata": {
                "azdata_cell_guid": "4bd56ce3-ff02-4b0a-80e8-66fed80c7e61"
            },
            "attachments": {}
        },
        {
            "cell_type": "code",
            "source": [
                "SELECT\r\n",
                "    [first_name] + ' ' + [last_name] AS [full_name]\r\n",
                "FROM\r\n",
                "    [sales].[customers]"
            ],
            "metadata": {
                "azdata_cell_guid": "7c165cdd-78dc-41a1-9a5d-00123de0ab4b",
                "tags": [],
                "language": "sql"
            },
            "outputs": [],
            "execution_count": null
        },
        {
            "cell_type": "code",
            "source": [
                "SELECT\r\n",
                "    [first_name] + ' ' + [last_name] AS 'full_name'\r\n",
                "FROM\r\n",
                "    [sales].[customers]"
            ],
            "metadata": {
                "azdata_cell_guid": "85088db0-7aa7-4cd8-9c57-ee6f61b41eac",
                "language": "sql"
            },
            "outputs": [],
            "execution_count": null
        },
        {
            "cell_type": "markdown",
            "source": [
                "### **<mark>SELECT DISTINCT</mark>**"
            ],
            "metadata": {
                "azdata_cell_guid": "e01403b9-7c79-454a-85ce-519aac13cbb0"
            },
            "attachments": {}
        },
        {
            "cell_type": "markdown",
            "source": [
                "**Ý nghĩa:** Loại bỏ những dòng trùng lặp cho 1 hoặc nhiều cột cụ thể trên bảng\n",
                "\n",
                "**Cú pháp**\n",
                "\n",
                "**1\\. Cho 1 cột**\n",
                "\n",
                "> <span style=\"font-size: 14px;\">SELECT DISTINCT</span>\n",
                "> \n",
                ">  <span style=\"font-size: 14px;\">&nbsp; &nbsp; [column_name]</span>\n",
                "> \n",
                "> FROM\n",
                "> \n",
                ">  <span style=\"font-size: 14px;\">&nbsp; &nbsp; [table_name]</span>\n",
                "\n",
                "**2\\. Cho nhiều cột**\n",
                "\n",
                "> <span style=\"font-size: 14px;\">SELECT DISTINCT</span>\n",
                "> \n",
                ">  <span style=\"font-size: 14px;\">&nbsp; &nbsp; &nbsp;[column_name1]</span>\n",
                "> \n",
                ">  <span style=\"font-size: 14px;\">&nbsp; &nbsp; &nbsp;,[column_name2]</span>\n",
                "> \n",
                ">  <span style=\"font-size: 14px;\">&nbsp; &nbsp; &nbsp;...</span>\n",
                "> \n",
                "> <span style=\"font-size: 14px;\">FROM</span>\n",
                "> \n",
                ">  <span style=\"font-size: 14px;\">&nbsp; &nbsp; &nbsp;[table_name]</span>"
            ],
            "metadata": {
                "azdata_cell_guid": "cc166f34-07af-4206-b143-28c13573b58d"
            },
            "attachments": {}
        },
        {
            "cell_type": "markdown",
            "source": [
                "VD1: Lấy danh sách thành phố (lọc ra giá trị trùng) từ bảng \\[customers\\]"
            ],
            "metadata": {
                "azdata_cell_guid": "fae5253f-a7a2-443e-91b0-92c5cc5f3976"
            },
            "attachments": {}
        },
        {
            "cell_type": "code",
            "source": [
                "SELECT DISTINCT\r\n",
                "    [city]\r\n",
                "FROM\r\n",
                "    [sales].[customers]"
            ],
            "metadata": {
                "azdata_cell_guid": "ef303be9-e014-4a2b-9697-2cca867dd3ee",
                "tags": [],
                "language": "sql"
            },
            "outputs": [],
            "execution_count": null
        },
        {
            "cell_type": "markdown",
            "source": [
                "VD2: Lấy danh sách thành phố và bang tương ứng (lọc ra giá trị trùng) từ bảng \\[customers\\]"
            ],
            "metadata": {
                "azdata_cell_guid": "1afb47ba-506f-4bc7-bc57-4a7b7b51f7da"
            },
            "attachments": {}
        },
        {
            "cell_type": "code",
            "source": [
                "SELECT DISTINCT\r\n",
                "    [city]\r\n",
                "\t,[state]\r\n",
                "FROM\r\n",
                "    [sales].[customers]"
            ],
            "metadata": {
                "azdata_cell_guid": "2eb54fee-3352-4405-833d-1bd61b322e6c",
                "language": "sql"
            },
            "outputs": [],
            "execution_count": null
        },
        {
            "cell_type": "markdown",
            "source": [
                "VD3: Lấy danh sách số điện thoại (lọc ra giá trị trùng) từ bảng \\[customers\\]"
            ],
            "metadata": {
                "azdata_cell_guid": "c677c339-9fac-4e3d-8ccf-efefb75b4787"
            },
            "attachments": {}
        },
        {
            "cell_type": "code",
            "source": [
                "SELECT DISTINCT\r\n",
                "    [phone]\r\n",
                "FROM\r\n",
                "    [sales].[customers]\r\n",
                "ORDER BY 1"
            ],
            "metadata": {
                "azdata_cell_guid": "ad1f8db0-be98-48bb-8914-fc3cc75d1acb",
                "language": "sql"
            },
            "outputs": [],
            "execution_count": null
        },
        {
            "cell_type": "markdown",
            "source": [
                "Lưu ý: Nếu bạn áp dụng mệnh đề <mark>**DISTINCT**</mark> cho cột có <mark>NUL</mark>L, mệnh đề <mark>**DISTINCT**</mark> sẽ chỉ giữ một <mark>NULL</mark> và loại dòng <mark>NULL</mark> còn lại. Nói cách khác, mệnh đề **<mark>DISTINCT</mark>** coi tất cả <mark>\"giá trị\" NULL là cùng một giá trị.</mark>"
            ],
            "metadata": {
                "azdata_cell_guid": "804e9eae-35de-4296-95eb-1afb9ce1ec99"
            },
            "attachments": {}
        },
        {
            "cell_type": "markdown",
            "source": [
                "### **<mark>SỬ DỤNG CÁC PHÉP TOÁN SỐ HỌC</mark>**"
            ],
            "metadata": {
                "azdata_cell_guid": "95b7c9a8-d2b4-411b-a6a4-4115210e7e4e"
            },
            "attachments": {}
        },
        {
            "cell_type": "markdown",
            "source": [
                "Sử dụng các phép tính : <mark>\\+ , - , \\* , / , %</mark>"
            ],
            "metadata": {
                "azdata_cell_guid": "c759fec9-9a5f-41a0-b741-9318ff44c703"
            },
            "attachments": {}
        },
        {
            "cell_type": "markdown",
            "source": [
                "VD: Áp dụng thuế 10%, tính giá trị mỗi sản phẩm sau thuế"
            ],
            "metadata": {
                "azdata_cell_guid": "4903d001-8b84-4184-8a64-fcfdc86f36a2"
            },
            "attachments": {}
        },
        {
            "cell_type": "code",
            "source": [
                "SELECT \r\n",
                "    [product_name]\r\n",
                "    ,[list_price]\r\n",
                "\t,[list_price] + [list_price] * 0.1 AS [list_price_after_tax]\r\n",
                "FROM [production].[products]"
            ],
            "metadata": {
                "azdata_cell_guid": "f7e94ca3-42a3-4121-b7dc-ca9fdd83459e",
                "language": "sql"
            },
            "outputs": [],
            "execution_count": null
        },
        {
            "cell_type": "markdown",
            "source": [
                "### **<mark>GIỚI HẠN SỐ DÒNG KẾT QUẢ</mark>**"
            ],
            "metadata": {
                "azdata_cell_guid": "0a517bb0-26c9-4d1f-a43f-201f91b73bd8"
            },
            "attachments": {}
        },
        {
            "cell_type": "markdown",
            "source": [
                "**Ý nghĩa:**\n",
                "\n",
                "\\- **<mark>TOP N</mark>**: Trả về kết quả <mark>N</mark> dòng <mark>đầu tiên</mark>\n",
                "\n",
                " - **<mark>TOP N Percent</mark>**: Trả về kết quả <mark>N% dòng đầu tiên</mark>\n",
                "\n",
                "**Cú pháp:**\n",
                "\n",
                "> <span style=\"font-size: 14px;\">SELECT TOP N | TOP N PERCENT</span>\n",
                "> \n",
                ">  <span style=\"font-size: 14px;\">&nbsp; &nbsp; &nbsp;[columns]</span>\n",
                "> \n",
                "> <span style=\"font-size: 14px;\">FROM [table_name]</span>"
            ],
            "metadata": {
                "azdata_cell_guid": "9cef8aaa-ec21-4df5-aa85-12e5e4b916df"
            },
            "attachments": {}
        },
        {
            "cell_type": "markdown",
            "source": [
                "VD1: Lấy 10 sản phẩm đắt tiền nhất"
            ],
            "metadata": {
                "azdata_cell_guid": "12da548d-ec9b-4a14-a690-178f050a1f4f"
            },
            "attachments": {}
        },
        {
            "cell_type": "code",
            "source": [
                "SELECT TOP 10\r\n",
                "    [product_name]\r\n",
                "\t,[list_price]\r\n",
                "FROM\r\n",
                "    [production].[products]\r\n",
                "ORDER BY \r\n",
                "    [list_price] DESC"
            ],
            "metadata": {
                "azdata_cell_guid": "3e0c887c-681d-4d52-9eea-af4d7befe589",
                "tags": [],
                "language": "sql"
            },
            "outputs": [],
            "execution_count": null
        },
        {
            "cell_type": "markdown",
            "source": [
                "VD2: Lấy 10% sản phẩm có giá trị đắt tiền nhất"
            ],
            "metadata": {
                "azdata_cell_guid": "fe326404-c66e-45ee-a7c8-1d1ce5ee884e"
            },
            "attachments": {}
        },
        {
            "cell_type": "code",
            "source": [
                "SELECT TOP 10 PERCENT\r\n",
                "    [product_name]\r\n",
                "    ,[list_price]\r\n",
                "FROM\r\n",
                "    [production].[products]\r\n",
                "ORDER BY \r\n",
                "    [list_price] DESC"
            ],
            "metadata": {
                "azdata_cell_guid": "8d1d62d7-10bd-488e-aab8-b24ae3c99cff",
                "language": "sql"
            },
            "outputs": [],
            "execution_count": null
        },
        {
            "cell_type": "markdown",
            "source": [
                "### **<mark>WHERE</mark>**"
            ],
            "metadata": {
                "azdata_cell_guid": "b6b2f6ff-3d0b-4a2c-9c90-f16971f83f4e"
            },
            "attachments": {}
        },
        {
            "cell_type": "markdown",
            "source": [
                "**Ý nghĩa:** Lọc kết quả theo một hoặc nhiều điều kiện\n",
                "\n",
                "**Cú pháp:**\n",
                "\n",
                "> <span style=\"font-size: 14px;\">SELECT</span>\n",
                "> \n",
                ">  <span style=\"font-size: 14px;\">&nbsp; &nbsp; [select_list]</span>\n",
                "> \n",
                "> <span style=\"font-size: 14px;\">FROM</span>\n",
                "> \n",
                ">  <span style=\"font-size: 14px;\">&nbsp; &nbsp; [table_name]</span>\n",
                "> \n",
                "> <span style=\"font-size: 14px;\">WHERE</span>\n",
                "> \n",
                ">  <span style=\"font-size: 14px;\">&nbsp; &nbsp; [condition(s)]</span>"
            ],
            "metadata": {
                "azdata_cell_guid": "8edc2b45-bcc3-49b3-853e-39a213c95fa8"
            },
            "attachments": {}
        },
        {
            "cell_type": "markdown",
            "source": [
                "<span style=\"font-size: 14px;\">Trong mệnh đề <b style=\"background-color: yellow;\">WHERE</b>, bạn chỉ định điều kiện tìm kiếm để lọc các dòng được trả về bởi mệnh đề <b style=\"background-color: yellow;\">FROM</b>. Mệnh đề <b style=\"background-color: yellow;\">WHERE</b> chỉ trả về các dòng thỏa điều kiện tìm kiếm được là <span style=\"background-color: yellow;\">TRUE.</span></span>\n",
                "\n",
                "Điều kiện tìm kiếm là một biểu thức logic hoặc kết hợp của nhiều biểu thức logic. Trong SQL, <mark>một biểu thức logic thường được gọi là một vị từ (predicate).</mark>\n",
                "\n",
                "<span style=\"font-size: 14px;\">Lưu ý rằng SQL Server sử dụng <span style=\"background-color: yellow;\">logic vị từ ba giá trị</span> trong đó biểu thức logic có thể đánh giá thành <span style=\"background-color: yellow;\">TRUE, FALSE hoặc UNKNOWN</span>. Mệnh đề <b style=\"background-color: yellow;\">WHERE</b> sẽ không trả về bất kỳ dòng nào khiến vị từ đánh giá thành<span style=\"background-color: yellow;\"> FALSE</span> hoặc <span style=\"background-color: yellow;\">UNKNOWN.</span></span>"
            ],
            "metadata": {
                "azdata_cell_guid": "297f0ae5-5aa0-4f0f-9787-e177385cb0df"
            },
            "attachments": {}
        },
        {
            "cell_type": "markdown",
            "source": [
                "VD1: Lấy các sản phẩm có id bằng 1"
            ],
            "metadata": {
                "azdata_cell_guid": "f398c44e-f50f-488f-891b-615aeb3f3b35"
            },
            "attachments": {}
        },
        {
            "cell_type": "code",
            "source": [
                "SELECT\r\n",
                "    [product_id]\r\n",
                "\t,[product_name]\r\n",
                "\t,[category_id]\r\n",
                "\t,[model_year]\r\n",
                "\t,[list_price]\r\n",
                "FROM\r\n",
                "    [production].[products]\r\n",
                "WHERE\r\n",
                "    [category_id] = 1\r\n",
                "ORDER BY\r\n",
                "    [list_price] DESC"
            ],
            "metadata": {
                "azdata_cell_guid": "b2d83dde-8a85-480a-8a15-3f30e8dac191",
                "language": "sql"
            },
            "outputs": [],
            "execution_count": null
        },
        {
            "cell_type": "markdown",
            "source": [
                "<span style=\"font-size: 14px;\">VD2: Lấy&nbsp;các sản phẩm đáp ứng hai điều kiện: id bằng 1 và model_year bằng 2018</span>"
            ],
            "metadata": {
                "azdata_cell_guid": "dffe5f5a-dced-4202-bb46-aff389454da4"
            },
            "attachments": {}
        },
        {
            "cell_type": "code",
            "source": [
                "SELECT\r\n",
                "    [product_id]\r\n",
                "\t,[product_name]\r\n",
                "\t,[category_id]\r\n",
                "\t,[model_year]\r\n",
                "\t,[list_price]\r\n",
                "FROM\r\n",
                "    [production].[products]\r\n",
                "WHERE\r\n",
                "    [category_id] = 1 AND [model_year] = 2018 --sử dụng toán tử logic AND để kết hợp hai điều kiện\r\n",
                "ORDER BY\r\n",
                "    [list_price] DESC"
            ],
            "metadata": {
                "azdata_cell_guid": "380d7e8f-e0a5-48f8-a369-8c0c4ec1cb4a",
                "language": "sql"
            },
            "outputs": [],
            "execution_count": null
        },
        {
            "cell_type": "markdown",
            "source": [
                "<span style=\"font-size: 14px;\">VD3: Lấy ra các sản phẩm có list_price&nbsp;hơn 300 và&nbsp;</span> model\\_year bằng 2018"
            ],
            "metadata": {
                "azdata_cell_guid": "c696226c-2bbb-42a7-ac18-355e56cf5394"
            },
            "attachments": {}
        },
        {
            "cell_type": "code",
            "source": [
                "SELECT\r\n",
                "    [product_id]\r\n",
                "\t,[product_name]\r\n",
                "\t,[category_id]\r\n",
                "\t,[model_year]\r\n",
                "\t,[list_price]\r\n",
                "FROM\r\n",
                "    [production].[products]\r\n",
                "WHERE\r\n",
                "    [list_price] > 300 AND [model_year] = 2018\r\n",
                "ORDER BY\r\n",
                "    [list_price] DESC"
            ],
            "metadata": {
                "azdata_cell_guid": "4f9d61be-b66f-41c6-bc14-d4df5d68fdd0",
                "language": "sql"
            },
            "outputs": [],
            "execution_count": null
        },
        {
            "cell_type": "markdown",
            "source": [
                "<span style=\"font-size: 14px;\">VD4:&nbsp;</span> Lấy ra các sản phẩm có list\\_price hơn 300 hoặc model\\_year bằng 2018"
            ],
            "metadata": {
                "azdata_cell_guid": "15a5a37f-40f7-4df8-9381-6aa3dd76b2e0"
            },
            "attachments": {}
        },
        {
            "cell_type": "code",
            "source": [
                "SELECT\r\n",
                "    [product_id]\r\n",
                "\t,[product_name]\r\n",
                "\t,[category_id]\r\n",
                "\t,[model_year]\r\n",
                "\t,[list_price]\r\n",
                "FROM\r\n",
                "    [production].[products]\r\n",
                "WHERE\r\n",
                "    [list_price] > 3000 OR model_year = 2018 --sử dụng toán tử logic OR để kiểm tra điều kiện\r\n",
                "ORDER BY\r\n",
                "    [list_price] DESC"
            ],
            "metadata": {
                "azdata_cell_guid": "543192e3-4d1c-48a5-9055-da9f5cbf5e86",
                "language": "sql"
            },
            "outputs": [],
            "execution_count": null
        },
        {
            "cell_type": "markdown",
            "source": [
                "<span style=\"font-size: 14px;\">VD5:&nbsp;</span> Lấy ra các sản phẩm có list\\_price trong khoảng từ 1,899 đến 1,999.99"
            ],
            "metadata": {
                "azdata_cell_guid": "9053f567-14d1-41b3-a7bb-6f3301d41f09"
            },
            "attachments": {}
        },
        {
            "cell_type": "code",
            "source": [
                "SELECT\r\n",
                "    [product_id]\r\n",
                "\t,[product_name]\r\n",
                "\t,[category_id]\r\n",
                "\t,[model_year]\r\n",
                "\t,[list_price]\r\n",
                "FROM\r\n",
                "    [production].[products]\r\n",
                "WHERE\r\n",
                "    [list_price] BETWEEN 1899.00 AND 1999.99\r\n",
                "ORDER BY\r\n",
                "    [list_price] DESC"
            ],
            "metadata": {
                "azdata_cell_guid": "cadecccb-84b9-4131-a70c-3793fde214ba",
                "language": "sql"
            },
            "outputs": [],
            "execution_count": null
        },
        {
            "cell_type": "markdown",
            "source": [
                "<span style=\"font-size: 14px;\">VD6:&nbsp;</span> Lấy ra các sản phẩm có list\\_price bằng <span style=\"font-size: 14px;\">&nbsp;299.99 hoặc 466.99 hoặc 489.99</span>"
            ],
            "metadata": {
                "azdata_cell_guid": "199784ba-ede0-4ccc-85f7-e95c4f787f62"
            },
            "attachments": {}
        },
        {
            "cell_type": "code",
            "source": [
                "SELECT\r\n",
                "    [product_id]\r\n",
                "\t,[product_name]\r\n",
                "\t,[category_id]\r\n",
                "\t,[model_year]\r\n",
                "\t,[list_price]\r\n",
                "FROM\r\n",
                "    [production].[products]\r\n",
                "WHERE\r\n",
                "    [list_price] IN (299.99, 369.99, 489.99)\r\n",
                "ORDER BY\r\n",
                "    [list_price] DESC"
            ],
            "metadata": {
                "azdata_cell_guid": "747fd1a8-1e8a-40b7-bd97-bbf93871e94e",
                "language": "sql"
            },
            "outputs": [],
            "execution_count": null
        },
        {
            "cell_type": "markdown",
            "source": [
                "<span style=\"font-size: 14px;\">VD7:&nbsp;</span> Lấy ra các sản phẩm mà product\\_name có chứa từ \"Cruiser\""
            ],
            "metadata": {
                "azdata_cell_guid": "e926d524-1778-4690-aa9e-dc068fb6c556"
            },
            "attachments": {}
        },
        {
            "cell_type": "code",
            "source": [
                "SELECT\r\n",
                "    [product_id]\r\n",
                "\t,[product_name]\r\n",
                "\t,[category_id]\r\n",
                "\t,[model_year]\r\n",
                "\t,[list_price]\r\n",
                "FROM\r\n",
                "    [production].[products]\r\n",
                "WHERE\r\n",
                "    [product_name] LIKE '%Cruiser%'\r\n",
                "ORDER BY\r\n",
                "    [list_price]"
            ],
            "metadata": {
                "azdata_cell_guid": "41dd1027-3078-4bb1-aaaa-59095b8d434e",
                "language": "sql"
            },
            "outputs": [],
            "execution_count": null
        },
        {
            "cell_type": "markdown",
            "source": [
                "### <span style=\"font-size: 14px; background-color: yellow;\"><b>AND và OR</b></span>"
            ],
            "metadata": {
                "azdata_cell_guid": "5861007f-5cd9-4ce7-897c-47dcc440d4ff"
            },
            "attachments": {}
        },
        {
            "cell_type": "markdown",
            "source": [
                "<span style=\"font-size: 14px; background-color: yellow;\"><b>- AND:</b></span>\n",
                "\n",
                "<span style=\"font-size: 14px;\"><b>Ý nghĩa:</b> <b style=\"background-color: yellow;\">AND</b> là một toán tử logic cho phép bạn kết hợp <span style=\"background-color: yellow;\">hai biểu thức Boolean</span>. Nó chỉ trả về <span style=\"background-color: yellow;\">TRUE</span> khi cả hai biểu thức đều đánh giá là<span style=\"background-color: yellow;\"> TRUE</span>.</span>\n",
                "\n",
                "**Cú pháp:** \n",
                "\n",
                "> boolean\\_expression **AND** boolean\\_expression\n",
                "\n",
                "**<mark>\\- OR:</mark>**\n",
                "\n",
                "**Ý nghĩa:** <mark>**OR**</mark> là một toán tử logic cho phép bạn kết hợp hai biểu thức Boolean. Nó trả về <mark>TRUE</mark> khi một trong hai điều kiện được đánh giá là TRUE.\n",
                "\n",
                "**Cú pháp:** \n",
                "\n",
                "> boolean\\_expression **OR** boolean\\_expression"
            ],
            "metadata": {
                "azdata_cell_guid": "cc95c897-aca7-43f7-a2d2-56141970b77f"
            },
            "attachments": {}
        },
        {
            "cell_type": "markdown",
            "source": [
                "**Lưu ý:**\n",
                "\n",
                "\\- Khi bạn sử dụng nhiều hơn một toán tử logic trong một biểu thức, SQL Server sẽ đánh giá toán tử **OR** <mark>sau</mark> toán tử **AND**. Tuy nhiên, bạn có thể thay đổi thứ tự đánh giá bằng cách sử dụng dấu <mark>ngoặc đơn</mark>."
            ],
            "metadata": {
                "azdata_cell_guid": "a87fa331-fba8-4f41-8094-8be67f0dc2dd"
            },
            "attachments": {}
        },
        {
            "cell_type": "markdown",
            "source": [
                "VD1: Lấy các sản phẩm có category\\_id bằng 1 và có list\\_price lớn hơn 400"
            ],
            "metadata": {
                "azdata_cell_guid": "4e409214-5c71-4984-94b1-a3ecf981596e"
            },
            "attachments": {}
        },
        {
            "cell_type": "code",
            "source": [
                "SELECT\r\n",
                "    *\r\n",
                "FROM\r\n",
                "    [production].[products]\r\n",
                "WHERE\r\n",
                "    [category_id] = 1 AND [list_price] > 400"
            ],
            "metadata": {
                "azdata_cell_guid": "8ed12335-fa79-4d78-a979-05da711eb1b6",
                "language": "sql"
            },
            "outputs": [],
            "execution_count": null
        },
        {
            "cell_type": "markdown",
            "source": [
                "VD2: Lấy các sản phẩm có list\\_price nhỏ hơn 200 hoặc list\\_price lớn hơn 6000"
            ],
            "metadata": {
                "azdata_cell_guid": "901a3bf0-646e-4d4c-95c0-e40b7ad5332d"
            },
            "attachments": {}
        },
        {
            "cell_type": "code",
            "source": [
                "SELECT\r\n",
                "    [product_name]\r\n",
                "\t,[list_price]\r\n",
                "FROM\r\n",
                "    [production].[products]\r\n",
                "WHERE\r\n",
                "    [list_price] < 200 OR [list_price] > 6000\r\n",
                "ORDER BY\r\n",
                "    list_price"
            ],
            "metadata": {
                "azdata_cell_guid": "0c99420a-5b69-4b0e-a80d-ca4d6bc77ac0",
                "language": "sql"
            },
            "outputs": [],
            "execution_count": null
        },
        {
            "cell_type": "markdown",
            "source": [
                "VD3: Lấy các sản phẩm thỏa các điều kiện sau: category\\_id bằng 1 và list\\_price \\> 400 và brand\\_id = 1"
            ],
            "metadata": {
                "azdata_cell_guid": "affba090-cc18-4b11-9be1-7abe1ecc01b9"
            },
            "attachments": {}
        },
        {
            "cell_type": "code",
            "source": [
                "SELECT\r\n",
                "    *\r\n",
                "FROM\r\n",
                "    [production].[products]\r\n",
                "WHERE\r\n",
                "    [category_id] = 1\r\n",
                "AND [list_price] > 400\r\n",
                "AND [brand_id] = 1\r\n",
                "ORDER BY\r\n",
                "    [list_price] DESC"
            ],
            "metadata": {
                "azdata_cell_guid": "8f1bd221-8e81-4297-8616-9ad4edccaeb7",
                "language": "sql"
            },
            "outputs": [],
            "execution_count": null
        },
        {
            "cell_type": "markdown",
            "source": [
                "VD4: Lấy các sản phẩm thỏa các điều kiện sau: brand\\_id = 1 hoặc brand\\_id = 2 hoặc brand\\_id = 4"
            ],
            "metadata": {
                "azdata_cell_guid": "6a666b85-845f-4df8-8500-2a048c7e422c"
            },
            "attachments": {}
        },
        {
            "cell_type": "code",
            "source": [
                "SELECT\r\n",
                "    [product_name]\r\n",
                "\t,[brand_id]\r\n",
                "FROM\r\n",
                "    [production].[products]\r\n",
                "WHERE\r\n",
                "    [brand_id] = 1\r\n",
                "\tOR [brand_id] = 2\r\n",
                "\tOR [brand_id] = 4\r\n",
                "ORDER BY\r\n",
                "    [brand_id] DESC"
            ],
            "metadata": {
                "azdata_cell_guid": "66e6228d-9617-4bdf-8f82-3cba67acd0cf",
                "tags": [],
                "language": "sql"
            },
            "outputs": [],
            "execution_count": null
        },
        {
            "cell_type": "markdown",
            "source": [
                "VD5: Lấy các sản phẩm thỏa các điều kiện sau: brand\\_id bằng 1 hoặc brand\\_id = 2 và list\\_price \\> 1000"
            ],
            "metadata": {
                "azdata_cell_guid": "7301dec2-ab2e-497b-8c5b-550f8d15a62c"
            },
            "attachments": {}
        },
        {
            "cell_type": "code",
            "source": [
                "SELECT\r\n",
                "    *\r\n",
                "FROM\r\n",
                "    [production].[products]\r\n",
                "WHERE\r\n",
                "    [brand_id] = 1\r\n",
                "\tOR brand_id = 2\r\n",
                "\tAND [list_price] > 1000\r\n",
                "ORDER BY\r\n",
                "    [brand_id] DESC"
            ],
            "metadata": {
                "azdata_cell_guid": "eb72e029-eb44-4015-a8b5-5f00438bff17",
                "language": "sql"
            },
            "outputs": [],
            "execution_count": null
        },
        {
            "cell_type": "code",
            "source": [
                "SELECT\r\n",
                "    *\r\n",
                "FROM\r\n",
                "    [production].[products]\r\n",
                "WHERE\r\n",
                "    ([brand_id] = 1 OR [brand_id] = 2)\r\n",
                "\tAND [list_price] > 1000\r\n",
                "ORDER BY\r\n",
                "    [brand_id]"
            ],
            "metadata": {
                "azdata_cell_guid": "a82ebae6-36cb-4bac-8d1c-a88b107820ab",
                "language": "sql"
            },
            "outputs": [],
            "execution_count": null
        },
        {
            "cell_type": "markdown",
            "source": [
                "### **<mark>IN</mark>**"
            ],
            "metadata": {
                "azdata_cell_guid": "e826d2e7-29d7-45bf-be0c-ded48ca28e41"
            },
            "attachments": {}
        },
        {
            "cell_type": "markdown",
            "source": [
                "**Ý nghĩa:** Toán tử <mark>**IN**</mark> là một toán tử logic cho phép bạn kiểm tra xem một giá trị được chỉ định có khớp với bất kỳ giá trị nào trong danh sách hay không\n",
                "\n",
                "**Cú pháp:** \n",
                "\n",
                "> column | expression IN ( v1, v2, v3, ...)\n",
                "\n",
                " <span style=\"font-size: 14px;\">&nbsp; &nbsp; &nbsp;Trong cú pháp này:</span>\n",
                "\n",
                " <span style=\"font-size: 14px;\">&nbsp; &nbsp; &nbsp; &nbsp; &nbsp; - Đầu tiên, chỉ định cột hoặc biểu thức để kiểm tra.</span>\n",
                "\n",
                " <span style=\"font-size: 14px;\">&nbsp; &nbsp; &nbsp; &nbsp; &nbsp; - Thứ hai, chỉ định một danh sách các giá trị để kiểm tra. Tất cả các giá trị phải có cùng kiểu với kiểu của cột hoặc biểu thức.&nbsp;</span> \n",
                "\n",
                " <span style=\"font-size: 14px;\">&nbsp; &nbsp; &nbsp;Nếu một giá trị trong cột hoặc biểu thức bằng bất kỳ giá trị nào trong danh sách, thì kết quả của toán tử <b>IN</b> là TRUE.</span>"
            ],
            "metadata": {
                "azdata_cell_guid": "d5343419-ac09-4cbd-b225-e82de67bbe9f"
            },
            "attachments": {}
        },
        {
            "cell_type": "markdown",
            "source": [
                "<span style=\"font-size: 14px;\">Toán tử IN tương đương với nhiều OR:</span>\n",
                "\n",
                "> <span style=\"font-size: 14px;\">column IN (v1, v2, v3)</span>\n",
                "\n",
                "> column = v1 OR column = v2 OR column = v3\n",
                "\n",
                "<span style=\"font-size: 14px;\"><br></span>\n",
                "\n",
                "<span style=\"font-size: 14px;\">Để phủ định toán tử<span style=\"background-color: yellow;\"> <b>IN</b></span>, bạn sử dụng toán tử <b style=\"background-color: yellow;\">NOT IN</b> như sau:</span>\n",
                "\n",
                "> <span style=\"font-size: 14px;\">column | expression NOT IN ( v1, v2, v3, ...)</span>\n",
                "\n",
                "<span style=\"font-size: 14px;\">Kết quả toán tử <span style=\"background-color: yellow;\"><b>NOT IN</b> </span>là <span style=\"background-color: yellow;\">TRUE </span>nếu cột hoặc biểu thức không bằng bất kỳ giá trị nào trong danh sách.</span>"
            ],
            "metadata": {
                "azdata_cell_guid": "f2c84ceb-0b4a-49ec-b816-27e3a94fb433"
            },
            "attachments": {}
        },
        {
            "cell_type": "markdown",
            "source": [
                "VD1: Lấy các sản phẩm có list\\_price bằng 89.99 hoặc 109.99 hoặc 159.99"
            ],
            "metadata": {
                "azdata_cell_guid": "c61248d1-6d9d-4dcf-8beb-9045543e2d6c"
            },
            "attachments": {}
        },
        {
            "cell_type": "code",
            "source": [
                "SELECT\r\n",
                "    [product_name]\r\n",
                "\t,[list_price]\r\n",
                "FROM\r\n",
                "    [production].[products]\r\n",
                "WHERE\r\n",
                "    [list_price] = 89.99 OR [list_price] = 109.99 OR [list_price] = 159.99\r\n",
                "ORDER BY\r\n",
                "    list_price"
            ],
            "metadata": {
                "azdata_cell_guid": "53a9c076-fc24-4dfc-a6ef-846fbc304ae0",
                "language": "sql"
            },
            "outputs": [],
            "execution_count": null
        },
        {
            "cell_type": "code",
            "source": [
                "SELECT\r\n",
                "    [product_name]\r\n",
                "\t,[list_price]\r\n",
                "FROM\r\n",
                "    [production].[products]\r\n",
                "WHERE\r\n",
                "    [list_price] IN (89.99, 109.99, 159.99)\r\n",
                "ORDER BY\r\n",
                "    [list_price]"
            ],
            "metadata": {
                "azdata_cell_guid": "34981b4c-9311-415c-9ce6-23e38e13a8ec",
                "tags": [],
                "language": "sql"
            },
            "outputs": [],
            "execution_count": null
        },
        {
            "cell_type": "markdown",
            "source": [
                "VD2: Lấy các sản phẩm có list\\_price không bằng 3 giá trị trong VD1"
            ],
            "metadata": {
                "azdata_cell_guid": "b971fc96-218b-4201-a264-89bb140d56d1"
            },
            "attachments": {}
        },
        {
            "cell_type": "code",
            "source": [
                "SELECT\r\n",
                "    [product_name]\r\n",
                "\t,[list_price]\r\n",
                "FROM\r\n",
                "    [production].[products]\r\n",
                "WHERE\r\n",
                "    [list_price] NOT IN (89.99, 109.99, 159.99)\r\n",
                "ORDER BY\r\n",
                "    [list_price]"
            ],
            "metadata": {
                "azdata_cell_guid": "9eeddb2b-c037-4d00-9a42-d876fb7773c9",
                "language": "sql"
            },
            "outputs": [],
            "execution_count": null
        },
        {
            "cell_type": "markdown",
            "source": [
                "### <span style=\"font-size: 14px; background-color: yellow;\"><b>BETWEEN ... AND ...</b></span>"
            ],
            "metadata": {
                "azdata_cell_guid": "1a8d5f31-7972-4e68-b411-e5c69452b9f2"
            },
            "attachments": {}
        },
        {
            "cell_type": "markdown",
            "source": [
                "<span style=\"font-size: 14px;\">Ý nghĩa: Toán tử<span style=\"background-color: yellow;\"> <b>BETWEEN</b></span> là một toán tử logic cho phép bạn chỉ định một phạm vi để kiểm tra.</span>\n",
                "\n",
                "<span style=\"font-size: 14px;\">Cú pháp:</span>\n",
                "\n",
                "> <span style=\"font-size: 14px;\">column | expression BETWEEN start_expression AND end_expression</span>\n",
                "> \n",
                "> <span style=\"font-size: 14px;\">(</span>column | expression \\<= end\\_expression AND column | expression \\>= start\\_expression)\n",
                "\n",
                "<span style=\"font-size: 14px;\">Trong cú pháp này:</span>\n",
                "\n",
                "<span style=\"font-size: 14px;\">- Đầu tiên, chỉ định cột hoặc biểu thức để kiểm tra.</span>\n",
                "\n",
                "<span style=\"font-size: 14px;\">- Thứ hai, đặt start_expression và end_expression giữa từ khóa <b style=\"background-color: yellow;\">BETWEEN</b> và <b style=\"background-color: yellow;\">AND</b>. Biểu thức start_expression, end_expression và biểu thức cần kiểm tra phải có cùng kiểu dữ liệu.</span>\n",
                "\n",
                "<span style=\"font-size: 14px;\">Toán tử<span style=\"background-color: yellow;\"> <b>BETWEEN</b></span> trả về <span style=\"background-color: yellow;\">TRUE</span> nếu biểu thức cần kiểm tra lớn hơn hoặc bằng giá trị của biểu thức start_expression và nhỏ hơn hoặc bằng giá trị của biểu thức end_expression</span>\n",
                "\n",
                "Để phủ định kết quả của toán tử **<mark>BETWEEN</mark>**, bạn sử dụng toán tử **<mark>NOT BETWEEN</mark>** như sau:\n",
                "\n",
                "> column | expression NOT BETWEEN start\\_expression AND end\\_expresion\n",
                "> \n",
                "> (column | expression \\< start\\_expression AND column | expression \\> end\\_expression)\n",
                "\n",
                "<span style=\"font-size: 14px;\">Lưu ý: Nếu bất kỳ đầu vào nào cho <b style=\"background-color: yellow;\">BETWEEN</b> hoặc <b style=\"background-color: yellow;\">NOT BETWEEN</b> là <span style=\"background-color: yellow;\">NULL</span>, thì dòng chứa giá trị NULL sẽ bị loại bỏ.</span>"
            ],
            "metadata": {
                "azdata_cell_guid": "a7a326f7-cfb2-4d89-951b-d7ca34379729"
            },
            "attachments": {}
        },
        {
            "cell_type": "markdown",
            "source": [
                "VD1: Lấy các sản phẩm có list\\_price trong khoảng từ 149.99 đến 199.99"
            ],
            "metadata": {
                "azdata_cell_guid": "d877644f-24e5-40e1-8e34-1a94b1957936"
            },
            "attachments": {}
        },
        {
            "cell_type": "code",
            "source": [
                "SELECT\r\n",
                "    [product_id]\r\n",
                "\t,[product_name]\r\n",
                "\t,[list_price]\r\n",
                "FROM\r\n",
                "    [production].[products]\r\n",
                "WHERE\r\n",
                "    [list_price] BETWEEN 149.99 AND 199.99\r\n",
                "ORDER BY\r\n",
                "    [list_price]"
            ],
            "metadata": {
                "azdata_cell_guid": "3301f9b0-12dd-4f93-a441-b47fc2849dd5",
                "language": "sql"
            },
            "outputs": [],
            "execution_count": null
        },
        {
            "cell_type": "markdown",
            "source": [
                "VD2: Lấy các sản phẩm có list\\_price không nằm trong khoảng từ 149.99 đến 199.99"
            ],
            "metadata": {
                "azdata_cell_guid": "18ef9cc0-770a-48a9-8f06-d8b40e51d601"
            },
            "attachments": {}
        },
        {
            "cell_type": "code",
            "source": [
                "SELECT\r\n",
                "    [product_id]\r\n",
                "\t,[product_name]\r\n",
                "\t,[list_price]\r\n",
                "FROM\r\n",
                "    [production].[products]\r\n",
                "WHERE\r\n",
                "    [list_price] NOT BETWEEN 149.99 AND 199.99\r\n",
                "ORDER BY\r\n",
                "    [list_price]"
            ],
            "metadata": {
                "azdata_cell_guid": "99f6b048-3207-4d1a-9291-f59f855ad6a5",
                "language": "sql"
            },
            "outputs": [],
            "execution_count": null
        },
        {
            "cell_type": "markdown",
            "source": [
                "### **<mark>LIKE</mark>**"
            ],
            "metadata": {
                "azdata_cell_guid": "5c199516-c159-47a4-9a5b-b614a823cd94"
            },
            "attachments": {}
        },
        {
            "cell_type": "markdown",
            "source": [
                "**Ý nghĩa:** **LIKE** là một toán tử logic xác định xem một chuỗi ký tự có khớp với một mẫu được chỉ định hay không. Một mẫu có thể bao gồm các ký tự thông thường và các ký tự đại diện. Toán tử <mark>**LIKE**</mark> được sử dụng trong mệnh đề **<mark>WHERE</mark>** của câu lệnh **<mark>SELECT</mark>**, **<mark>UPDATE</mark>** và **<mark>DELETE</mark>** để lọc các hàng dựa trên đối sánh mẫu.\n",
                "\n",
                "<span style=\"font-size: 14px;\"><b>Cú pháp:</b></span>\n",
                "\n",
                "> <span style=\"font-size: 14px;\">column | expression LIKE pattern [ESCAPE escape_character]</span>\n",
                "\n",
                "<span style=\"font-size: 14px;\">Pattern:&nbsp;là một chuỗi các ký tự để tìm kiếm trong cột hoặc biểu thức</span>\n",
                "\n",
                "- <span style=\"font-size: 14px;\">The percent wildcard <span style=\"background-color: yellow;\">(%)</span>:&nbsp;bất kỳ chuỗi nào không hoặc nhiều ký tự</span>\n",
                "- The underscore <mark>(\\_)</mark> wildcard: bất kỳ ký tự đơn nào\n",
                "- The <mark>\\[list of characters\\]</mark> wildcard: bất kỳ ký tự đơn nào trong tập hợp được chỉ định\n",
                "- The <mark>\\[character-character\\]</mark>: bất kỳ ký tự đơn nào trong phạm vi được chỉ định\n",
                "- The <mark>\\[^\\]</mark>: bất kỳ ký tự đơn nào không nằm trong danh sách hoặc một dải ô\n",
                "\n",
                "<span style=\"font-size: 14px;\"><span style=\"background-color: yellow;\">Escape character</span>:&nbsp;chỉ thị cho toán tử<span style=\"background-color: yellow;\"> LIKE </span>xử lý các ký tự đại diện như các ký tự thông thường. Ký tự thoát không có giá trị mặc định và chỉ được đánh giá là một ký tự.</span>\n",
                "\n",
                "<span style=\"font-size: 14px;\">Toán tử LIKE trả về TRUE nếu cột hoặc biểu thức khớp với mẫu được chỉ định.</span>\n",
                "\n",
                "<span style=\"font-size: 14px;\">Để phủ định kết quả của toán tử <span style=\"background-color: yellow;\">LIKE,</span> bạn sử dụng toán tử <span style=\"background-color: yellow;\">NOT</span> như sau:</span>\n",
                "\n",
                "> <span style=\"font-size: 14px;\">column | expression NOT LIKE pattern [ESCAPE escape_character]</span>"
            ],
            "metadata": {
                "azdata_cell_guid": "22491b98-40c5-491e-a911-01383f8761c5"
            },
            "attachments": {}
        },
        {
            "cell_type": "markdown",
            "source": [
                "VD1: Lấy danh sách khách hàng có last\\_name bắt đầu bằng chữ 'z'"
            ],
            "metadata": {
                "azdata_cell_guid": "18afcb15-8da2-4ab0-aa00-fa8d823b9bbf"
            },
            "attachments": {}
        },
        {
            "cell_type": "code",
            "source": [
                "SELECT\r\n",
                "    [customer_id]\r\n",
                "\t,[first_name]\r\n",
                "\t,[last_name]\r\n",
                "FROM\r\n",
                "    [sales].[customers]\r\n",
                "WHERE\r\n",
                "    [last_name] LIKE 'z%'\r\n",
                "ORDER BY\r\n",
                "    [first_name]"
            ],
            "metadata": {
                "azdata_cell_guid": "9ed3776f-7481-4a1a-92be-d77b10713e71",
                "language": "sql"
            },
            "outputs": [],
            "execution_count": null
        },
        {
            "cell_type": "markdown",
            "source": [
                "VD2: Lấy danh sách khách hàng có last\\_name kết thúc bằng chữ 'er'"
            ],
            "metadata": {
                "azdata_cell_guid": "8bbf6c85-44a6-4bb9-aef8-a335055b948b"
            },
            "attachments": {}
        },
        {
            "cell_type": "code",
            "source": [
                "SELECT\r\n",
                "    [customer_id]\r\n",
                "\t,[first_name]\r\n",
                "\t,[last_name]\r\n",
                "FROM\r\n",
                "    [sales].[customers]\r\n",
                "WHERE\r\n",
                "    [last_name] LIKE '%er'\r\n",
                "ORDER BY\r\n",
                "    [first_name]"
            ],
            "metadata": {
                "azdata_cell_guid": "83fbccc4-3451-4a81-8449-774c9b16ec0c",
                "language": "sql"
            },
            "outputs": [],
            "execution_count": null
        },
        {
            "cell_type": "markdown",
            "source": [
                "VD3: Lấy danh sách khách hàng có last\\_name bắt đầu bằng chữ 't' và kết thúc bằng chữ 's'"
            ],
            "metadata": {
                "azdata_cell_guid": "55256970-08e9-4cf0-974d-2ceada8c1aa4"
            },
            "attachments": {}
        },
        {
            "cell_type": "code",
            "source": [
                "SELECT\r\n",
                "    [customer_id]\r\n",
                "\t,[first_name]\r\n",
                "\t,[last_name]\r\n",
                "FROM\r\n",
                "    [sales].[customers]\r\n",
                "WHERE\r\n",
                "    [last_name] LIKE 't%s'\r\n",
                "ORDER BY\r\n",
                "    [first_name]"
            ],
            "metadata": {
                "azdata_cell_guid": "32710b97-6bd3-4ead-b541-986ba476ced8",
                "language": "sql"
            },
            "outputs": [],
            "execution_count": null
        },
        {
            "cell_type": "markdown",
            "source": [
                "VD4: Lấy danh sách khách hàng có last\\_name có ký tự thứ 2 là 'u'"
            ],
            "metadata": {
                "azdata_cell_guid": "5f27a8dd-6e3b-4c2d-9ec7-d1e6f1a43d17"
            },
            "attachments": {}
        },
        {
            "cell_type": "code",
            "source": [
                "SELECT\r\n",
                "    [customer_id]\r\n",
                "\t,[first_name]\r\n",
                "\t,[last_name]\r\n",
                "FROM\r\n",
                "    [sales].[customers]\r\n",
                "WHERE\r\n",
                "    [last_name] LIKE '_u%'\r\n",
                "ORDER BY\r\n",
                "    [first_name]"
            ],
            "metadata": {
                "azdata_cell_guid": "dbac6dc9-dde4-427e-ac22-bff8c0df3651",
                "language": "sql"
            },
            "outputs": [],
            "execution_count": null
        },
        {
            "cell_type": "markdown",
            "source": [
                "VD5: Lấy danh sách khách hàng có last\\_name có ký tự đầu là 'Y' hoặc 'Z'"
            ],
            "metadata": {
                "azdata_cell_guid": "6a12cb07-1e28-4f7b-816e-51c909798da4"
            },
            "attachments": {}
        },
        {
            "cell_type": "code",
            "source": [
                "SELECT\r\n",
                "    [customer_id]\r\n",
                "\t,[first_name]\r\n",
                "\t,[last_name]\r\n",
                "FROM\r\n",
                "    [sales].[customers]\r\n",
                "WHERE\r\n",
                "    [last_name] LIKE '[YZ]%'\r\n",
                "ORDER BY\r\n",
                "    [last_name]"
            ],
            "metadata": {
                "azdata_cell_guid": "66fd1168-cad1-421d-be02-f007f3461d24",
                "language": "sql"
            },
            "outputs": [],
            "execution_count": null
        },
        {
            "cell_type": "markdown",
            "source": [
                "VD6: Lấy danh sách khách hàng có last\\_name có ký tự đầu từ 'A' đến 'C' trong bảng chữ cái"
            ],
            "metadata": {
                "azdata_cell_guid": "6d981c1e-7111-4ac1-b68d-ad5b49de1f04"
            },
            "attachments": {}
        },
        {
            "cell_type": "code",
            "source": [
                "SELECT\r\n",
                "    [customer_id]\r\n",
                "\t,[first_name]\r\n",
                "\t,[last_name]\r\n",
                "FROM\r\n",
                "    [sales].[customers]\r\n",
                "WHERE\r\n",
                "    [last_name] LIKE '[A-C]%'\r\n",
                "ORDER BY\r\n",
                "    [last_name]"
            ],
            "metadata": {
                "azdata_cell_guid": "a0b17b2e-4b7d-4d20-b537-f86bf70b9ba4",
                "language": "sql"
            },
            "outputs": [],
            "execution_count": null
        },
        {
            "cell_type": "markdown",
            "source": [
                "VD7: Lấy danh sách khách hàng có last\\_name có ký tự đầu KHÔNG thuộc đoạn từ 'A' đến 'X' trong bảng chữ cái"
            ],
            "metadata": {
                "azdata_cell_guid": "9da6644e-df74-45e8-ad1c-52decdd0e5a4"
            },
            "attachments": {}
        },
        {
            "cell_type": "code",
            "source": [
                "SELECT\r\n",
                "    [customer_id]\r\n",
                "\t,[first_name]\r\n",
                "\t,[last_name]\r\n",
                "FROM\r\n",
                "    [sales].[customers]\r\n",
                "WHERE\r\n",
                "    [last_name] LIKE '[^A-X]%'\r\n",
                "ORDER BY\r\n",
                "    [last_name]"
            ],
            "metadata": {
                "azdata_cell_guid": "9d6152b5-3eb4-4d26-b031-b719626f469d",
                "language": "sql"
            },
            "outputs": [
                {
                    "output_type": "display_data",
                    "data": {
                        "text/html": "(9 rows affected)"
                    },
                    "metadata": {}
                },
                {
                    "output_type": "display_data",
                    "data": {
                        "text/html": "Total execution time: 00:00:00.003"
                    },
                    "metadata": {}
                },
                {
                    "output_type": "execute_result",
                    "execution_count": 2,
                    "data": {
                        "application/vnd.dataresource+json": {
                            "schema": {
                                "fields": [
                                    {
                                        "name": "customer_id"
                                    },
                                    {
                                        "name": "first_name"
                                    },
                                    {
                                        "name": "last_name"
                                    }
                                ]
                            },
                            "data": [
                                {
                                    "0": "54",
                                    "1": "Fran",
                                    "2": "Yang"
                                },
                                {
                                    "0": "250",
                                    "1": "Ivonne",
                                    "2": "Yang"
                                },
                                {
                                    "0": "768",
                                    "1": "Yvone",
                                    "2": "Yates"
                                },
                                {
                                    "0": "223",
                                    "1": "Scarlet",
                                    "2": "Yates"
                                },
                                {
                                    "0": "498",
                                    "1": "Edda",
                                    "2": "Young"
                                },
                                {
                                    "0": "543",
                                    "1": "Jasmin",
                                    "2": "Young"
                                },
                                {
                                    "0": "1354",
                                    "1": "Alexandria",
                                    "2": "Zamora"
                                },
                                {
                                    "0": "304",
                                    "1": "Jayme",
                                    "2": "Zamora"
                                },
                                {
                                    "0": "110",
                                    "1": "Ollie",
                                    "2": "Zimmerman"
                                }
                            ]
                        },
                        "text/html": "<table><tr><th>customer_id</th><th>first_name</th><th>last_name</th></tr><tr><td>54</td><td>Fran</td><td>Yang</td></tr><tr><td>250</td><td>Ivonne</td><td>Yang</td></tr><tr><td>768</td><td>Yvone</td><td>Yates</td></tr><tr><td>223</td><td>Scarlet</td><td>Yates</td></tr><tr><td>498</td><td>Edda</td><td>Young</td></tr><tr><td>543</td><td>Jasmin</td><td>Young</td></tr><tr><td>1354</td><td>Alexandria</td><td>Zamora</td></tr><tr><td>304</td><td>Jayme</td><td>Zamora</td></tr><tr><td>110</td><td>Ollie</td><td>Zimmerman</td></tr></table>"
                    },
                    "metadata": {}
                }
            ],
            "execution_count": 2
        },
        {
            "cell_type": "code",
            "source": [
                "SELECT\r\n",
                "    [customer_id]\r\n",
                "\t,[first_name]\r\n",
                "\t,[last_name]\r\n",
                "FROM\r\n",
                "    [sales].[customers]\r\n",
                "WHERE\r\n",
                "    [last_name] not LIKE '[A-X]%'\r\n",
                "ORDER BY\r\n",
                "    [last_name]"
            ],
            "metadata": {
                "azdata_cell_guid": "211a371b-8707-45d6-b912-188b5831c45e",
                "language": "sql"
            },
            "outputs": [
                {
                    "output_type": "display_data",
                    "data": {
                        "text/html": "(9 rows affected)"
                    },
                    "metadata": {}
                },
                {
                    "output_type": "display_data",
                    "data": {
                        "text/html": "Total execution time: 00:00:00.007"
                    },
                    "metadata": {}
                },
                {
                    "output_type": "execute_result",
                    "execution_count": 1,
                    "data": {
                        "application/vnd.dataresource+json": {
                            "schema": {
                                "fields": [
                                    {
                                        "name": "customer_id"
                                    },
                                    {
                                        "name": "first_name"
                                    },
                                    {
                                        "name": "last_name"
                                    }
                                ]
                            },
                            "data": [
                                {
                                    "0": "54",
                                    "1": "Fran",
                                    "2": "Yang"
                                },
                                {
                                    "0": "250",
                                    "1": "Ivonne",
                                    "2": "Yang"
                                },
                                {
                                    "0": "768",
                                    "1": "Yvone",
                                    "2": "Yates"
                                },
                                {
                                    "0": "223",
                                    "1": "Scarlet",
                                    "2": "Yates"
                                },
                                {
                                    "0": "498",
                                    "1": "Edda",
                                    "2": "Young"
                                },
                                {
                                    "0": "543",
                                    "1": "Jasmin",
                                    "2": "Young"
                                },
                                {
                                    "0": "1354",
                                    "1": "Alexandria",
                                    "2": "Zamora"
                                },
                                {
                                    "0": "304",
                                    "1": "Jayme",
                                    "2": "Zamora"
                                },
                                {
                                    "0": "110",
                                    "1": "Ollie",
                                    "2": "Zimmerman"
                                }
                            ]
                        },
                        "text/html": "<table><tr><th>customer_id</th><th>first_name</th><th>last_name</th></tr><tr><td>54</td><td>Fran</td><td>Yang</td></tr><tr><td>250</td><td>Ivonne</td><td>Yang</td></tr><tr><td>768</td><td>Yvone</td><td>Yates</td></tr><tr><td>223</td><td>Scarlet</td><td>Yates</td></tr><tr><td>498</td><td>Edda</td><td>Young</td></tr><tr><td>543</td><td>Jasmin</td><td>Young</td></tr><tr><td>1354</td><td>Alexandria</td><td>Zamora</td></tr><tr><td>304</td><td>Jayme</td><td>Zamora</td></tr><tr><td>110</td><td>Ollie</td><td>Zimmerman</td></tr></table>"
                    },
                    "metadata": {}
                }
            ],
            "execution_count": 1
        },
        {
            "cell_type": "markdown",
            "source": [
                "VD8: Lấy danh sách khách hàng có first\\_name có ký tự đầu KHÔNG phải là 'A'"
            ],
            "metadata": {
                "azdata_cell_guid": "5dec2da1-8245-4b2a-a611-3f5cadb350b0"
            },
            "attachments": {}
        },
        {
            "cell_type": "code",
            "source": [
                "SELECT\r\n",
                "    [customer_id]\r\n",
                "\t,[first_name]\r\n",
                "\t,[last_name]\r\n",
                "FROM\r\n",
                "    [sales].[customers]\r\n",
                "WHERE\r\n",
                "    [first_name] NOT LIKE 'A%'\r\n",
                "ORDER BY\r\n",
                "    [first_name]"
            ],
            "metadata": {
                "azdata_cell_guid": "aee461ba-518a-46e0-9e3c-743d5be3bf9e",
                "tags": [],
                "language": "sql"
            },
            "outputs": [],
            "execution_count": null
        },
        {
            "cell_type": "markdown",
            "source": [
                "VD9: Tìm kiếm comment có xuất hiện '30%'"
            ],
            "metadata": {
                "azdata_cell_guid": "80f30ac2-91c5-487b-a9bc-e090e70da90b"
            },
            "attachments": {}
        },
        {
            "cell_type": "code",
            "source": [
                "SELECT \r\n",
                "   [feedback_id]\r\n",
                "   ,[comment]\r\n",
                "FROM \r\n",
                "   [sales].[feedback]\r\n",
                "WHERE \r\n",
                "   [comment] LIKE '%30%'"
            ],
            "metadata": {
                "azdata_cell_guid": "1ba94e56-53b0-48da-9aea-2300d61bd2fb",
                "language": "sql"
            },
            "outputs": [],
            "execution_count": null
        },
        {
            "cell_type": "code",
            "source": [
                "SELECT \r\n",
                "   [feedback_id]\r\n",
                "   ,[comment]\r\n",
                "FROM \r\n",
                "   [sales].[feedback]\r\n",
                "WHERE \r\n",
                "   [comment] LIKE '%30!%%' ESCAPE '!'"
            ],
            "metadata": {
                "azdata_cell_guid": "b193e77a-b288-4d71-a046-fe53ac4a1bde",
                "language": "sql"
            },
            "outputs": [],
            "execution_count": null
        },
        {
            "cell_type": "markdown",
            "source": [
                "### <span style=\"font-size: 14px; background-color: yellow;\"><b>ORDER BY</b></span>"
            ],
            "metadata": {
                "azdata_cell_guid": "30883182-94d7-4e98-ab00-9e306ef86290"
            },
            "attachments": {}
        },
        {
            "cell_type": "markdown",
            "source": [
                "**Ý nghĩa:** <span style=\"font-size: 14px;\">Khi bạn sử dụng câu lệnh <b>SELECT</b> để truy vấn dữ liệu từ một bảng, thứ tự của các hàng trong tập kết quả không được đảm bảo. Nó có nghĩa là SQL Server có thể trả về một tập hợp kết quả với thứ tự các hàng không xác định.&nbsp;</span> Cách duy nhất để bạn đảm bảo rằng các hàng trong tập kết quả được sắp xếp là sử dụng mệnh đề **ORDER BY**\n",
                "\n",
                "  \n",
                "\n",
                "Cú pháp:\n",
                "\n",
                "> <span style=\"font-size: 14px;\">SELECT</span>\n",
                "> \n",
                ">  <span style=\"font-size: 14px;\">&nbsp; &nbsp; select_list</span>\n",
                "> \n",
                "> <span style=\"font-size: 14px;\">FROM</span>\n",
                "> \n",
                ">  <span style=\"font-size: 14px;\">&nbsp; &nbsp; table_name</span>\n",
                "> \n",
                "> <span style=\"font-size: 14px;\">ORDER BY</span>\n",
                "> \n",
                "> <span style=\"font-size: 14px;\"><span style=\"white-space:pre\"></span>column_name | expression [ASC | DESC ]</span>\n",
                "\n",
                "<span style=\"font-size: 14px; background-color: yellow;\">column_name | expression</span>  \n",
                "\n",
                "<span style=\"font-size: 14px;\">Bạn chỉ định tên cột hoặc biểu thức để sắp xếp tập hợp kết quả của truy vấn. Nếu bạn chỉ định nhiều cột, tập kết quả được sắp xếp theo cột đầu tiên và sau đó tập kết quả đã sắp xếp đó được sắp xếp theo cột thứ hai, v.v.&nbsp;</span> Các cột xuất hiện trong mệnh đề **ORDER BY** phải tương ứng với một trong hai cột trong danh sách lựa chọn hoặc với các cột được xác định trong bảng được chỉ định trong mệnh đề FROM.\n",
                "\n",
                "  \n",
                "\n",
                "<span style=\"font-size: 14px; background-color: yellow;\">ASC | DESC</span>  \n",
                "\n",
                "<span style=\"font-size: 14px;\"><div>Sử dụng ASC hoặc DESC để chỉ định xem các giá trị trong cột được chỉ định nên được sắp xếp theo thứ tự tăng dần hay giảm dần.</div><div>ASC sắp xếp kết quả từ giá trị thấp nhất đến giá trị cao nhất trong khi DESC sắp xếp tập hợp kết quả từ giá trị cao nhất đến giá trị thấp nhất.</div><div>Nếu bạn không chỉ định rõ ràng ASC hoặc DESC, SQL Server sử dụng ASC làm thứ tự sắp xếp mặc định. Ngoài ra, SQL Server coi NULL là giá trị thấp nhất.</div></span>"
            ],
            "metadata": {
                "azdata_cell_guid": "f1ede5d0-0e9e-4e74-8850-aed9a2099687"
            },
            "attachments": {}
        },
        {
            "cell_type": "markdown",
            "source": [
                "VD1: Sắp xếp danh sách khách hàng theo first\\_name"
            ],
            "metadata": {
                "azdata_cell_guid": "c27d2402-89af-4f79-b39e-58550813c78d"
            },
            "attachments": {}
        },
        {
            "cell_type": "code",
            "source": [
                "SELECT\r\n",
                "    [first_name]\r\n",
                "    ,[last_name]\r\n",
                "FROM\r\n",
                "    [sales].[customers]\r\n",
                "ORDER BY\r\n",
                "    [first_name]\r\n",
                ""
            ],
            "metadata": {
                "azdata_cell_guid": "d2bb2374-a16e-4d60-8d72-74d380ecabff",
                "language": "sql"
            },
            "outputs": [],
            "execution_count": null
        },
        {
            "cell_type": "markdown",
            "source": [
                "VD2: Sắp xếp danh sách khách hàng theo thứ tự giảm dần của first\\_name"
            ],
            "metadata": {
                "azdata_cell_guid": "c557ce67-2797-41ae-9124-4e55a7583849"
            },
            "attachments": {}
        },
        {
            "cell_type": "code",
            "source": [
                "SELECT\r\n",
                "    [first_name]\r\n",
                "    ,[last_name]\r\n",
                "FROM\r\n",
                "    [sales].[customers]\r\n",
                "ORDER BY\r\n",
                "    [first_name] DESC"
            ],
            "metadata": {
                "azdata_cell_guid": "4a1bfddc-b739-4e0a-9d8b-11da732fec2a",
                "language": "sql"
            },
            "outputs": [],
            "execution_count": null
        },
        {
            "cell_type": "markdown",
            "source": [
                "VD3: Sắp xếp danh sách khách hàng theo city, sau đó tới first\\_name"
            ],
            "metadata": {
                "azdata_cell_guid": "2ddf147e-dd90-4c0a-bf34-37b06ff9b781"
            },
            "attachments": {}
        },
        {
            "cell_type": "code",
            "source": [
                "SELECT\r\n",
                "    [city]\r\n",
                "    ,[first_name]\r\n",
                "    ,[last_name]\r\n",
                "FROM\r\n",
                "    [sales].[customers]\r\n",
                "ORDER BY\r\n",
                "    [city], [first_name]"
            ],
            "metadata": {
                "azdata_cell_guid": "f341c15e-b709-42f2-9a4a-0a53b30c366a",
                "language": "sql"
            },
            "outputs": [],
            "execution_count": null
        },
        {
            "cell_type": "markdown",
            "source": [
                "VD4: Sắp xếp danh sách khách hàng theo thứ tự giảm dần ở cột city, sau đó tăng dần ở cột first\\_name"
            ],
            "metadata": {
                "azdata_cell_guid": "3b0a3f69-4ec5-4569-8f72-7d8c0c43d189"
            },
            "attachments": {}
        },
        {
            "cell_type": "code",
            "source": [
                "SELECT\r\n",
                "    [city]\r\n",
                "    ,[first_name]\r\n",
                "    ,[last_name]\r\n",
                "FROM\r\n",
                "    [sales].[customers]\r\n",
                "ORDER BY\r\n",
                "    [city] DESC\r\n",
                "    ,[first_name] ASC"
            ],
            "metadata": {
                "azdata_cell_guid": "f0dd4f06-c28a-40ce-97cd-99ca1e871fab",
                "language": "sql"
            },
            "outputs": [],
            "execution_count": null
        },
        {
            "cell_type": "markdown",
            "source": [
                "VD5: Sắp xếp danh sách khách hàng theo state"
            ],
            "metadata": {
                "azdata_cell_guid": "60a2e754-f23f-4034-ad47-5392ac1be8d6"
            },
            "attachments": {}
        },
        {
            "cell_type": "code",
            "source": [
                "SELECT\r\n",
                "    [city]\r\n",
                "    ,[first_name]\r\n",
                "    ,[last_name]\r\n",
                "FROM\r\n",
                "    [sales].[customers]\r\n",
                "ORDER BY\r\n",
                "    [state]"
            ],
            "metadata": {
                "azdata_cell_guid": "99632c34-6916-4637-bb2b-43695ffa22dc",
                "language": "sql"
            },
            "outputs": [],
            "execution_count": null
        },
        {
            "cell_type": "code",
            "source": [
                "SELECT\r\n",
                "    [first_name]\r\n",
                "    ,[last_name]\r\n",
                "FROM\r\n",
                "    [sales].[customers]\r\n",
                "ORDER BY\r\n",
                "    1,\r\n",
                "    2"
            ],
            "metadata": {
                "azdata_cell_guid": "dac046f3-8e4b-4e6e-9a64-7e262dabf6eb",
                "language": "sql"
            },
            "outputs": [],
            "execution_count": null
        }
    ]
}