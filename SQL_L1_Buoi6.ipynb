{
    "metadata": {
        "kernelspec": {
            "name": "SQL",
            "display_name": "SQL",
            "language": "sql"
        },
        "language_info": {
            "name": "sql",
            "version": ""
        }
    },
    "nbformat_minor": 2,
    "nbformat": 4,
    "cells": [
        {
            "cell_type": "markdown",
            "source": [
                "## **<mark>CASE</mark>**"
            ],
            "metadata": {
                "azdata_cell_guid": "3c61fea5-edb1-4105-a5d1-87b14db56f65"
            },
            "attachments": {}
        },
        {
            "cell_type": "markdown",
            "source": [
                "Biểu thức CASE đánh giá danh sách các điều kiện và trả về một trong nhiều kết quả được chỉ định. \n",
                "\n",
                "Vì CASE là một biểu thức, bạn có thể sử dụng nó trong bất kỳ mệnh đề nào chấp nhận một biểu thức như SELECT, WHERE, GROUP BY và HAVING."
            ],
            "metadata": {
                "azdata_cell_guid": "d428f957-38b5-4585-85b0-a7d0e1e22979"
            },
            "attachments": {}
        },
        {
            "cell_type": "markdown",
            "source": [
                "> CASE input   \n",
                "> \n",
                ">     WHEN e1 THEN r1\n",
                "> \n",
                ">     WHEN e2 THEN r2\n",
                "> \n",
                ">     ...\n",
                "> \n",
                ">     WHEN en THEN rn\n",
                "> \n",
                ">     \\[ ELSE re \\]   \n",
                "> \n",
                "> END  \n",
                "> \n",
                ">"
            ],
            "metadata": {
                "azdata_cell_guid": "902eb449-5981-4162-a9d8-3813e4992075"
            },
            "attachments": {}
        },
        {
            "cell_type": "code",
            "source": [
                "SELECT    \r\n",
                "    order_status, \r\n",
                "    COUNT(order_id) order_count\r\n",
                "FROM    \r\n",
                "    sales.orders\r\n",
                "WHERE \r\n",
                "    YEAR(order_date) = 2018\r\n",
                "GROUP BY \r\n",
                "    order_status"
            ],
            "metadata": {
                "azdata_cell_guid": "0665b595-760b-47eb-af49-59362d8f4281",
                "language": "sql"
            },
            "outputs": [],
            "execution_count": null
        },
        {
            "cell_type": "code",
            "source": [
                "SELECT    \r\n",
                "    CASE order_status\r\n",
                "        WHEN 1 THEN 'Pending'\r\n",
                "        WHEN 2 THEN 'Processing'\r\n",
                "        WHEN 3 THEN 'Rejected'\r\n",
                "        WHEN 4 THEN 'Completed'\r\n",
                "    END AS order_status, \r\n",
                "    COUNT(order_id) order_count\r\n",
                "FROM    \r\n",
                "    sales.orders\r\n",
                "WHERE \r\n",
                "    YEAR(order_date) = 2018\r\n",
                "GROUP BY \r\n",
                "    order_status"
            ],
            "metadata": {
                "azdata_cell_guid": "f43c2e09-49b7-4c45-bf77-8b37449439ed",
                "language": "sql"
            },
            "outputs": [],
            "execution_count": null
        },
        {
            "cell_type": "code",
            "source": [
                "SELECT    \r\n",
                "    SUM(CASE\r\n",
                "            WHEN order_status = 1\r\n",
                "            THEN 1\r\n",
                "            ELSE 0\r\n",
                "        END) AS 'Pending', \r\n",
                "    SUM(CASE\r\n",
                "            WHEN order_status = 2\r\n",
                "            THEN 1\r\n",
                "            ELSE 0\r\n",
                "        END) AS 'Processing', \r\n",
                "    SUM(CASE\r\n",
                "            WHEN order_status = 3\r\n",
                "            THEN 1\r\n",
                "            ELSE 0\r\n",
                "        END) AS 'Rejected', \r\n",
                "    SUM(CASE\r\n",
                "            WHEN order_status = 4\r\n",
                "            THEN 1\r\n",
                "            ELSE 0\r\n",
                "        END) AS 'Completed', \r\n",
                "    COUNT(*) AS Total\r\n",
                "FROM    \r\n",
                "    sales.orders\r\n",
                "WHERE \r\n",
                "    YEAR(order_date) = 2018;\r\n",
                ""
            ],
            "metadata": {
                "azdata_cell_guid": "243bd136-2b40-46b6-a1f9-b905197d83ce",
                "language": "sql"
            },
            "outputs": [],
            "execution_count": null
        },
        {
            "cell_type": "markdown",
            "source": [
                "## **<mark>COALESCE</mark>**"
            ],
            "metadata": {
                "azdata_cell_guid": "f3c051a3-c2a5-4caa-bc23-098344a3c8ef"
            },
            "attachments": {}
        },
        {
            "cell_type": "markdown",
            "source": [
                "Biểu thức <mark>COALESCE</mark> của SQL Server chấp nhận <mark>một số đối số</mark>, <mark>đánh giá</mark> chúng theo <mark>thứ tự</mark> và <mark>trả về đối số không rỗng đầu tiên</mark>.\n",
                "\n",
                "> COALESCE(e1,\\[e2,...,en\\])"
            ],
            "metadata": {
                "azdata_cell_guid": "a362664e-dc76-4318-8efb-173b56285b3c"
            },
            "attachments": {}
        },
        {
            "cell_type": "markdown",
            "source": [
                "Trong cú pháp này, e1, e2,… en là các biểu thức vô hướng đánh giá thành các giá trị vô hướng. Biểu thức COALESCE trả về biểu thức khác rỗng đầu tiên. Nếu tất cả các biểu thức đánh giá là NULL, thì biểu thức COALESCE trả về NULL;\n",
                "\n",
                "Bởi vì COALESCE là một biểu thức, bạn có thể sử dụng nó trong bất kỳ mệnh đề nào chấp nhận một biểu thức như SELECT, WHERE, GROUP BY và HAVING."
            ],
            "metadata": {
                "azdata_cell_guid": "fdc775d2-bb60-448f-b198-31bbbbcae12f"
            },
            "attachments": {}
        },
        {
            "cell_type": "code",
            "source": [
                "-- A) Sử dụng biểu thức COALESCE của SQL Server với ví dụ về dữ liệu chuỗi ký tự\r\n",
                "SELECT \r\n",
                "    COALESCE(NULL, 'Hi', 'Hello', NULL) result"
            ],
            "metadata": {
                "azdata_cell_guid": "240468f8-e297-4b45-a1b3-de3b921bf8a4",
                "language": "sql"
            },
            "outputs": [],
            "execution_count": null
        },
        {
            "cell_type": "code",
            "source": [
                "-- B) Sử dụng biểu thức COALESCE của SQL Server với ví dụ dữ liệu số\r\n",
                "SELECT \r\n",
                "    COALESCE(NULL, NULL, 100, 200) result"
            ],
            "metadata": {
                "azdata_cell_guid": "611895bd-c6a5-4e38-b2e9-dad49d5381be",
                "language": "sql"
            },
            "outputs": [],
            "execution_count": null
        },
        {
            "cell_type": "code",
            "source": [
                "-- C) Sử dụng biểu thức COALESCE của SQL Server để thay thế NULL bằng các giá trị mới\r\n",
                "SELECT \r\n",
                "    first_name, \r\n",
                "    last_name, \r\n",
                "    COALESCE(phone,'N/A') phone, \r\n",
                "    email\r\n",
                "FROM \r\n",
                "    sales.customers\r\n",
                "ORDER BY \r\n",
                "    first_name, \r\n",
                "    last_name"
            ],
            "metadata": {
                "azdata_cell_guid": "2fdaf280-3938-43f1-90a0-aeaab85d327c",
                "language": "sql"
            },
            "outputs": [],
            "execution_count": null
        },
        {
            "cell_type": "code",
            "source": [
                "-- D) Sử dụng biểu thức COALESCE của SQL Server để sử dụng dữ liệu có sẵn\r\n",
                "CREATE TABLE salaries (\r\n",
                "    staff_id INT PRIMARY KEY,\r\n",
                "    hourly_rate decimal,\r\n",
                "    weekly_rate decimal,\r\n",
                "    monthly_rate decimal,\r\n",
                "    CHECK(\r\n",
                "        hourly_rate IS NOT NULL OR \r\n",
                "        weekly_rate IS NOT NULL OR \r\n",
                "        monthly_rate IS NOT NULL)\r\n",
                ");"
            ],
            "metadata": {
                "azdata_cell_guid": "82c78be8-1b8f-42c2-bd37-670503fc259b",
                "language": "sql"
            },
            "outputs": [
                {
                    "output_type": "display_data",
                    "data": {
                        "text/html": "Commands completed successfully."
                    },
                    "metadata": {}
                },
                {
                    "output_type": "display_data",
                    "data": {
                        "text/html": "Total execution time: 00:00:00.006"
                    },
                    "metadata": {}
                }
            ],
            "execution_count": 1
        },
        {
            "cell_type": "code",
            "source": [
                "INSERT INTO \r\n",
                "    salaries(\r\n",
                "        staff_id, \r\n",
                "        hourly_rate, \r\n",
                "        weekly_rate, \r\n",
                "        monthly_rate\r\n",
                "    )\r\n",
                "VALUES\r\n",
                "    (1,20, NULL,NULL),\r\n",
                "    (2,30, NULL,NULL),\r\n",
                "    (3,NULL, 1000,NULL),\r\n",
                "    (4,NULL, NULL,6000),\r\n",
                "    (5,NULL, NULL,6500);"
            ],
            "metadata": {
                "azdata_cell_guid": "52da1b21-64ce-4429-b65e-608e95c6b471",
                "language": "sql"
            },
            "outputs": [
                {
                    "output_type": "display_data",
                    "data": {
                        "text/html": "(5 rows affected)"
                    },
                    "metadata": {}
                },
                {
                    "output_type": "display_data",
                    "data": {
                        "text/html": "Total execution time: 00:00:00.002"
                    },
                    "metadata": {}
                }
            ],
            "execution_count": 3
        },
        {
            "cell_type": "code",
            "source": [
                "SELECT\r\n",
                "    staff_id, \r\n",
                "    hourly_rate, \r\n",
                "    weekly_rate, \r\n",
                "    monthly_rate\r\n",
                "FROM\r\n",
                "    salaries\r\n",
                "ORDER BY\r\n",
                "    staff_id"
            ],
            "metadata": {
                "azdata_cell_guid": "fc355dd0-c492-4e23-801f-fa39724b65b2",
                "language": "sql"
            },
            "outputs": [
                {
                    "output_type": "display_data",
                    "data": {
                        "text/html": "(5 rows affected)"
                    },
                    "metadata": {}
                },
                {
                    "output_type": "display_data",
                    "data": {
                        "text/html": "Total execution time: 00:00:00.006"
                    },
                    "metadata": {}
                },
                {
                    "output_type": "execute_result",
                    "execution_count": 4,
                    "data": {
                        "application/vnd.dataresource+json": {
                            "schema": {
                                "fields": [
                                    {
                                        "name": "staff_id"
                                    },
                                    {
                                        "name": "hourly_rate"
                                    },
                                    {
                                        "name": "weekly_rate"
                                    },
                                    {
                                        "name": "monthly_rate"
                                    }
                                ]
                            },
                            "data": [
                                {
                                    "0": "1",
                                    "1": "20",
                                    "2": "NULL",
                                    "3": "NULL"
                                },
                                {
                                    "0": "2",
                                    "1": "30",
                                    "2": "NULL",
                                    "3": "NULL"
                                },
                                {
                                    "0": "3",
                                    "1": "NULL",
                                    "2": "1000",
                                    "3": "NULL"
                                },
                                {
                                    "0": "4",
                                    "1": "NULL",
                                    "2": "NULL",
                                    "3": "6000"
                                },
                                {
                                    "0": "5",
                                    "1": "NULL",
                                    "2": "NULL",
                                    "3": "6500"
                                }
                            ]
                        },
                        "text/html": "<table><tr><th>staff_id</th><th>hourly_rate</th><th>weekly_rate</th><th>monthly_rate</th></tr><tr><td>1</td><td>20</td><td>NULL</td><td>NULL</td></tr><tr><td>2</td><td>30</td><td>NULL</td><td>NULL</td></tr><tr><td>3</td><td>NULL</td><td>1000</td><td>NULL</td></tr><tr><td>4</td><td>NULL</td><td>NULL</td><td>6000</td></tr><tr><td>5</td><td>NULL</td><td>NULL</td><td>6500</td></tr></table>"
                    },
                    "metadata": {}
                }
            ],
            "execution_count": 4
        },
        {
            "cell_type": "code",
            "source": [
                "SELECT\r\n",
                "    staff_id,\r\n",
                "    COALESCE(\r\n",
                "        hourly_rate*22*8, \r\n",
                "        weekly_rate*4, \r\n",
                "        monthly_rate\r\n",
                "    ) monthly_salary\r\n",
                "FROM\r\n",
                "    salaries"
            ],
            "metadata": {
                "azdata_cell_guid": "43ed007b-0d2c-4e78-b3e2-a2ae53cdab45",
                "language": "sql"
            },
            "outputs": [],
            "execution_count": null
        },
        {
            "cell_type": "markdown",
            "source": [
                "### **COALESCE vs. CASE expression**\n",
                "\n",
                "> COALESCE(e1,e2,e3)\n",
                "> \n",
                ">   \n",
                "> \n",
                "> CASE\n",
                "> \n",
                ">     WHEN e1 IS NOT NULL THEN e1\n",
                "> \n",
                ">     WHEN e2 IS NOT NULL THEN e2\n",
                "> \n",
                ">     ELSE e3\n",
                "> \n",
                "> END"
            ],
            "metadata": {
                "azdata_cell_guid": "f60706db-9f0f-41df-90b3-f0164dd7304f"
            },
            "attachments": {}
        },
        {
            "cell_type": "markdown",
            "source": [
                "## **<mark>IIF()</mark>**"
            ],
            "metadata": {
                "azdata_cell_guid": "00a3e6d8-8aca-4ee5-bb61-9b03276e1852"
            },
            "attachments": {}
        },
        {
            "cell_type": "markdown",
            "source": [
                "Hàm IIF () chấp nhận ba đối số. Nó đánh giá đối số đầu tiên và trả về đối số thứ hai nếu đối số đầu tiên là đúng; nếu không, nó trả về đối số thứ ba.\n",
                "\n",
                "> IIF(boolean\\_expression, true\\_value, false\\_value)\n",
                "\n",
                "Trong cú pháp này:\n",
                "\n",
                "- boolean\\_expression là một biểu thức được đánh giá. Nó phải là một biểu thức Boolean hợp lệ, nếu không hàm sẽ phát sinh lỗi.\n",
                "- true\\_value là giá trị được trả về nếu biểu thức boolean\\_expression đánh giá là true.\n",
                "- false\\_value là giá trị được trả về nếu biểu thức boolean\\_expression được đánh giá là false."
            ],
            "metadata": {
                "azdata_cell_guid": "445e2da3-39d8-4cdd-96c7-ffabc4e70b68"
            },
            "attachments": {}
        },
        {
            "cell_type": "markdown",
            "source": [
                "Trên thực tế, hàm IIF () là viết tắt của một biểu thức CASE:\n",
                "\n",
                "> CASE \n",
                "> \n",
                ">     WHEN boolean\\_expression \n",
                "> \n",
                ">         THEN true\\_value\n",
                "> \n",
                ">     ELSE\n",
                "> \n",
                ">         false\\_value\n",
                "> \n",
                "> END"
            ],
            "metadata": {
                "azdata_cell_guid": "bb84e86c-726e-475a-996e-ce40fe048ba2"
            },
            "attachments": {}
        },
        {
            "cell_type": "code",
            "source": [
                "-- A) Sử dụng hàm SQL Server IIF () với một ví dụ đơn giản\r\n",
                "SELECT \r\n",
                "    IIF(10 < 20, 'True', 'False') Result"
            ],
            "metadata": {
                "azdata_cell_guid": "638c3ee5-def1-412a-bdbd-eaef67dd496e",
                "language": "sql"
            },
            "outputs": [],
            "execution_count": null
        },
        {
            "cell_type": "code",
            "source": [
                "-- B) Sử dụng hàm SQL Server IIF () với ví dụ về cột bảng\r\n",
                "SELECT    \r\n",
                "    IIF(order_status = 1,'Pending', \r\n",
                "        IIF(order_status=2, 'Processing',\r\n",
                "            IIF(order_status=3, 'Rejected',\r\n",
                "                IIF(order_status=4,'Completed','N/A')\r\n",
                "            )\r\n",
                "        )\r\n",
                "    ) order_status,\r\n",
                "    COUNT(order_id) order_count\r\n",
                "FROM    \r\n",
                "    sales.orders\r\n",
                "WHERE \r\n",
                "    YEAR(order_date) = 2018\r\n",
                "GROUP BY \r\n",
                "    order_status"
            ],
            "metadata": {
                "azdata_cell_guid": "12917b28-29a5-4cb5-9075-ae65805e8cae",
                "language": "sql"
            },
            "outputs": [],
            "execution_count": null
        },
        {
            "cell_type": "code",
            "source": [
                "-- C) Sử dụng hàm SQL Server IIF () với các hàm tổng hợp\r\n",
                "SELECT    \r\n",
                "    SUM(IIF(order_status = 1, 1, 0)) AS 'Pending', \r\n",
                "    SUM(IIF(order_status = 2, 1, 0)) AS 'Processing', \r\n",
                "    SUM(IIF(order_status = 3, 1, 0)) AS 'Rejected', \r\n",
                "    SUM(IIF(order_status = 4, 1, 0)) AS 'Completed', \r\n",
                "    COUNT(*) AS Total\r\n",
                "FROM    \r\n",
                "    sales.orders\r\n",
                "WHERE \r\n",
                "    YEAR(order_date) = 2017"
            ],
            "metadata": {
                "azdata_cell_guid": "02b11d73-b1ce-48ce-afea-15020594152c",
                "language": "sql"
            },
            "outputs": [],
            "execution_count": null
        },
        {
            "cell_type": "markdown",
            "source": [
                "## **<mark>Subquery</mark>**"
            ],
            "metadata": {
                "azdata_cell_guid": "daec6aab-d884-4461-99f6-54449d4a9139"
            },
            "attachments": {}
        },
        {
            "cell_type": "markdown",
            "source": [
                "Truy vấn con là một truy vấn được lồng bên trong một câu lệnh khác như SELECT, INSERT, UPDATE hoặc DELETE"
            ],
            "metadata": {
                "azdata_cell_guid": "5fde734a-2ffa-4d36-876a-581eb37dcd94"
            },
            "attachments": {}
        },
        {
            "cell_type": "code",
            "source": [
                "SELECT\r\n",
                "    order_id,\r\n",
                "    order_date,\r\n",
                "    customer_id\r\n",
                "FROM\r\n",
                "    sales.orders\r\n",
                "WHERE\r\n",
                "    customer_id IN (\r\n",
                "        SELECT\r\n",
                "            customer_id\r\n",
                "        FROM\r\n",
                "            sales.customers\r\n",
                "        WHERE\r\n",
                "            city = 'New York'\r\n",
                "    )\r\n",
                "ORDER BY\r\n",
                "    order_date DESC"
            ],
            "metadata": {
                "azdata_cell_guid": "ef3da4ef-a70c-45b1-8d5d-82479eb1cb30",
                "language": "sql"
            },
            "outputs": [],
            "execution_count": null
        },
        {
            "cell_type": "markdown",
            "source": [
                "**<mark>Nesting subquery</mark>**\n",
                "\n",
                "Một truy vấn con có thể được lồng trong một truy vấn con khác. SQL Server hỗ trợ tối đa 32 cấp độ lồng nhau"
            ],
            "metadata": {
                "azdata_cell_guid": "952937dd-4600-4e8b-98ee-a6600a0b8024"
            },
            "attachments": {}
        },
        {
            "cell_type": "code",
            "source": [
                "SELECT\r\n",
                "    product_name,\r\n",
                "    list_price\r\n",
                "FROM\r\n",
                "    production.products\r\n",
                "WHERE\r\n",
                "    list_price > (\r\n",
                "        SELECT\r\n",
                "            AVG (list_price)\r\n",
                "        FROM\r\n",
                "            production.products\r\n",
                "        WHERE\r\n",
                "            brand_id IN (\r\n",
                "                SELECT\r\n",
                "                    brand_id\r\n",
                "                FROM\r\n",
                "                    production.brands\r\n",
                "                WHERE\r\n",
                "                    brand_name = 'Strider'\r\n",
                "                OR brand_name = 'Trek'\r\n",
                "            )\r\n",
                "    )\r\n",
                "ORDER BY\r\n",
                "    list_price"
            ],
            "metadata": {
                "azdata_cell_guid": "72daa22b-7ef7-4e29-986a-51482e445b32",
                "language": "sql"
            },
            "outputs": [],
            "execution_count": null
        },
        {
            "cell_type": "code",
            "source": [
                "SELECT\r\n",
                "    brand_id\r\n",
                "FROM\r\n",
                "    production.brands\r\n",
                "WHERE\r\n",
                "    brand_name = 'Strider'\r\n",
                "OR brand_name = 'Trek'"
            ],
            "metadata": {
                "azdata_cell_guid": "38e37903-bbe4-44c1-8bb8-8e07a5e649b7",
                "language": "sql"
            },
            "outputs": [],
            "execution_count": null
        },
        {
            "cell_type": "code",
            "source": [
                "SELECT\r\n",
                "    AVG (list_price)\r\n",
                "FROM\r\n",
                "    production.products\r\n",
                "WHERE\r\n",
                "    brand_id IN (6,9)"
            ],
            "metadata": {
                "azdata_cell_guid": "8b9304d1-9576-4173-af31-6fcedb40069f",
                "language": "sql"
            },
            "outputs": [],
            "execution_count": null
        },
        {
            "cell_type": "markdown",
            "source": [
                "Bạn có thể sử dụng một truy vấn con ở nhiều nơi:\n",
                "\n",
                "- Thay cho một biểu thức\n",
                "- IN hoặc NOT IN\n",
                "- Với ANY hoặc ALL\n",
                "- EXISTS hoặc NOT EXISTS\n",
                "- Trong câu lệnh UPDATE, DELETE hoặc INSERT\n",
                "- Trong mệnh đề FROM"
            ],
            "metadata": {
                "azdata_cell_guid": "820a099c-3959-4bea-80bd-d1167b2a998f"
            },
            "attachments": {}
        },
        {
            "cell_type": "code",
            "source": [
                "-- Truy vấn con SQL Server được sử dụng thay cho một biểu thức\r\n",
                "SELECT\r\n",
                "    order_id,\r\n",
                "    order_date,\r\n",
                "    (\r\n",
                "        SELECT\r\n",
                "            MAX (list_price)\r\n",
                "        FROM\r\n",
                "            sales.order_items i\r\n",
                "        WHERE\r\n",
                "            i.order_id = o.order_id\r\n",
                "    ) AS max_list_price\r\n",
                "FROM\r\n",
                "    sales.orders o\r\n",
                "order by order_date desc"
            ],
            "metadata": {
                "azdata_cell_guid": "e916c292-7bd5-413a-aa18-90a948203af1",
                "language": "sql"
            },
            "outputs": [],
            "execution_count": null
        },
        {
            "cell_type": "code",
            "source": [
                "-- Truy vấn con SQL Server được sử dụng với toán tử IN\r\n",
                "SELECT\r\n",
                "    product_id,\r\n",
                "    product_name\r\n",
                "FROM\r\n",
                "    production.products\r\n",
                "WHERE\r\n",
                "    category_id IN (\r\n",
                "        SELECT\r\n",
                "            category_id\r\n",
                "        FROM\r\n",
                "            production.categories\r\n",
                "        WHERE\r\n",
                "            category_name = 'Mountain Bikes'\r\n",
                "        OR category_name = 'Road Bikes'\r\n",
                "    )"
            ],
            "metadata": {
                "azdata_cell_guid": "7495726c-4a84-43ec-b196-08f35c4ba6d6",
                "language": "sql"
            },
            "outputs": [],
            "execution_count": null
        },
        {
            "cell_type": "markdown",
            "source": [
                "**<mark>Truy vấn con SQL Server được sử dụng với toán tử ANY</mark>**\n",
                "\n",
                "Toán tử ANY là một toán tử logic so sánh một giá trị vô hướng với một tập hợp giá trị cột đơn được trả về bởi một truy vấn con.\n",
                "\n",
                "> scalar\\_expression comparison\\_operator ANY (subquery)\n",
                "\n",
                "Trong cú pháp này:\n",
                "\n",
                "- scalar\\_expression là bất kỳ biểu thức hợp lệ nào.\n",
                "- comparison\\_operator là bất kỳ toán tử so sánh nào.\n",
                "- subquery là một câu lệnh SELECT trả về tập kết quả của một cột duy nhất với dữ liệu giống như kiểu dữ liệu của biểu thức vô hướng.\n",
                "\n",
                "Giả sử rằng truy vấn con trả về một danh sách có giá trị v1, v2,… vn. Toán tử ANY trả về TRUE nếu một trong các cặp so sánh (biểu thức vô hướng, vi) đánh giá là TRUE; nếu không, nó trả về FALSE."
            ],
            "metadata": {
                "azdata_cell_guid": "204d54cb-239b-48bf-9c14-d0e42fbaa8d3"
            },
            "attachments": {}
        },
        {
            "cell_type": "code",
            "source": [
                "SELECT\r\n",
                "    product_name,\r\n",
                "    list_price\r\n",
                "FROM\r\n",
                "    production.products\r\n",
                "WHERE\r\n",
                "    list_price >= ANY (\r\n",
                "        SELECT\r\n",
                "            AVG (list_price)\r\n",
                "        FROM\r\n",
                "            production.products\r\n",
                "        GROUP BY\r\n",
                "            brand_id\r\n",
                "    )"
            ],
            "metadata": {
                "azdata_cell_guid": "bf13ddb2-ad83-4e16-96ad-2c68ac3ddf74",
                "tags": [],
                "language": "sql"
            },
            "outputs": [],
            "execution_count": null
        },
        {
            "cell_type": "markdown",
            "source": [
                "**<mark>Truy vấn con SQL Server được sử dụng với toán tử ALL</mark>**\n",
                "\n",
                "Toán tử SQL Server ALL là một toán tử logic so sánh một giá trị vô hướng với một danh sách giá trị cột đơn được trả về bởi một truy vấn con.\n",
                "\n",
                "> scalar\\_expression comparison\\_operator ALL (subquery)\n",
                "\n",
                "Trong cú pháp này:\n",
                "\n",
                "- scalar\\_expression là bất kỳ biểu thức hợp lệ nào.\n",
                "- comparison\\_operator là bất kỳ toán tử so sánh hợp lệ nào bao gồm bằng (=), không bằng (\\<\\>), lớn hơn (\\>), lớn hơn hoặc bằng (\\> =), nhỏ hơn (\\<), nhỏ hơn hoặc bằng (\\<=).\n",
                "- subquery trong dấu ngoặc đơn là câu lệnh SELECT trả về kết quả của một cột duy nhất. Ngoài ra, kiểu dữ liệu của cột trả về phải cùng kiểu dữ liệu với kiểu dữ liệu của biểu thức vô hướng."
            ],
            "metadata": {
                "azdata_cell_guid": "a914377c-1c02-41b6-b911-c64bd49e83bd"
            },
            "attachments": {}
        },
        {
            "cell_type": "code",
            "source": [
                "SELECT\r\n",
                "    product_name,\r\n",
                "    list_price\r\n",
                "FROM\r\n",
                "    production.products\r\n",
                "WHERE\r\n",
                "    list_price >= ALL (\r\n",
                "        SELECT\r\n",
                "            AVG (list_price)\r\n",
                "        FROM\r\n",
                "            production.products\r\n",
                "        GROUP BY\r\n",
                "            brand_id\r\n",
                "    )"
            ],
            "metadata": {
                "azdata_cell_guid": "827bd70a-699f-4297-bc60-cafdf17f2a8a",
                "language": "sql"
            },
            "outputs": [],
            "execution_count": null
        },
        {
            "cell_type": "markdown",
            "source": [
                "**<mark>SQL Server subquery in the FROM clause</mark>**"
            ],
            "metadata": {
                "azdata_cell_guid": "33f2a44e-af09-47b3-9ecd-5d13fda6b4b1"
            },
            "attachments": {}
        },
        {
            "cell_type": "code",
            "source": [
                "-- Tìm giá trị trung bình của tổng số đơn đặt hàng của tất cả các nhân viên kinh doanh\r\n",
                "SELECT \r\n",
                "   staff_id, \r\n",
                "   COUNT(order_id) order_count\r\n",
                "FROM \r\n",
                "   sales.orders\r\n",
                "GROUP BY \r\n",
                "   staff_id"
            ],
            "metadata": {
                "azdata_cell_guid": "d8ffd297-41ca-4d9c-ad99-f1b25c986592",
                "language": "sql"
            },
            "outputs": [],
            "execution_count": null
        },
        {
            "cell_type": "code",
            "source": [
                "SELECT \r\n",
                "   AVG(order_count) average_order_count_by_staff\r\n",
                "FROM\r\n",
                "(\r\n",
                "    SELECT \r\n",
                "\tstaff_id, \r\n",
                "        COUNT(order_id) order_count\r\n",
                "    FROM \r\n",
                "\tsales.orders\r\n",
                "    GROUP BY \r\n",
                "\tstaff_id\r\n",
                ") t"
            ],
            "metadata": {
                "azdata_cell_guid": "cba369ea-b65f-42cb-9e5c-81732d7d4efb",
                "language": "sql"
            },
            "outputs": [],
            "execution_count": null
        },
        {
            "cell_type": "markdown",
            "source": [
                "Truy vấn mà bạn đặt trong mệnh đề FROM <mark>phải có bí danh bảng</mark>. Trong ví dụ này, chúng tôi sử dụng t làm bí danh bảng cho truy vấn con. Để đưa ra kết quả cuối cùng, SQL Server thực hiện các bước sau:\n",
                "\n",
                "- Thực thi truy vấn con trong mệnh đề FROM.\n",
                "- Sử dụng kết quả của truy vấn con và thực hiện truy vấn bên ngoài."
            ],
            "metadata": {
                "azdata_cell_guid": "008cc324-05a9-41c8-9f30-007e63df9a2b"
            },
            "attachments": {}
        },
        {
            "cell_type": "markdown",
            "source": [
                "## **<mark>CTE (Common Table Expression)</mark>**"
            ],
            "metadata": {
                "azdata_cell_guid": "25e64fee-56d8-4b22-b769-636e4f2929ff"
            },
            "attachments": {}
        },
        {
            "cell_type": "markdown",
            "source": [
                "CTE là viết tắt của biểu thức bảng chung. CTE cho phép bạn xác định một tập kết quả được đặt tên tạm thời có sẵn tạm thời trong phạm vi thực thi của một câu lệnh như SELECT, INSERT, UPDATE, DELETE hoặc MERGE.  \n",
                "\n",
                "> WITH expression\\_name\\[(column\\_name \\[,...\\])\\]\n",
                "> \n",
                "> AS\n",
                "> \n",
                ">     (CTE\\_definition)\n",
                "> \n",
                "> SQL\\_statement\n",
                "\n",
                "Trong cú pháp này:\n",
                "\n",
                "- Đầu tiên, hãy chỉ định tên biểu thức (expression\\_name) mà bạn có thể tham khảo sau này trong một truy vấn.\n",
                "- Tiếp theo, chỉ định danh sách các cột được phân tách bằng dấu phẩy sau expression\\_name. Số cột phải giống với số cột được xác định trong CTE\\_definition.\n",
                "- Sau đó, sử dụng từ khóa AS sau tên biểu thức hoặc danh sách cột nếu danh sách cột được chỉ định.\n",
                "- Sau đó, xác định một câu lệnh SELECT mà tập kết quả của nó sẽ điền vào biểu thức bảng chung.\n",
                "- Cuối cùng, hãy tham chiếu đến biểu thức bảng chung trong một truy vấn (SQL\\_statement) chẳng hạn như SELECT, INSERT, UPDATE, DELETE hoặc MERGE."
            ],
            "metadata": {
                "azdata_cell_guid": "458393df-cb54-42fd-9fb9-870bf1981348"
            },
            "attachments": {}
        },
        {
            "cell_type": "code",
            "source": [
                "WITH cte_sales_amounts (staff, sales, year) AS (\r\n",
                "    SELECT    \r\n",
                "        first_name + ' ' + last_name, \r\n",
                "        SUM(quantity * list_price * (1 - discount)),\r\n",
                "        YEAR(order_date)\r\n",
                "    FROM    \r\n",
                "        sales.orders o\r\n",
                "    INNER JOIN sales.order_items i ON i.order_id = o.order_id\r\n",
                "    INNER JOIN sales.staffs s ON s.staff_id = o.staff_id\r\n",
                "    GROUP BY \r\n",
                "        first_name + ' ' + last_name,\r\n",
                "        year(order_date)\r\n",
                ")\r\n",
                "\r\n",
                "SELECT\r\n",
                "    staff, \r\n",
                "    sales\r\n",
                "FROM \r\n",
                "    cte_sales_amounts\r\n",
                "WHERE\r\n",
                "    year = 2018"
            ],
            "metadata": {
                "azdata_cell_guid": "76f9cb6a-39a7-477d-a691-0d2f37b02b0f",
                "language": "sql"
            },
            "outputs": [],
            "execution_count": null
        },
        {
            "cell_type": "code",
            "source": [
                "WITH cte_sales AS (\r\n",
                "    SELECT \r\n",
                "        staff_id, \r\n",
                "        COUNT(*) order_count  \r\n",
                "    FROM\r\n",
                "        sales.orders\r\n",
                "    WHERE \r\n",
                "        YEAR(order_date) = 2018\r\n",
                "    GROUP BY\r\n",
                "        staff_id\r\n",
                "\r\n",
                ")\r\n",
                "SELECT\r\n",
                "    AVG(order_count) average_orders_by_staff\r\n",
                "FROM \r\n",
                "    cte_sales"
            ],
            "metadata": {
                "azdata_cell_guid": "e2a14d3e-9acd-4328-900e-9d447538a552",
                "language": "sql"
            },
            "outputs": [],
            "execution_count": null
        },
        {
            "cell_type": "code",
            "source": [
                "WITH cte_category_counts (\r\n",
                "    category_id, \r\n",
                "    category_name, \r\n",
                "    product_count\r\n",
                ")\r\n",
                "AS (\r\n",
                "    SELECT \r\n",
                "        c.category_id, \r\n",
                "        c.category_name, \r\n",
                "        COUNT(p.product_id)\r\n",
                "    FROM \r\n",
                "        production.products p\r\n",
                "        INNER JOIN production.categories c \r\n",
                "            ON c.category_id = p.category_id\r\n",
                "    GROUP BY \r\n",
                "        c.category_id, \r\n",
                "        c.category_name\r\n",
                "),\r\n",
                "cte_category_sales(category_id, sales) AS (\r\n",
                "    SELECT    \r\n",
                "        p.category_id, \r\n",
                "        SUM(i.quantity * i.list_price * (1 - i.discount))\r\n",
                "    FROM    \r\n",
                "        sales.order_items i\r\n",
                "        INNER JOIN production.products p \r\n",
                "            ON p.product_id = i.product_id\r\n",
                "        INNER JOIN sales.orders o \r\n",
                "            ON o.order_id = i.order_id\r\n",
                "    WHERE order_status = 4 -- completed\r\n",
                "    GROUP BY \r\n",
                "        p.category_id\r\n",
                ") \r\n",
                "\r\n",
                "SELECT \r\n",
                "    c.category_id, \r\n",
                "    c.category_name, \r\n",
                "    c.product_count, \r\n",
                "    s.sales\r\n",
                "FROM\r\n",
                "    cte_category_counts c\r\n",
                "    INNER JOIN cte_category_sales s \r\n",
                "        ON s.category_id = c.category_id\r\n",
                "ORDER BY \r\n",
                "    c.category_name"
            ],
            "metadata": {
                "azdata_cell_guid": "f233ff63-5874-4756-863e-8b1dfe612756",
                "language": "sql"
            },
            "outputs": [],
            "execution_count": null
        },
        {
            "cell_type": "markdown",
            "source": [
                "## **<mark>Temporary Tables</mark>**"
            ],
            "metadata": {
                "azdata_cell_guid": "1ee44dc3-1649-4740-8b08-169106504640"
            },
            "attachments": {}
        },
        {
            "cell_type": "markdown",
            "source": [
                "Bảng tạm thời là bảng tồn tại tạm thời trên SQL Server.\n",
                "\n",
                "Các bảng tạm thời rất hữu ích để lưu trữ các tập kết quả tức thì được truy cập nhiều lần."
            ],
            "metadata": {
                "azdata_cell_guid": "9f1973ee-a539-47e7-8567-5ebeee90129b"
            },
            "attachments": {}
        },
        {
            "cell_type": "markdown",
            "source": [
                "**Tạo bảng tạm thời bằng câu lệnh SELECT INTO**"
            ],
            "metadata": {
                "azdata_cell_guid": "efdb867a-2dc8-4abe-bafe-cd25621445ea"
            },
            "attachments": {}
        },
        {
            "cell_type": "markdown",
            "source": [
                "> SELECT   \n",
                ">     select\\_list  \n",
                "> INTO   \n",
                ">     temporary\\_table  \n",
                "> FROM   \n",
                ">     table\\_name  \n",
                "> ...."
            ],
            "metadata": {
                "azdata_cell_guid": "39db5863-4d74-459a-8da2-ccd3ae3239c9"
            },
            "attachments": {}
        },
        {
            "cell_type": "markdown",
            "source": [
                "Tên của bảng tạm thời bắt đầu bằng ký hiệu băm <mark>(#)</mark>. Ví dụ, câu lệnh sau tạo một bảng tạm thời bằng cách sử dụng câu lệnh <mark>SELECT INTO</mark>:"
            ],
            "metadata": {
                "azdata_cell_guid": "1f09c97e-8d91-43d3-8db4-574196b04393"
            },
            "attachments": {}
        },
        {
            "cell_type": "code",
            "source": [
                "SELECT\r\n",
                "    product_name,\r\n",
                "    list_price\r\n",
                "INTO #trek_products --- temporary table\r\n",
                "FROM\r\n",
                "    production.products\r\n",
                "WHERE\r\n",
                "    brand_id = 9"
            ],
            "metadata": {
                "azdata_cell_guid": "141d80be-366e-4aef-92ed-dc06c5e0ba94",
                "language": "sql"
            },
            "outputs": [],
            "execution_count": null
        },
        {
            "cell_type": "markdown",
            "source": [
                "**<mark>Tạo bảng tạm thời bằng cách sử dụng câu lệnh CREATE TABLE</mark>**"
            ],
            "metadata": {
                "azdata_cell_guid": "caacad4d-9e1e-4518-98ed-8fe66b36f21b"
            },
            "attachments": {}
        },
        {
            "cell_type": "code",
            "source": [
                "CREATE TABLE #haro_products (\r\n",
                "    product_name VARCHAR(MAX),\r\n",
                "    list_price DEC(10,2)\r\n",
                ")"
            ],
            "metadata": {
                "azdata_cell_guid": "ebe43fec-a438-4ceb-8fd4-a10082d50154",
                "language": "sql"
            },
            "outputs": [],
            "execution_count": null
        },
        {
            "cell_type": "code",
            "source": [
                "INSERT INTO #haro_products\r\n",
                "SELECT\r\n",
                "    product_name,\r\n",
                "    list_price\r\n",
                "FROM \r\n",
                "    production.products\r\n",
                "WHERE\r\n",
                "    brand_id = 2"
            ],
            "metadata": {
                "azdata_cell_guid": "e8682240-75b8-4ba3-aa47-70d9a3e0e523",
                "language": "sql"
            },
            "outputs": [],
            "execution_count": null
        },
        {
            "cell_type": "code",
            "source": [
                "SELECT\r\n",
                "    *\r\n",
                "FROM\r\n",
                "    #haro_products"
            ],
            "metadata": {
                "azdata_cell_guid": "e7b38d4a-4227-4c94-a634-fbac5d577756",
                "language": "sql"
            },
            "outputs": [],
            "execution_count": null
        },
        {
            "cell_type": "markdown",
            "source": [
                "### **<mark>Global temporary tables</mark>**"
            ],
            "metadata": {
                "azdata_cell_guid": "6231552c-ca1d-42ba-83c6-5e9eaecf4336"
            },
            "attachments": {}
        },
        {
            "cell_type": "markdown",
            "source": [
                "Đôi khi, bạn có thể muốn tạo một bảng tạm thời có thể truy cập được qua các kết nối. Trong trường hợp này, bạn có thể sử dụng các bảng tạm thời chung.\n",
                "\n",
                "Không giống như bảng tạm thời, tên của bảng tạm thời toàn cục bắt đầu bằng ký hiệu băm kép <mark>(##)</mark>."
            ],
            "metadata": {
                "azdata_cell_guid": "e5a337ac-e9d2-44a7-b49c-b8016a9eab62"
            },
            "attachments": {}
        },
        {
            "cell_type": "code",
            "source": [
                "CREATE TABLE ##heller_products (\r\n",
                "    product_name VARCHAR(MAX),\r\n",
                "    list_price DEC(10,2)\r\n",
                ");\r\n",
                "\r\n",
                "INSERT INTO ##heller_products\r\n",
                "SELECT\r\n",
                "    product_name,\r\n",
                "    list_price\r\n",
                "FROM \r\n",
                "    production.products\r\n",
                "WHERE\r\n",
                "    brand_id = 3"
            ],
            "metadata": {
                "azdata_cell_guid": "419becc6-ba09-44db-a85c-f833e9b4cc5a",
                "language": "sql"
            },
            "outputs": [],
            "execution_count": null
        }
    ]
}