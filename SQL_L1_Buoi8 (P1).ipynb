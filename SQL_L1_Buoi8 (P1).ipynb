{
    "metadata": {
        "kernelspec": {
            "name": "SQL",
            "display_name": "SQL",
            "language": "sql"
        },
        "language_info": {
            "name": "sql",
            "version": ""
        }
    },
    "nbformat_minor": 2,
    "nbformat": 4,
    "cells": [
        {
            "cell_type": "markdown",
            "source": [
                "**<mark>Identity</mark>**\n",
                "\n",
                "Cú pháp:\n",
                "\n",
                "> IDENTITY\\[(seed,increment)\\]\n",
                "\n",
                "Trong cú pháp này:\n",
                "\n",
                "- seed là giá trị của hàng đầu tiên được tải vào bảng.\n",
                "- increment (số gia tăng) là giá trị gia tăng được thêm vào giá trị nhận dạng của hàng trước đó.\n",
                "\n",
                "Giá trị mặc định của seed và giá trị gia tăng là 1, tức là (1,1). Nó có nghĩa là hàng đầu tiên, được tải vào bảng, sẽ có giá trị là một, hàng thứ hai sẽ có giá trị là 2, v.v."
            ],
            "metadata": {
                "azdata_cell_guid": "126c6cd1-edad-4feb-b6a7-6eb9b07883eb"
            },
            "attachments": {}
        },
        {
            "cell_type": "code",
            "source": [
                "-- Create a new schema named hr:\r\n",
                "CREATE SCHEMA hr"
            ],
            "metadata": {
                "azdata_cell_guid": "55db06ec-75a1-4ecb-bd8e-a895c95c0478",
                "language": "sql"
            },
            "outputs": [],
            "execution_count": null
        },
        {
            "cell_type": "code",
            "source": [
                "-- The following statement creates a new table using the IDENTITY property for the personal identification number column:\r\n",
                "CREATE TABLE hr.person (\r\n",
                "    person_id INT IDENTITY(1,1) PRIMARY KEY,\r\n",
                "    first_name VARCHAR(50) NOT NULL,\r\n",
                "    last_name VARCHAR(50) NOT NULL,\r\n",
                "    gender CHAR(1) NOT NULL\r\n",
                ")"
            ],
            "metadata": {
                "azdata_cell_guid": "5422b741-a718-4393-83a6-b36d4b17f1b0",
                "language": "sql"
            },
            "outputs": [],
            "execution_count": null
        },
        {
            "cell_type": "code",
            "source": [
                "-- First, insert a new row into the person table:\r\n",
                "INSERT INTO hr.person(first_name, last_name, gender)\r\n",
                "OUTPUT inserted.person_id\r\n",
                "VALUES('John','Doe', 'M')"
            ],
            "metadata": {
                "azdata_cell_guid": "56e75d37-4ed6-48c5-9350-f50980fe34f1",
                "language": "sql"
            },
            "outputs": [],
            "execution_count": null
        },
        {
            "cell_type": "code",
            "source": [
                "-- Second, insert another row into the person table:\r\n",
                "INSERT INTO hr.person(first_name, last_name, gender)\r\n",
                "OUTPUT inserted.person_id\r\n",
                "VALUES('Jane','Doe','F')"
            ],
            "metadata": {
                "azdata_cell_guid": "c65a603b-cc12-4356-a81d-5a1609cbbe07",
                "tags": [],
                "language": "sql"
            },
            "outputs": [],
            "execution_count": null
        },
        {
            "cell_type": "markdown",
            "source": [
                "<mark>**Reset identity**</mark>\n",
                "\n",
                "> CÁCH 1 (thay đổi IDENT dòng cuối)\n",
                "> \n",
                "> DBCC CHECKIDENT ('table\\_name', RESEED, new\\_value)\n",
                "> \n",
                "> CÁCH 2 :\n",
                "> \n",
                "> SET DENTITY\\_INSERT table\\_name ON;\n",
                "> \n",
                "> INSERT INTO table\\_name (colunm lists) VALUES (new\\_value,value\\_lists)\n",
                "> \n",
                "> SET DENTITY\\_INSERT table\\_name OFF;"
            ],
            "metadata": {
                "azdata_cell_guid": "5758423a-dce5-4200-8eda-824e1e28f63c"
            },
            "attachments": {}
        },
        {
            "cell_type": "code",
            "source": [
                "DBCC CHECKIDENT ('hr.person', RESEED, 1)"
            ],
            "metadata": {
                "azdata_cell_guid": "d1b257fd-8173-4acb-a948-6b20179829ed",
                "language": "sql"
            },
            "outputs": [
                {
                    "output_type": "error",
                    "ename": "",
                    "evalue": "Msg 2501, Level 16, State 45, Line 1\r\nCannot find a table or object with the name \"hr.person\". Check the system catalog.",
                    "traceback": []
                },
                {
                    "output_type": "display_data",
                    "data": {
                        "text/html": "Total execution time: 00:00:00.008"
                    },
                    "metadata": {}
                }
            ],
            "execution_count": 1
        },
        {
            "cell_type": "markdown",
            "source": [
                "**<mark>SELECT INTO</mark>**\n",
                "\n",
                "<span style=\"font-size: 14px;\">Câu lệnh SELECT INTO tạo một bảng mới và chèn các hàng từ truy vấn vào đó.</span>\n",
                "\n",
                "Câu lệnh SELECT INTO sau tạo bảng đích và sao chép các hàng thỏa mãn điều kiện WHERE, từ bảng nguồn sang bảng đích\n",
                "\n",
                "> <span style=\"font-size: 14px;\">SELECT&nbsp;</span> \n",
                "> \n",
                ">  <span style=\"font-size: 14px;\">&nbsp; &nbsp; select_list</span>\n",
                "> \n",
                "> <span style=\"font-size: 14px;\">INTO&nbsp;</span> \n",
                "> \n",
                ">  <span style=\"font-size: 14px;\">&nbsp; &nbsp; destination</span>\n",
                "> \n",
                "> <span style=\"font-size: 14px;\">FROM&nbsp;</span> \n",
                "> \n",
                ">  <span style=\"font-size: 14px;\">&nbsp; &nbsp; source</span>\n",
                "> \n",
                "> <span style=\"font-size: 14px;\">[WHERE condition]</span>\n",
                "\n",
                "<span style=\"font-size: 14px; background-color: yellow;\">Lưu ý rằng câu lệnh SELECT INTO không sao chép các ràng buộc như khóa chính và các chỉ mục từ bảng nguồn sang bảng đích.</span>"
            ],
            "metadata": {
                "azdata_cell_guid": "f3a28ede-37d1-45d0-b9c3-f93ec95c809a"
            },
            "attachments": {}
        },
        {
            "cell_type": "code",
            "source": [
                "-- A) Using SQL Server SELECT INTO to copy table within the same database example\r\n",
                "-- First, create a new schema for storing the new table.\r\n",
                "CREATE SCHEMA marketing\r\n",
                "GO"
            ],
            "metadata": {
                "azdata_cell_guid": "f03da843-a83f-442a-9ef4-3b6142d5402e",
                "language": "sql"
            },
            "outputs": [],
            "execution_count": null
        },
        {
            "cell_type": "code",
            "source": [
                "-- Second, create the marketing.customers table like the sales.customers table \r\n",
                "-- and copy all rows from the sales.customers table to the marketing.customers table:\r\n",
                "SELECT \r\n",
                "    *\r\n",
                "INTO \r\n",
                "    marketing.customers\r\n",
                "FROM \r\n",
                "    sales.customers"
            ],
            "metadata": {
                "azdata_cell_guid": "48387c74-cb59-405a-997d-6181ccaf1d62",
                "language": "sql"
            },
            "outputs": [],
            "execution_count": null
        },
        {
            "cell_type": "code",
            "source": [
                "-- Third, query data from the the marketing.customers table to verify the copy:\r\n",
                "SELECT \r\n",
                "    *\r\n",
                "FROM \r\n",
                "    marketing.customers"
            ],
            "metadata": {
                "azdata_cell_guid": "2e073a69-17b2-4e92-8c43-46fb8a650769",
                "language": "sql"
            },
            "outputs": [],
            "execution_count": null
        },
        {
            "cell_type": "code",
            "source": [
                "-- B) Using SQL Server SELECT INTO statement to copy table across databases\r\n",
                "CREATE DATABASE TestDb\r\n",
                "GO"
            ],
            "metadata": {
                "azdata_cell_guid": "88c05453-e815-44d6-8b0b-c5ff650a4628",
                "language": "sql"
            },
            "outputs": [],
            "execution_count": null
        },
        {
            "cell_type": "code",
            "source": [
                "SELECT    \r\n",
                "    customer_id, \r\n",
                "    first_name, \r\n",
                "    last_name, \r\n",
                "    email\r\n",
                "INTO \r\n",
                "    TestDb.dbo.customers\r\n",
                "FROM    \r\n",
                "    sales.customers\r\n",
                "WHERE \r\n",
                "    state = 'CA'"
            ],
            "metadata": {
                "azdata_cell_guid": "5d0ed904-706b-444c-bd0c-e235cfee316b",
                "language": "sql"
            },
            "outputs": [],
            "execution_count": null
        },
        {
            "cell_type": "code",
            "source": [
                "SELECT \r\n",
                "    * \r\n",
                "FROM \r\n",
                "    TestDb.dbo.customers"
            ],
            "metadata": {
                "azdata_cell_guid": "ae20b5ac-fdad-471f-a848-5c3821d22744",
                "language": "sql"
            },
            "outputs": [],
            "execution_count": null
        },
        {
            "cell_type": "markdown",
            "source": [
                "**<mark>INSERT</mark>**\n",
                "\n",
                "Cú pháp:\n",
                "\n",
                "> <span style=\"font-size: 14px;\">INSERT INTO table_name (column_list)</span>\n",
                "> \n",
                "> <span style=\"font-size: 14px;\">VALUES (value_list)</span>\n",
                "\n",
                "<span style=\"font-size: 14px;\">Để thêm nhiều hàng vào bảng cùng một lúc, bạn sử dụng biểu mẫu sau của câu lệnh INSERT:</span>\n",
                "\n",
                "> <span style=\"font-size: 14px;\">INSERT INTO table_name (column_list)</span>\n",
                "> \n",
                "> <span style=\"font-size: 14px;\">VALUES</span>\n",
                "> \n",
                ">  <span style=\"font-size: 14px;\">&nbsp; &nbsp; (value_list_1),</span>\n",
                "> \n",
                ">  <span style=\"font-size: 14px;\">&nbsp; &nbsp; (value_list_2),</span>\n",
                "> \n",
                ">  <span style=\"font-size: 14px;\">&nbsp; &nbsp; ...</span>\n",
                "> \n",
                ">  <span style=\"font-size: 14px;\">&nbsp; &nbsp; (value_list_n)</span>\n",
                "\n",
                "<span style=\"font-size: 14px; background-color: yellow;\">Số hàng mà bạn có thể chèn cùng một lúc là 1.000 hàng bằng cách sử dụng biểu mẫu này của câu lệnh INSERT. Nếu bạn muốn chèn nhiều hàng hơn thế, bạn nên cân nhắc sử dụng nhiều câu lệnh INSERT, BULK INSERT hoặc một bảng dẫn xuất.</span>\n",
                "\n",
                "Lưu ý rằng cú pháp CHÈN nhiều hàng này chỉ được hỗ trợ trong SQL Server 2008 trở lên.\n",
                "\n",
                "Để chèn nhiều hàng được trả về từ một câu lệnh SELECT, bạn sử dụng câu lệnh INSERT INTO SELECT.\n",
                "\n",
                "> INSERT  \\[ TOP ( expression ) \\[ PERCENT \\] \\] \n",
                "> \n",
                "> INTO target\\_table (column\\_list)\n",
                "> \n",
                "> query\n",
                "\n",
                "<span style=\"font-size: 14px;\">Trong cú pháp này:</span>\n",
                "\n",
                "- <span style=\"font-size: 14px;\">Câu lệnh sẽ chèn các hàng được trả về bởi truy vấn vào target_table.</span>\n",
                "- <span style=\"font-size: 14px;\">Truy vấn là bất kỳ câu lệnh SELECT hợp lệ nào lấy dữ liệu từ các bảng khác. Nó phải trả về các giá trị tương ứng với các cột được chỉ định trong column_list.</span>\n",
                "- Phần mệnh đề TOP là tùy chọn. Nó cho phép bạn chỉ định số hàng được trả về bởi truy vấn sẽ được chèn vào bảng đích. Nếu bạn sử dụng tùy chọn PERCENT, câu lệnh sẽ chèn phần trăm hàng thay thế. Lưu ý rằng cách tốt nhất là luôn sử dụng mệnh đề TOP với mệnh đề ORDER BY."
            ],
            "metadata": {
                "azdata_cell_guid": "770c441d-99df-4659-a44f-b48664083f78"
            },
            "attachments": {}
        },
        {
            "cell_type": "markdown",
            "source": [
                "<span style=\"font-size: 14px;\">Ví dụ về câu lệnh INSERT</span>"
            ],
            "metadata": {
                "azdata_cell_guid": "707bfcbe-9cb9-4774-85c2-1bff2f21eaf3"
            },
            "attachments": {}
        },
        {
            "cell_type": "code",
            "source": [
                "-- Let’s create a new table named promotions for the demonstration:\r\n",
                "CREATE TABLE sales.promotions (\r\n",
                "    promotion_id INT PRIMARY KEY IDENTITY (1, 1),\r\n",
                "    promotion_name VARCHAR (255) NOT NULL,\r\n",
                "    discount NUMERIC (3, 2) DEFAULT 0,\r\n",
                "    start_date DATE NOT NULL,\r\n",
                "    expired_date DATE NOT NULL\r\n",
                ")"
            ],
            "metadata": {
                "azdata_cell_guid": "5708a02c-1729-492e-86b7-e0c5114eb482",
                "language": "sql"
            },
            "outputs": [],
            "execution_count": null
        },
        {
            "cell_type": "code",
            "source": [
                "-- 1) Basic INSERT example\r\n",
                "-- The following statement inserts a new row into the promotions table:\r\n",
                "INSERT INTO sales.promotions (\r\n",
                "    promotion_name,\r\n",
                "    discount,\r\n",
                "    start_date,\r\n",
                "    expired_date\r\n",
                ")\r\n",
                "VALUES\r\n",
                "    (\r\n",
                "        '2018 Summer Promotion',\r\n",
                "        0.15,\r\n",
                "        '20180601',\r\n",
                "        '20180901'\r\n",
                "    )"
            ],
            "metadata": {
                "azdata_cell_guid": "f83d90b9-cf01-4ee4-8ff3-c1a2402eb04a",
                "language": "sql"
            },
            "outputs": [],
            "execution_count": null
        },
        {
            "cell_type": "code",
            "source": [
                "-- To verify the insert operation, you use the following query:\r\n",
                "SELECT\r\n",
                "    promotion_name,\r\n",
                "    discount,\r\n",
                "    start_date,\r\n",
                "    expired_date\r\n",
                "FROM\r\n",
                "    sales.promotions\r\n",
                ""
            ],
            "metadata": {
                "azdata_cell_guid": "19c70e53-7fe6-4a5b-8803-b3f9b75266d7",
                "tags": [],
                "language": "sql"
            },
            "outputs": [],
            "execution_count": null
        },
        {
            "cell_type": "code",
            "source": [
                "-- 2) Insert and return inserted values\r\n",
                "-- To capture the inserted values, you use the OUTPUT clause. \r\n",
                "-- For example, the following statement inserts a new row into the promotions table and returns the inserted value of the promotion_id column:\r\n",
                "INSERT INTO sales.promotions (\r\n",
                "    promotion_name,\r\n",
                "    discount,\r\n",
                "    start_date,\r\n",
                "    expired_date\r\n",
                ") OUTPUT inserted.promotion_id\r\n",
                "VALUES\r\n",
                "(\r\n",
                "    '2018 Fall Promotion',\r\n",
                "    0.15,\r\n",
                "    '20181001',\r\n",
                "    '20181101'\r\n",
                ")"
            ],
            "metadata": {
                "azdata_cell_guid": "c31195c3-9b18-4071-9938-7434244da33b",
                "language": "sql"
            },
            "outputs": [],
            "execution_count": null
        },
        {
            "cell_type": "code",
            "source": [
                "-- To capture inserted values from multiple columns, you specify the columns in the output as shown in the following statement:\r\n",
                "INSERT INTO sales.promotions (\r\n",
                "    promotion_name,\r\n",
                "    discount,\r\n",
                "    start_date,\r\n",
                "    expired_date\r\n",
                ") OUTPUT inserted.promotion_id,\r\n",
                " inserted.promotion_name,\r\n",
                " inserted.discount,\r\n",
                " inserted.start_date,\r\n",
                " inserted.expired_date\r\n",
                "VALUES\r\n",
                "(\r\n",
                "    '2018 Winter Promotion',\r\n",
                "    0.2,\r\n",
                "    '20181201',\r\n",
                "    '20190101'\r\n",
                ")"
            ],
            "metadata": {
                "azdata_cell_guid": "93c8fac1-1ffe-4717-88d7-0602f1984548",
                "language": "sql"
            },
            "outputs": [],
            "execution_count": null
        },
        {
            "cell_type": "code",
            "source": [
                "-- 3) Insert explicit values into the identity column\r\n",
                "INSERT INTO sales.promotions (\r\n",
                "    promotion_id,\r\n",
                "    promotion_name,\r\n",
                "    discount,\r\n",
                "    start_date,\r\n",
                "    expired_date\r\n",
                ") OUTPUT inserted.promotion_id\r\n",
                "VALUES\r\n",
                "(\r\n",
                "    4,\r\n",
                "    '2019 Spring Promotion',\r\n",
                "    0.25,\r\n",
                "    '20190201',\r\n",
                "    '20190301'\r\n",
                ")"
            ],
            "metadata": {
                "azdata_cell_guid": "ebccdbeb-25ae-47b8-88cf-31d83ed2260b",
                "language": "sql"
            },
            "outputs": [],
            "execution_count": null
        },
        {
            "cell_type": "code",
            "source": [
                "-- Let’s execute the following statements to insert a value for the identity column in the promotions table:\r\n",
                "SET IDENTITY_INSERT sales.promotions ON\r\n",
                "GO\r\n",
                "\r\n",
                "INSERT INTO sales.promotions (\r\n",
                "    promotion_id,\r\n",
                "    promotion_name,\r\n",
                "    discount,\r\n",
                "    start_date,\r\n",
                "    expired_date\r\n",
                ")\r\n",
                "VALUES\r\n",
                "(\r\n",
                "    4,\r\n",
                "    '2019 Spring Promotion',\r\n",
                "    0.25,\r\n",
                "    '20190201',\r\n",
                "    '20190301'\r\n",
                ")\r\n",
                "GO\r\n",
                "\r\n",
                "\r\n",
                "SET IDENTITY_INSERT sales.promotions OFF\r\n",
                "GO"
            ],
            "metadata": {
                "azdata_cell_guid": "c1a77047-b5e5-4296-bac0-a0063968cf5e",
                "language": "sql"
            },
            "outputs": [],
            "execution_count": null
        },
        {
            "cell_type": "markdown",
            "source": [
                "Ví dụ về câu lệnh INSERT <span style=\"font-size: 14px;\">nhiều hàng</span>"
            ],
            "metadata": {
                "azdata_cell_guid": "c5e360d7-a750-461a-ab59-915b1fe6cb93"
            },
            "attachments": {}
        },
        {
            "cell_type": "code",
            "source": [
                "INSERT INTO sales.promotions (\r\n",
                "    promotion_name,\r\n",
                "    discount,\r\n",
                "    start_date,\r\n",
                "    expired_date\r\n",
                ")\r\n",
                "VALUES\r\n",
                "(\r\n",
                "    '2019 Summer Promotion',\r\n",
                "    0.15,\r\n",
                "    '20190601',\r\n",
                "    '20190901'\r\n",
                "),\r\n",
                "(\r\n",
                "    '2019 Fall Promotion',\r\n",
                "    0.20,\r\n",
                "    '20191001',\r\n",
                "    '20191101'\r\n",
                "),\r\n",
                "(\r\n",
                "    '2019 Winter Promotion',\r\n",
                "    0.25,\r\n",
                "    '20191201',\r\n",
                "    '20200101'\r\n",
                ")"
            ],
            "metadata": {
                "azdata_cell_guid": "66ae2db9-b51d-44e8-b943-b77975e8075e",
                "language": "sql"
            },
            "outputs": [],
            "execution_count": null
        },
        {
            "cell_type": "code",
            "source": [
                "SELECT\r\n",
                "    promotion_name,\r\n",
                "    discount,\r\n",
                "    start_date,\r\n",
                "    expired_date\r\n",
                "FROM\r\n",
                "    sales.promotions"
            ],
            "metadata": {
                "azdata_cell_guid": "d2d3ad1c-db14-4f69-98db-ee949928964b",
                "language": "sql"
            },
            "outputs": [],
            "execution_count": null
        },
        {
            "cell_type": "markdown",
            "source": [
                "Ví dụ về câu lệnh INSERT SELECT INTO"
            ],
            "metadata": {
                "azdata_cell_guid": "2d01f3e3-deda-4def-bd08-b88027fde132"
            },
            "attachments": {}
        },
        {
            "cell_type": "code",
            "source": [
                "-- Let’s create a table named addresses\r\n",
                "CREATE TABLE sales.addresses (\r\n",
                "    address_id INT IDENTITY PRIMARY KEY,\r\n",
                "    street VARCHAR (255) NOT NULL,\r\n",
                "    city VARCHAR (50),\r\n",
                "    state VARCHAR (25),\r\n",
                "    zip_code VARCHAR (5)\r\n",
                ")"
            ],
            "metadata": {
                "azdata_cell_guid": "5f77b3ad-200c-4a97-991c-9916f756be18",
                "language": "sql"
            },
            "outputs": [],
            "execution_count": null
        },
        {
            "cell_type": "code",
            "source": [
                "-- 1) Insert all rows from another table example\r\n",
                "-- The following statement inserts all addresses from the customers table into the addresses table:\r\n",
                "INSERT INTO sales.addresses (street, city, state, zip_code) \r\n",
                "SELECT\r\n",
                "    street,\r\n",
                "    city,\r\n",
                "    state,\r\n",
                "    zip_code\r\n",
                "FROM\r\n",
                "    sales.customers\r\n",
                "ORDER BY\r\n",
                "    first_name,\r\n",
                "    last_name"
            ],
            "metadata": {
                "azdata_cell_guid": "4ace6bbb-edba-4037-9d05-99180396042d",
                "language": "sql"
            },
            "outputs": [],
            "execution_count": null
        },
        {
            "cell_type": "code",
            "source": [
                "SELECT\r\n",
                "    street,\r\n",
                "    city,\r\n",
                "    state,\r\n",
                "    zip_code\r\n",
                "FROM\r\n",
                "    sales.addresses"
            ],
            "metadata": {
                "azdata_cell_guid": "6f4d2972-42f0-4c21-a91c-581de27e11c5",
                "language": "sql"
            },
            "outputs": [],
            "execution_count": null
        },
        {
            "cell_type": "code",
            "source": [
                "-- Using WHERE\r\n",
                "INSERT INTO \r\n",
                "    sales.addresses (street, city, state, zip_code) \r\n",
                "SELECT\r\n",
                "    street,\r\n",
                "    city,\r\n",
                "    state,\r\n",
                "    zip_code\r\n",
                "FROM\r\n",
                "    sales.stores\r\n",
                "WHERE\r\n",
                "    city IN ('Santa Cruz', 'Baldwin')"
            ],
            "metadata": {
                "azdata_cell_guid": "c6f72f65-1117-458b-ba99-e32df3b475a9",
                "language": "sql"
            },
            "outputs": [],
            "execution_count": null
        },
        {
            "cell_type": "code",
            "source": [
                "-- Insert the top N of rows\r\n",
                "INSERT TOP (10) \r\n",
                "INTO sales.addresses (street, city, state, zip_code) \r\n",
                "SELECT\r\n",
                "    street,\r\n",
                "    city,\r\n",
                "    state,\r\n",
                "    zip_code\r\n",
                "FROM\r\n",
                "    sales.customers\r\n",
                "ORDER BY\r\n",
                "    first_name,\r\n",
                "    last_name"
            ],
            "metadata": {
                "azdata_cell_guid": "acf5ce0e-7231-4bf1-a0c3-62087b076eaf",
                "language": "sql"
            },
            "outputs": [],
            "execution_count": null
        },
        {
            "cell_type": "markdown",
            "source": [
                "**<mark>UPDATE</mark>**\n",
                "\n",
                "Cú pháp:\n",
                "\n",
                "> <span style=\"font-size: 14px;\">UPDATE table_name</span>\n",
                "> \n",
                "> <span style=\"font-size: 14px;\">SET c1 = v1, c2 = v2, ... cn = vn</span>\n",
                "> \n",
                "> <span style=\"font-size: 14px;\">[WHERE condition]</span>\n",
                "\n",
                "<span style=\"font-size: 14px;\">Trong cú pháp này:</span>\n",
                "\n",
                "- Đầu tiên, chỉ định tên của bảng mà từ đó dữ liệu sẽ được cập nhật.\n",
                "- <span style=\"font-size: 14px;\">Thứ hai, chỉ định danh sách cột c1, c2,…, cn và các giá trị v1, v2,… vn sẽ được cập nhật.</span>\n",
                "- <span style=\"font-size: 14px;\">Thứ ba, chỉ định các điều kiện trong mệnh đề WHERE để chọn các hàng được cập nhật. Mệnh đề WHERE là tùy chọn. Nếu bạn bỏ qua mệnh đề WHERE, tất cả các hàng trong bảng sẽ được cập nhật.</span>"
            ],
            "metadata": {
                "azdata_cell_guid": "faefcc19-a442-4ad1-bee0-574686e4a818"
            },
            "attachments": {}
        },
        {
            "cell_type": "code",
            "source": [
                "-- First, create a new table named taxes\r\n",
                "CREATE TABLE sales.taxes (\r\n",
                "\ttax_id INT PRIMARY KEY IDENTITY (1, 1),\r\n",
                "\tstate VARCHAR (50) NOT NULL UNIQUE,\r\n",
                "\tstate_tax_rate DEC (3, 2),\r\n",
                "\tavg_local_tax_rate DEC (3, 2),\r\n",
                "\tcombined_rate AS state_tax_rate + avg_local_tax_rate,\r\n",
                "\tmax_local_tax_rate DEC (3, 2),\r\n",
                "\tupdated_at datetime\r\n",
                ")"
            ],
            "metadata": {
                "azdata_cell_guid": "a22a796a-9805-4b2c-9ffb-90232c784a77",
                "language": "sql"
            },
            "outputs": [],
            "execution_count": null
        },
        {
            "cell_type": "code",
            "source": [
                "INSERT INTO sales.taxes(state,state_tax_rate,avg_local_tax_rate,max_local_tax_rate) VALUES('Alabama',0.04,0.05,0.07);\r\n",
                "INSERT INTO sales.taxes(state,state_tax_rate,avg_local_tax_rate,max_local_tax_rate) VALUES('Alaska',0,0.01,0.07);\r\n",
                "INSERT INTO sales.taxes(state,state_tax_rate,avg_local_tax_rate,max_local_tax_rate) VALUES('Arizona',0.05,0.02,0.05);\r\n",
                "INSERT INTO sales.taxes(state,state_tax_rate,avg_local_tax_rate,max_local_tax_rate) VALUES('Arkansas',0.06,0.02,0.05);\r\n",
                "INSERT INTO sales.taxes(state,state_tax_rate,avg_local_tax_rate,max_local_tax_rate) VALUES('California',0.07,0.01,0.02);\r\n",
                "INSERT INTO sales.taxes(state,state_tax_rate,avg_local_tax_rate,max_local_tax_rate) VALUES('Colorado',0.02,0.04,0.08);\r\n",
                "INSERT INTO sales.taxes(state,state_tax_rate,avg_local_tax_rate,max_local_tax_rate) VALUES('Connecticut',0.06,0,0);\r\n",
                "INSERT INTO sales.taxes(state,state_tax_rate,avg_local_tax_rate,max_local_tax_rate) VALUES('Delaware',0,0,0);\r\n",
                "INSERT INTO sales.taxes(state,state_tax_rate,avg_local_tax_rate,max_local_tax_rate) VALUES('Florida',0.06,0,0.02);\r\n",
                "INSERT INTO sales.taxes(state,state_tax_rate,avg_local_tax_rate,max_local_tax_rate) VALUES('Georgia',0.04,0.03,0.04);\r\n",
                "INSERT INTO sales.taxes(state,state_tax_rate,avg_local_tax_rate,max_local_tax_rate) VALUES('Hawaii',0.04,0,0);\r\n",
                "INSERT INTO sales.taxes(state,state_tax_rate,avg_local_tax_rate,max_local_tax_rate) VALUES('Idaho',0.06,0,0.03);\r\n",
                "INSERT INTO sales.taxes(state,state_tax_rate,avg_local_tax_rate,max_local_tax_rate) VALUES('Illinois',0.06,0.02,0.04);\r\n",
                "INSERT INTO sales.taxes(state,state_tax_rate,avg_local_tax_rate,max_local_tax_rate) VALUES('Indiana',0.07,0,0);\r\n",
                "INSERT INTO sales.taxes(state,state_tax_rate,avg_local_tax_rate,max_local_tax_rate) VALUES('Iowa',0.06,0,0.01);\r\n",
                "INSERT INTO sales.taxes(state,state_tax_rate,avg_local_tax_rate,max_local_tax_rate) VALUES('Kansas',0.06,0.02,0.04);\r\n",
                "INSERT INTO sales.taxes(state,state_tax_rate,avg_local_tax_rate,max_local_tax_rate) VALUES('Kentucky',0.06,0,0);\r\n",
                "INSERT INTO sales.taxes(state,state_tax_rate,avg_local_tax_rate,max_local_tax_rate) VALUES('Louisiana',0.05,0.04,0.07);\r\n",
                "INSERT INTO sales.taxes(state,state_tax_rate,avg_local_tax_rate,max_local_tax_rate) VALUES('Maine',0.05,0,0);\r\n",
                "INSERT INTO sales.taxes(state,state_tax_rate,avg_local_tax_rate,max_local_tax_rate) VALUES('Maryland',0.06,0,0);\r\n",
                "INSERT INTO sales.taxes(state,state_tax_rate,avg_local_tax_rate,max_local_tax_rate) VALUES('Massachusetts',0.06,0,0);\r\n",
                "INSERT INTO sales.taxes(state,state_tax_rate,avg_local_tax_rate,max_local_tax_rate) VALUES('Michigan',0.06,0,0);\r\n",
                "INSERT INTO sales.taxes(state,state_tax_rate,avg_local_tax_rate,max_local_tax_rate) VALUES('Minnesota',0.06,0,0.01);\r\n",
                "INSERT INTO sales.taxes(state,state_tax_rate,avg_local_tax_rate,max_local_tax_rate) VALUES('Mississippi',0.07,0,0.01);\r\n",
                "INSERT INTO sales.taxes(state,state_tax_rate,avg_local_tax_rate,max_local_tax_rate) VALUES('Missouri',0.04,0.03,0.05);\r\n",
                "INSERT INTO sales.taxes(state,state_tax_rate,avg_local_tax_rate,max_local_tax_rate) VALUES('Montana',0,0,0);\r\n",
                "INSERT INTO sales.taxes(state,state_tax_rate,avg_local_tax_rate,max_local_tax_rate) VALUES('Nebraska',0.05,0.01,0.02);\r\n",
                "INSERT INTO sales.taxes(state,state_tax_rate,avg_local_tax_rate,max_local_tax_rate) VALUES('Nevada',0.06,0.01,0.01);\r\n",
                "INSERT INTO sales.taxes(state,state_tax_rate,avg_local_tax_rate,max_local_tax_rate) VALUES('New Hampshire',0,0,0);\r\n",
                "INSERT INTO sales.taxes(state,state_tax_rate,avg_local_tax_rate,max_local_tax_rate) VALUES('New Jersey',0.06,0,0);\r\n",
                "INSERT INTO sales.taxes(state,state_tax_rate,avg_local_tax_rate,max_local_tax_rate) VALUES('New Mexico',0.05,0.02,0.03);\r\n",
                "INSERT INTO sales.taxes(state,state_tax_rate,avg_local_tax_rate,max_local_tax_rate) VALUES('New York',0.04,0.04,0.04);\r\n",
                "INSERT INTO sales.taxes(state,state_tax_rate,avg_local_tax_rate,max_local_tax_rate) VALUES('North Carolina',0.04,0.02,0.02);\r\n",
                "INSERT INTO sales.taxes(state,state_tax_rate,avg_local_tax_rate,max_local_tax_rate) VALUES('North Dakota',0.05,0.01,0.03);\r\n",
                "INSERT INTO sales.taxes(state,state_tax_rate,avg_local_tax_rate,max_local_tax_rate) VALUES('Ohio',0.05,0.01,0.02);\r\n",
                "INSERT INTO sales.taxes(state,state_tax_rate,avg_local_tax_rate,max_local_tax_rate) VALUES('Oklahoma',0.04,0.04,0.06);\r\n",
                "INSERT INTO sales.taxes(state,state_tax_rate,avg_local_tax_rate,max_local_tax_rate) VALUES('Oregon',0,0,0);\r\n",
                "INSERT INTO sales.taxes(state,state_tax_rate,avg_local_tax_rate,max_local_tax_rate) VALUES('Pennsylvania',0.06,0,0.02);\r\n",
                "INSERT INTO sales.taxes(state,state_tax_rate,avg_local_tax_rate,max_local_tax_rate) VALUES('Rhode Island',0.07,0,0);\r\n",
                "INSERT INTO sales.taxes(state,state_tax_rate,avg_local_tax_rate,max_local_tax_rate) VALUES('South Carolina',0.06,0.01,0.02);\r\n",
                "INSERT INTO sales.taxes(state,state_tax_rate,avg_local_tax_rate,max_local_tax_rate) VALUES('South Dakota',0.04,0.01,0.04);\r\n",
                "INSERT INTO sales.taxes(state,state_tax_rate,avg_local_tax_rate,max_local_tax_rate) VALUES('Tennessee',0.07,0.02,0.02);\r\n",
                "INSERT INTO sales.taxes(state,state_tax_rate,avg_local_tax_rate,max_local_tax_rate) VALUES('Texas',0.06,0.01,0.02);\r\n",
                "INSERT INTO sales.taxes(state,state_tax_rate,avg_local_tax_rate,max_local_tax_rate) VALUES('Utah',0.05,0,0.02);\r\n",
                "INSERT INTO sales.taxes(state,state_tax_rate,avg_local_tax_rate,max_local_tax_rate) VALUES('Vermont',0.06,0,0.01);\r\n",
                "INSERT INTO sales.taxes(state,state_tax_rate,avg_local_tax_rate,max_local_tax_rate) VALUES('Virginia',0.05,0,0);\r\n",
                "INSERT INTO sales.taxes(state,state_tax_rate,avg_local_tax_rate,max_local_tax_rate) VALUES('Washington',0.06,0.02,0.03);\r\n",
                "INSERT INTO sales.taxes(state,state_tax_rate,avg_local_tax_rate,max_local_tax_rate) VALUES('West Virginia',0.06,0,0.01);\r\n",
                "INSERT INTO sales.taxes(state,state_tax_rate,avg_local_tax_rate,max_local_tax_rate) VALUES('Wisconsin',0.05,0,0.01);\r\n",
                "INSERT INTO sales.taxes(state,state_tax_rate,avg_local_tax_rate,max_local_tax_rate) VALUES('Wyoming',0.04,0.01,0.02);\r\n",
                "INSERT INTO sales.taxes(state,state_tax_rate,avg_local_tax_rate,max_local_tax_rate) VALUES('D.C.',0.05,0,0);"
            ],
            "metadata": {
                "azdata_cell_guid": "0b7264c0-7de3-49a5-9539-6907a70746de",
                "tags": [
                    "hide_input"
                ],
                "language": "sql"
            },
            "outputs": [],
            "execution_count": null
        },
        {
            "cell_type": "code",
            "source": [
                "-- 1) Update a single column in all rows example\r\n",
                "UPDATE sales.taxes\r\n",
                "SET updated_at = GETDATE()"
            ],
            "metadata": {
                "azdata_cell_guid": "8bd4a8e0-2b63-4038-9f87-19d4cd01d8bd",
                "language": "sql"
            },
            "outputs": [],
            "execution_count": null
        },
        {
            "cell_type": "code",
            "source": [
                "SELECT \r\n",
                "    tax_id,\r\n",
                "    state,\r\n",
                "    state_tax_rate,\r\n",
                "    avg_local_tax_rate,\r\n",
                "    combined_rate,\r\n",
                "    max_local_tax_rate,\r\n",
                "    updated_at\r\n",
                "FROM sales.taxes;"
            ],
            "metadata": {
                "azdata_cell_guid": "5484e42f-9aaf-4bc2-b362-1ef46d7706f9",
                "language": "sql"
            },
            "outputs": [],
            "execution_count": null
        },
        {
            "cell_type": "code",
            "source": [
                "-- 2) Update multiple columns example\r\n",
                "UPDATE sales.taxes\r\n",
                "SET max_local_tax_rate += 0.02,\r\n",
                "    avg_local_tax_rate += 0.01\r\n",
                "WHERE\r\n",
                "    max_local_tax_rate = 0.01"
            ],
            "metadata": {
                "azdata_cell_guid": "1f739da2-1e8e-4c9d-9ec7-b1a78f5f262b",
                "language": "sql"
            },
            "outputs": [],
            "execution_count": null
        },
        {
            "cell_type": "code",
            "source": [
                "SELECT \r\n",
                "    tax_id,\r\n",
                "    state,\r\n",
                "    state_tax_rate,\r\n",
                "    avg_local_tax_rate,\r\n",
                "    combined_rate,\r\n",
                "    max_local_tax_rate,\r\n",
                "    updated_at\r\n",
                "FROM sales.taxes;"
            ],
            "metadata": {
                "azdata_cell_guid": "56a0d900-1e51-45b8-9b40-b936730c1955",
                "language": "sql"
            },
            "outputs": [],
            "execution_count": null
        },
        {
            "cell_type": "markdown",
            "source": [
                "**<mark>UPDATE JOIN</mark>**\n",
                "\n",
                "<span style=\"font-size: 14px;\">Để truy vấn dữ liệu từ các bảng có liên quan, bạn thường sử dụng các mệnh đề nối, hoặc phép nối bên trong hoặc phép nối bên trái. Trong SQL Server, bạn có thể sử dụng các mệnh đề nối này trong câu lệnh CẬP NHẬT để thực hiện cập nhật bảng chéo.</span>\n",
                "\n",
                "> <span style=\"font-size: 14px;\">UPDATE&nbsp;</span> \n",
                "> \n",
                ">  <span style=\"font-size: 14px;\">&nbsp; &nbsp; t1</span>\n",
                "> \n",
                "> <span style=\"font-size: 14px;\">SET&nbsp;</span> \n",
                "> \n",
                ">  <span style=\"font-size: 14px;\">&nbsp; &nbsp; t1.c1 = t2.c2,</span>\n",
                "> \n",
                ">  <span style=\"font-size: 14px;\">&nbsp; &nbsp; t1.c2 = expression,</span>\n",
                "> \n",
                ">  <span style=\"font-size: 14px;\">&nbsp; &nbsp; ...&nbsp; &nbsp;</span> \n",
                "> \n",
                "> <span style=\"font-size: 14px;\">FROM&nbsp;</span> \n",
                "> \n",
                ">  <span style=\"font-size: 14px;\">&nbsp; &nbsp; t1</span>\n",
                "> \n",
                ">  <span style=\"font-size: 14px;\">&nbsp; &nbsp; [INNER | LEFT] JOIN t2 ON join_predicate</span>\n",
                "> \n",
                "> <span style=\"font-size: 14px;\">WHERE&nbsp;</span> \n",
                "> \n",
                ">  <span style=\"font-size: 14px;\">&nbsp; &nbsp; where_predicate</span>\n",
                "\n",
                "<span style=\"font-size: 14px;\">Trong cú pháp này:</span>\n",
                "\n",
                "- Đầu tiên, chỉ định tên của bảng (t1) mà bạn muốn cập nhật trong mệnh đề UPDATE.\n",
                "- <span style=\"font-size: 14px;\">Tiếp theo, chỉ định giá trị mới cho mỗi cột của bảng được cập nhật.</span>\n",
                "- <span style=\"font-size: 14px;\">Sau đó, chỉ định lại bảng mà bạn muốn cập nhật trong mệnh đề FROM.</span>\n",
                "- <span style=\"font-size: 14px;\">Sau đó, sử dụng INNER JOIN hoặc LEFT JOIN để tham gia vào một bảng khác (t2) bằng cách sử dụng một vị từ nối được chỉ định sau từ khóa ON.</span>\n",
                "- <span style=\"font-size: 14px;\">Cuối cùng, thêm một mệnh đề WHERE tùy chọn để chỉ định các hàng sẽ được cập nhật.</span>"
            ],
            "metadata": {
                "azdata_cell_guid": "a37168ec-1208-4fe9-b38b-1e52e97dba13"
            },
            "attachments": {}
        },
        {
            "cell_type": "code",
            "source": [
                "-- Setting up sample tables\r\n",
                "DROP TABLE IF EXISTS sales.targets\r\n",
                "\r\n",
                "CREATE TABLE sales.targets\r\n",
                "(\r\n",
                "    target_id  INT\tPRIMARY KEY, \r\n",
                "    percentage DECIMAL(4, 2) \r\n",
                "        NOT NULL DEFAULT 0\r\n",
                ")\r\n",
                "\r\n",
                "INSERT INTO \r\n",
                "    sales.targets(target_id, percentage)\r\n",
                "VALUES\r\n",
                "    (1,0.2),\r\n",
                "    (2,0.3),\r\n",
                "    (3,0.5),\r\n",
                "    (4,0.6),\r\n",
                "    (5,0.8)"
            ],
            "metadata": {
                "azdata_cell_guid": "f2da0c52-1c76-43c2-95bb-674ddfed4613",
                "language": "sql"
            },
            "outputs": [],
            "execution_count": null
        },
        {
            "cell_type": "code",
            "source": [
                "CREATE TABLE sales.commissions\r\n",
                "(\r\n",
                "    staff_id    INT PRIMARY KEY, \r\n",
                "    target_id   INT, \r\n",
                "    base_amount DECIMAL(10, 2) \r\n",
                "        NOT NULL DEFAULT 0, \r\n",
                "    commission  DECIMAL(10, 2) \r\n",
                "        NOT NULL DEFAULT 0, \r\n",
                "    FOREIGN KEY(target_id) \r\n",
                "        REFERENCES sales.targets(target_id), \r\n",
                "    FOREIGN KEY(staff_id) \r\n",
                "        REFERENCES sales.staffs(staff_id),\r\n",
                ")\r\n",
                "\r\n",
                "INSERT INTO \r\n",
                "    sales.commissions(staff_id, base_amount, target_id)\r\n",
                "VALUES\r\n",
                "    (1,100000,2),\r\n",
                "    (2,120000,1),\r\n",
                "    (3,80000,3),\r\n",
                "    (4,900000,4),\r\n",
                "    (5,950000,5)"
            ],
            "metadata": {
                "azdata_cell_guid": "45205215-2db1-4c06-9b1d-b265a3b4392e",
                "language": "sql"
            },
            "outputs": [],
            "execution_count": null
        },
        {
            "cell_type": "code",
            "source": [
                "-- A) SQL Server UPDATE INNER JOIN example\r\n",
                "UPDATE\r\n",
                "    sales.commissions\r\n",
                "SET\r\n",
                "    sales.commissions.commission = \r\n",
                "        c.base_amount * t.percentage\r\n",
                "FROM \r\n",
                "    sales.commissions c\r\n",
                "    INNER JOIN sales.targets t\r\n",
                "        ON c.target_id = t.target_id"
            ],
            "metadata": {
                "azdata_cell_guid": "011980b6-0ccd-4bac-9669-b162138f1307",
                "language": "sql"
            },
            "outputs": [],
            "execution_count": null
        },
        {
            "cell_type": "code",
            "source": [
                "SELECT \r\n",
                "    *\r\n",
                "FROM \r\n",
                "    sales.commissions"
            ],
            "metadata": {
                "azdata_cell_guid": "21a287b4-e75d-4f70-858c-6aa1915589b5",
                "language": "sql"
            },
            "outputs": [],
            "execution_count": null
        },
        {
            "cell_type": "code",
            "source": [
                "-- B) SQL Server UPDATE LEFT JOIN example\r\n",
                "-- Suppose we have two more new sales staffs that have just joined and they don’t have any target yet:\r\n",
                "INSERT INTO \r\n",
                "    sales.commissions(staff_id, base_amount, target_id)\r\n",
                "VALUES\r\n",
                "    (6,100000,NULL),\r\n",
                "    (7,120000,NULL)"
            ],
            "metadata": {
                "azdata_cell_guid": "ee586bcd-aa6d-499b-b12a-74f2873862d7",
                "language": "sql"
            },
            "outputs": [],
            "execution_count": null
        },
        {
            "cell_type": "code",
            "source": [
                "UPDATE \r\n",
                "    sales.commissions\r\n",
                "SET  \r\n",
                "    sales.commissions.commission = \r\n",
                "        c.base_amount  * COALESCE(t.percentage,0.1)\r\n",
                "FROM  \r\n",
                "    sales.commissions c\r\n",
                "    LEFT JOIN sales.targets t \r\n",
                "        ON c.target_id = t.target_id"
            ],
            "metadata": {
                "azdata_cell_guid": "8e1643a9-5e03-4bef-8bec-8ab77d5315f6",
                "language": "sql"
            },
            "outputs": [],
            "execution_count": null
        },
        {
            "cell_type": "code",
            "source": [
                "SELECT \r\n",
                "  * \r\n",
                "FROM \r\n",
                "    sales.commissions"
            ],
            "metadata": {
                "azdata_cell_guid": "25e5a14b-3c61-4438-ba74-e12791f70f04",
                "language": "sql"
            },
            "outputs": [],
            "execution_count": null
        },
        {
            "cell_type": "markdown",
            "source": [
                "**<mark>DELETE</mark>**\n",
                "\n",
                "Cú pháp:\n",
                "\n",
                "> <span style=\"font-size: 14px;\">DELETE [ TOP ( expression ) [ PERCENT ] ]&nbsp;&nbsp;</span> \n",
                "> \n",
                "> <span style=\"font-size: 14px;\">FROM table_name</span>\n",
                "> \n",
                "> <span style=\"font-size: 14px;\">[WHERE search_condition]</span>"
            ],
            "metadata": {
                "azdata_cell_guid": "7fa47750-75be-4c2b-8ccd-73e2d354b23d"
            },
            "attachments": {}
        },
        {
            "cell_type": "code",
            "source": [
                "-- The following statement creates a table named production.product_history with the data copied from the production.products table:\r\n",
                "SELECT * \r\n",
                "INTO production.product_history\r\n",
                "FROM\r\n",
                "    production.products"
            ],
            "metadata": {
                "azdata_cell_guid": "805b2f20-a598-45c4-9683-844b90271e92",
                "language": "sql"
            },
            "outputs": [],
            "execution_count": null
        },
        {
            "cell_type": "code",
            "source": [
                "SELECT * FROM production.product_history"
            ],
            "metadata": {
                "azdata_cell_guid": "638546a1-a32e-4f74-9b87-cfb856e77a13",
                "language": "sql"
            },
            "outputs": [],
            "execution_count": null
        },
        {
            "cell_type": "code",
            "source": [
                "-- 1) Delete the number of random rows example\r\n",
                "DELETE TOP (21)\r\n",
                "FROM production.product_history"
            ],
            "metadata": {
                "azdata_cell_guid": "0881564a-9202-48f1-9594-83e0848a36c4",
                "language": "sql"
            },
            "outputs": [],
            "execution_count": null
        },
        {
            "cell_type": "code",
            "source": [
                "-- 2) Delete the percent of random rows example\r\n",
                "DELETE TOP (5) PERCENT\r\n",
                "FROM production.product_history"
            ],
            "metadata": {
                "azdata_cell_guid": "f0c0312a-d77c-410f-8aab-7c554df2e246",
                "language": "sql"
            },
            "outputs": [],
            "execution_count": null
        },
        {
            "cell_type": "code",
            "source": [
                "-- 3) Delete some rows with a condition example\r\n",
                "DELETE\r\n",
                "FROM\r\n",
                "    production.product_history\r\n",
                "WHERE\r\n",
                "    model_year = 2017"
            ],
            "metadata": {
                "azdata_cell_guid": "6fcab5be-c9b9-4105-b5fa-79affa8cf75c",
                "language": "sql"
            },
            "outputs": [],
            "execution_count": null
        },
        {
            "cell_type": "code",
            "source": [
                "-- 4) Delete all rows from a table example\r\n",
                "DELETE FROM  production.product_history"
            ],
            "metadata": {
                "azdata_cell_guid": "079213ae-18bd-4f9e-b7c4-ec3f1ad74a44",
                "language": "sql"
            },
            "outputs": [],
            "execution_count": null
        },
        {
            "cell_type": "markdown",
            "source": [
                "**<mark>TRUNCATE TABLE</mark>**"
            ],
            "metadata": {
                "azdata_cell_guid": "9fb1ec16-8ffd-4e71-9593-7b09825cf7b3"
            },
            "attachments": {}
        },
        {
            "cell_type": "code",
            "source": [
                "CREATE TABLE sales.customer_groups (\r\n",
                "    group_id INT PRIMARY KEY IDENTITY,\r\n",
                "    group_name VARCHAR (50) NOT NULL\r\n",
                ");\r\n",
                "\r\n",
                "INSERT INTO sales.customer_groups (group_name)\r\n",
                "VALUES\r\n",
                "    ('Intercompany'),\r\n",
                "    ('Third Party'),\r\n",
                "    ('One time')"
            ],
            "metadata": {
                "azdata_cell_guid": "74f6d79e-e838-4373-ace8-536dc5d6e6a6",
                "language": "sql"
            },
            "outputs": [],
            "execution_count": null
        },
        {
            "cell_type": "code",
            "source": [
                "DELETE FROM sales.customer_groups"
            ],
            "metadata": {
                "azdata_cell_guid": "69dac7fe-2832-4abe-a50f-11edb633a9bb",
                "language": "sql"
            },
            "outputs": [],
            "execution_count": null
        },
        {
            "cell_type": "markdown",
            "source": [
                "Cú pháp:\n",
                "\n",
                "> <span style=\"font-size: 14px;\">TRUNCATE TABLE [database_name.][schema_name.]table_name</span>\n",
                "\n",
                "<span style=\"font-size: 14px;\">Trong cú pháp này, trước tiên, bạn chỉ định tên của bảng mà bạn muốn xóa tất cả các hàng. Thứ hai, tên cơ sở dữ liệu là tên của cơ sở dữ liệu mà bảng được tạo. Tên cơ sở dữ liệu là tùy chọn. Nếu bạn bỏ qua nó, câu lệnh sẽ xóa bảng trong cơ sở dữ liệu hiện được kết nối.</span>"
            ],
            "metadata": {
                "azdata_cell_guid": "00fdce16-13c2-4dfb-bc90-384084d9af3b"
            },
            "attachments": {}
        },
        {
            "cell_type": "code",
            "source": [
                "INSERT INTO sales.customer_groups (group_name)\r\n",
                "VALUES\r\n",
                "    ('Intercompany'),\r\n",
                "    ('Third Party'),\r\n",
                "    ('One time')\r\n",
                "\r\n",
                "TRUNCATE TABLE sales.customer_groups"
            ],
            "metadata": {
                "azdata_cell_guid": "6c7e629f-02ab-4976-9714-a2cbd130fd10",
                "language": "sql"
            },
            "outputs": [],
            "execution_count": null
        },
        {
            "cell_type": "markdown",
            "source": [
                "<span style=\"font-size: 14px;\">TRUNCATE TABLE tương tự như câu lệnh DELETE không có mệnh đề WHERE. Tuy nhiên, câu lệnh TRUNCATE thực thi nhanh hơn và sử dụng ít tài nguyên hệ thống và nhật ký giao dịch hơn.</span>"
            ],
            "metadata": {
                "azdata_cell_guid": "646d3e28-fc60-40ab-99fd-783866828769"
            },
            "attachments": {}
        }
    ]
}