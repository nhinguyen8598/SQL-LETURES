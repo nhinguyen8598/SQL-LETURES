{
    "metadata": {
        "kernelspec": {
            "name": "SQL",
            "display_name": "SQL",
            "language": "sql"
        },
        "language_info": {
            "name": "sql",
            "version": ""
        }
    },
    "nbformat_minor": 2,
    "nbformat": 4,
    "cells": [
        {
            "cell_type": "markdown",
            "source": [
                "Lưu ý khi làm việc với kiểu dữ liệu số học\n",
                "\n",
                "- [SQL Server Data Types - Decimal, Numeric, Bit, Money, Date, Int (mssqltips.com)](https://www.mssqltips.com/sqlservertip/6575/sql-server-data-types/)\n",
                "- [SQL FLOAT: Avoid Weird Math Errors with These Top 3 Points (codingsight.com)](https://codingsight.com/sql-float-3-points-that-will-help-you-to-avoid-weird-math-errors/)\n",
                "- [The Dangers of using Float or Real Datatypes | Redgate (red-gate.com)](https://www.red-gate.com/hub/product-learning/sql-prompt/the-dangers-of-using-float-or-real-datatypes)"
            ],
            "metadata": {
                "azdata_cell_guid": "e5d717fc-e0d5-49c7-b556-eeefe75e7cf2"
            },
            "attachments": {}
        },
        {
            "cell_type": "markdown",
            "source": [
                "Các cách tối ưu hóa câu truy vấn\n",
                "\n",
                "- [8 Ways to Fine-Tune Your SQL Queries (for Production Databases) | Sisense](https://www.sisense.com/blog/8-ways-fine-tune-sql-queries-production-databases/)"
            ],
            "metadata": {
                "azdata_cell_guid": "84a9acde-174d-4027-8a52-dcd9e92a657e"
            },
            "attachments": {}
        },
        {
            "cell_type": "markdown",
            "source": [
                "Data Warehouse\n",
                "\n",
                "- [Data Warehouse Concepts: Kimball vs. Inmon Approach | Astera](https://www.astera.com/type/blog/data-warehouse-concepts/)"
            ],
            "metadata": {
                "azdata_cell_guid": "ba6079bd-4d81-4c1a-aee9-b51df07417df"
            },
            "attachments": {}
        },
        {
            "cell_type": "markdown",
            "source": [
                "View trong SQL\n",
                "\n",
                "- [CREATE VIEW (Transact-SQL) - SQL Server | Microsoft Docs](https://docs.microsoft.com/en-us/sql/t-sql/statements/create-view-transact-sql?view=sql-server-ver15)"
            ],
            "metadata": {
                "azdata_cell_guid": "7fdf6bd9-5930-4fe7-ad25-f1c36ddd26c5"
            },
            "attachments": {}
        },
        {
            "cell_type": "markdown",
            "source": [
                "Index trong SQL\n",
                "\n",
                "- [Clustered and nonclustered indexes described - SQL Server | Microsoft Docs](https://docs.microsoft.com/en-us/sql/relational-databases/indexes/clustered-and-nonclustered-indexes-described?view=sql-server-ver15#:~:text=An%20index%20contains%20keys%20built,generally%20in%20reference%20to%20indexes.)"
            ],
            "metadata": {
                "azdata_cell_guid": "321d700e-eeaf-4ab3-90e9-c0abe927f259"
            },
            "attachments": {}
        },
        {
            "cell_type": "markdown",
            "source": [
                "Tài liệu về SQL và Data Warehouse  \n",
                "\n",
                "- [Database Principles - 9781473768048 - Cengage](https://www.cengage.co.uk/books/9781473768048/)\n",
                "- [The Data Warehouse Toolkit, 3rd Edition - Kimball Group](https://www.kimballgroup.com/data-warehouse-business-intelligence-resources/books/data-warehouse-dw-toolkit/)"
            ],
            "metadata": {
                "azdata_cell_guid": "5769df03-5d23-4dce-91b0-9202e608a578"
            },
            "attachments": {}
        }
    ]
}