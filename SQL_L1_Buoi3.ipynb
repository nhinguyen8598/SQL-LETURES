{
    "metadata": {
        "kernelspec": {
            "name": "SQL",
            "display_name": "SQL",
            "language": "sql"
        },
        "language_info": {
            "name": "sql",
            "version": ""
        }
    },
    "nbformat_minor": 2,
    "nbformat": 4,
    "cells": [
        {
            "cell_type": "markdown",
            "source": [
                "### **<mark>GROUP BY AND HAVING</mark>**"
            ],
            "metadata": {
                "azdata_cell_guid": "83a48a08-f24e-4f1b-8971-f42de7743f7d"
            },
            "attachments": {}
        },
        {
            "cell_type": "markdown",
            "source": [
                "Bởi vì SQL Server xử lý mệnh đề HAVING sau mệnh đề GROUP BY, bạn không thể tham chiếu đến hàm tổng hợp được chỉ định trong danh sách chọn bằng cách sử dụng bí danh cột (alias). Truy vấn sau sẽ không thành công:"
            ],
            "metadata": {
                "azdata_cell_guid": "7e8b6c89-4ad5-47d6-a1fa-efc13c4af8d6"
            },
            "attachments": {}
        },
        {
            "cell_type": "markdown",
            "source": [
                "> <span style=\"color: #0000ff;\">SELECT</span>\n",
                "> \n",
                ">     column\\_name1,\n",
                "> \n",
                ">     column\\_name2,\n",
                "> \n",
                ">     aggregate\\_function (column\\_name3) column\\_alias\n",
                "> \n",
                "> <span style=\"color: #0000ff;\">FROM</span>\n",
                "> \n",
                ">     table\\_name\n",
                "> \n",
                "> <span style=\"color: #0000ff;\">GROUP&nbsp;BY</span>\n",
                "> \n",
                ">     column\\_name1,\n",
                "> \n",
                ">     column\\_name2\n",
                "> \n",
                "> <span style=\"color: #0000ff;\">HAVING</span>\n",
                "> \n",
                ">     column\\_alias <span style=\"color: #000000;\">&gt;</span> <span style=\"color: #0000ff;\">value</span>"
            ],
            "metadata": {
                "azdata_cell_guid": "f8d408cb-a524-4a5f-8a93-7a6e8a72925a"
            },
            "attachments": {}
        },
        {
            "cell_type": "markdown",
            "source": [
                "Lệnh đúng:"
            ],
            "metadata": {
                "azdata_cell_guid": "03cf1d0a-f881-49aa-82d0-4f42a63b52fc"
            },
            "attachments": {}
        },
        {
            "cell_type": "markdown",
            "source": [
                "> <span style=\"color: #0000ff;\">SELECT</span>\n",
                "> \n",
                ">     column\\_name1,\n",
                "> \n",
                ">     column\\_name2,\n",
                "> \n",
                ">     aggregate\\_function (column\\_name3) alias\n",
                "> \n",
                "> <span style=\"color: #0000ff;\">FROM</span>\n",
                "> \n",
                ">     table\\_name\n",
                "> \n",
                "> <span style=\"color: #0000ff;\">GROUP&nbsp;BY</span>\n",
                "> \n",
                ">     column\\_name1,\n",
                "> \n",
                ">     column\\_name2\n",
                "> \n",
                "> <span style=\"color: #0000ff;\">HAVING</span>\n",
                "> \n",
                ">     aggregate\\_function (column\\_name3) <span style=\"color: #000000;\">&gt;</span> <span style=\"color: #0000ff;\">value</span>"
            ],
            "metadata": {
                "azdata_cell_guid": "ac33a686-859d-44b3-809c-6c4f57f87323"
            },
            "attachments": {}
        },
        {
            "cell_type": "markdown",
            "source": [
                "VD1: Câu lệnh sau sử dụng hàm COUNT () để trả về số lượng sản phẩm có giá lớn hơn 500:"
            ],
            "metadata": {
                "azdata_cell_guid": "ac16a68d-146a-430c-a7dd-1932ca90adac"
            },
            "attachments": {}
        },
        {
            "cell_type": "code",
            "source": [
                "SELECT\r\n",
                "    COUNT(*) product_count\r\n",
                "FROM\r\n",
                "    production.products\r\n",
                "WHERE\r\n",
                "    list_price > 500"
            ],
            "metadata": {
                "azdata_cell_guid": "9804f4d4-093f-46ef-bf11-3199ea095c8f",
                "language": "sql"
            },
            "outputs": [],
            "execution_count": null
        },
        {
            "cell_type": "markdown",
            "source": [
                "VD2: Truy vấn sau trả về số lượng khách hàng ở mỗi thành phố"
            ],
            "metadata": {
                "azdata_cell_guid": "5d63b77a-e15a-45ca-b4cb-72593d3d7e11"
            },
            "attachments": {}
        },
        {
            "cell_type": "code",
            "source": [
                "SELECT\r\n",
                "    city,\r\n",
                "    COUNT (customer_id) customer_count\r\n",
                "FROM\r\n",
                "    sales.customers\r\n",
                "GROUP BY\r\n",
                "    city\r\n",
                "ORDER BY\r\n",
                "    city"
            ],
            "metadata": {
                "azdata_cell_guid": "237cf009-ce92-4b01-b10d-7bc041b1026e",
                "language": "sql"
            },
            "outputs": [],
            "execution_count": null
        },
        {
            "cell_type": "markdown",
            "source": [
                "VD3: Câu lệnh sau sử dụng hàm SUM () để tính tổng lượng hàng theo id sản phẩm trong tất cả các kho:"
            ],
            "metadata": {
                "azdata_cell_guid": "24a780a6-a5b3-47ca-b51f-ab8ea3367030"
            },
            "attachments": {}
        },
        {
            "cell_type": "code",
            "source": [
                "SELECT \r\n",
                "    product_id, \r\n",
                "    SUM(quantity) stock_count\r\n",
                "FROM \r\n",
                "    production.stocks\r\n",
                "GROUP BY\r\n",
                "    product_id\r\n",
                "ORDER BY \r\n",
                "    stock_count DESC"
            ],
            "metadata": {
                "azdata_cell_guid": "b5c0ed41-dd42-49e3-8efc-3d12ed844347",
                "language": "sql"
            },
            "outputs": [],
            "execution_count": null
        },
        {
            "cell_type": "markdown",
            "source": [
                "VD4: Câu lệnh sau đây tìm các danh mục sản phẩm có giá niêm yết trung bình từ 500 đến 1.000:"
            ],
            "metadata": {
                "azdata_cell_guid": "81d612a9-34f2-4843-b898-18640dee49b5"
            },
            "attachments": {}
        },
        {
            "cell_type": "code",
            "source": [
                "SELECT\r\n",
                "    category_id,\r\n",
                "    AVG (list_price) avg_list_price\r\n",
                "FROM\r\n",
                "    production.products\r\n",
                "GROUP BY\r\n",
                "    category_id\r\n",
                "HAVING\r\n",
                "    AVG (list_price) BETWEEN 500 AND 1000"
            ],
            "metadata": {
                "azdata_cell_guid": "c82a057c-a9c0-4f82-917f-3c3624b310e1",
                "language": "sql"
            },
            "outputs": [],
            "execution_count": null
        },
        {
            "cell_type": "markdown",
            "source": [
                "VD5: Câu lệnh sau đây tìm các đơn hàng bán hàng có tổng giá trị lớn hơn 10.000:"
            ],
            "metadata": {
                "azdata_cell_guid": "5e2415e3-3bc0-482b-9563-5dd15c20dc60"
            },
            "attachments": {}
        },
        {
            "cell_type": "code",
            "source": [
                "SELECT\r\n",
                "    order_id,\r\n",
                "    SUM(list_price) AS total\r\n",
                "FROM\r\n",
                "    sales.order_items\r\n",
                "GROUP BY\r\n",
                "    order_id\r\n",
                "HAVING\r\n",
                "    SUM (list_price) > 10000\r\n",
                "ORDER BY\r\n",
                "    total"
            ],
            "metadata": {
                "azdata_cell_guid": "1eb419d7-b302-4f2c-a1ab-542db5b228d4",
                "language": "sql"
            },
            "outputs": [],
            "execution_count": null
        },
        {
            "cell_type": "markdown",
            "source": [
                "VD6: Câu lệnh sau đây trước tiên tìm giá niêm yết tối đa và tối thiểu trong mỗi danh mục sản phẩm. Sau đó, nó lọc ra danh mục có giá niêm yết tối đa lớn hơn 4.000 hoặc giá niêm yết tối thiểu nhỏ hơn 500"
            ],
            "metadata": {
                "azdata_cell_guid": "740e12f0-b30a-4f00-af90-dd9d26bd6ca7"
            },
            "attachments": {}
        },
        {
            "cell_type": "code",
            "source": [
                "SELECT\r\n",
                "    category_id,\r\n",
                "    MAX (list_price) max_list_price,\r\n",
                "    MIN (list_price) min_list_price\r\n",
                "FROM\r\n",
                "    production.products\r\n",
                "GROUP BY\r\n",
                "    category_id\r\n",
                "HAVING\r\n",
                "    MAX (list_price) > 4000 OR MIN (list_price) < 500"
            ],
            "metadata": {
                "azdata_cell_guid": "15aacf54-c4b7-4fa4-939c-6d1fbed8e5a3",
                "language": "sql"
            },
            "outputs": [],
            "execution_count": null
        },
        {
            "cell_type": "markdown",
            "source": [
                "### **<mark>JOINS</mark>**"
            ],
            "metadata": {
                "azdata_cell_guid": "2fbb828c-6d2c-4791-81db-e6cd35b9f252"
            },
            "attachments": {}
        },
        {
            "cell_type": "code",
            "source": [
                "CREATE SCHEMA hr\r\n",
                "GO\r\n",
                "\r\n",
                "CREATE SCHEMA pm;\r\n",
                "GO\r\n",
                "\r\n",
                "CREATE TABLE hr.candidates(\r\n",
                "    id INT PRIMARY KEY IDENTITY,\r\n",
                "    fullname VARCHAR(100) NOT NULL\r\n",
                ");\r\n",
                "\r\n",
                "CREATE TABLE hr.employees(\r\n",
                "    id INT PRIMARY KEY IDENTITY,\r\n",
                "    fullname VARCHAR(100) NOT NULL\r\n",
                ");\r\n",
                "\r\n",
                "CREATE TABLE pm.projects(\r\n",
                "    id INT PRIMARY KEY IDENTITY,\r\n",
                "    title VARCHAR(255) NOT NULL\r\n",
                ");\r\n",
                "\r\n",
                "CREATE TABLE pm.members(\r\n",
                "    id INT PRIMARY KEY IDENTITY,\r\n",
                "    name VARCHAR(120) NOT NULL,\r\n",
                "    project_id INT,\r\n",
                "    FOREIGN KEY (project_id) \r\n",
                "        REFERENCES pm.projects(id)\r\n",
                ");\r\n",
                "\r\n",
                "INSERT INTO \r\n",
                "    hr.candidates(fullname)\r\n",
                "VALUES\r\n",
                "    ('John Doe'),\r\n",
                "    ('Lily Bush'),\r\n",
                "    ('Peter Drucker'),\r\n",
                "    ('Jane Doe');\r\n",
                "\r\n",
                "\r\n",
                "INSERT INTO \r\n",
                "    hr.employees(fullname)\r\n",
                "VALUES\r\n",
                "    ('John Doe'),\r\n",
                "    ('Jane Doe'),\r\n",
                "    ('Michael Scott'),\r\n",
                "    ('Jack Sparrow');\r\n",
                "\r\n",
                "\r\n",
                "INSERT INTO \r\n",
                "    pm.projects(title)\r\n",
                "VALUES\r\n",
                "    ('New CRM for Project Sales'),\r\n",
                "    ('ERP Implementation'),\r\n",
                "    ('Develop Mobile Sales Platform');\r\n",
                "\r\n",
                "\r\n",
                "INSERT INTO\r\n",
                "    pm.members(name, project_id)\r\n",
                "VALUES\r\n",
                "    ('John Doe', 1),\r\n",
                "    ('Lily Bush', 1),\r\n",
                "    ('Jane Doe', 2),\r\n",
                "    ('Jack Daniel', null);\r\n",
                ""
            ],
            "metadata": {
                "azdata_cell_guid": "31a74cdd-a88c-4377-9d74-5769e74295da",
                "tags": [
                    "hide_input"
                ],
                "language": "sql"
            },
            "outputs": [],
            "execution_count": null
        },
        {
            "cell_type": "markdown",
            "source": [
                "**1\\. Inner Join:** INNER JOIN tạo ra một tập dữ liệu bao gồm các hàng từ bảng bên trái, khớp với các hàng từ bảng bên phải."
            ],
            "metadata": {
                "azdata_cell_guid": "f066b766-2429-4708-a572-3157902d1e4c"
            },
            "attachments": {}
        },
        {
            "cell_type": "markdown",
            "source": [
                "**Cú pháp:**\n",
                "\n",
                "> <span style=\"color: #0000ff;\">SELECT</span>\n",
                "> \n",
                ">     select\\_list\n",
                "> \n",
                "> <span style=\"color: #0000ff;\">FROM</span>\n",
                "> \n",
                ">     T1\n",
                "> \n",
                "> (INNER) <span style=\"color: #0000ff;\">JOIN</span> T2 <span style=\"color: #0000ff;\">ON</span> join\\_predicate"
            ],
            "metadata": {
                "azdata_cell_guid": "6710bdf7-f039-45d8-93dd-04b11d220521"
            },
            "attachments": {}
        },
        {
            "cell_type": "code",
            "source": [
                "SELECT\r\n",
                "    product_name,\r\n",
                "    category_name,\r\n",
                "    brand_name,\r\n",
                "    list_price\r\n",
                "FROM\r\n",
                "    production.products p\r\n",
                "INNER JOIN production.categories c \r\n",
                "    ON c.category_id = p.category_id\r\n",
                "INNER JOIN production.brands b \r\n",
                "    ON b.brand_id = p.brand_id\r\n",
                "ORDER BY\r\n",
                "    product_name DESC"
            ],
            "metadata": {
                "azdata_cell_guid": "f33d1b95-d5e5-49ce-8a8a-308d874657f0",
                "tags": [],
                "language": "sql"
            },
            "outputs": [],
            "execution_count": null
        },
        {
            "cell_type": "markdown",
            "source": [
                "**2\\. Left Join:** LEFT JOIN trả về tất cả các hàng từ bảng bên trái và các hàng phù hợp từ bảng bên phải. Nếu không tìm thấy hàng phù hợp nào trong bảng bên phải, thì NULL được sử dụng"
            ],
            "metadata": {
                "azdata_cell_guid": "f70666ea-5a0f-4eb8-8976-5a90b31db883"
            },
            "attachments": {}
        },
        {
            "cell_type": "markdown",
            "source": [
                "**Cú pháp:**\n",
                "\n",
                "> <span style=\"color: #0000ff;\">SELECT</span>\n",
                "> \n",
                ">     select\\_list\n",
                "> \n",
                "> <span style=\"color: #0000ff;\">FROM</span>\n",
                "> \n",
                ">     T1\n",
                "> \n",
                "> <span style=\"color: #0000ff;\">LEFT&nbsp;JOIN</span> T2 \n",
                "> \n",
                ">     <span style=\"color: #0000ff;\">ON</span> join\\_predicate"
            ],
            "metadata": {
                "azdata_cell_guid": "e62570f8-243d-4f3c-a89f-2c494702afd1"
            },
            "attachments": {}
        },
        {
            "cell_type": "code",
            "source": [
                "SELECT\r\n",
                "    product_name,\r\n",
                "    order_id\r\n",
                "FROM\r\n",
                "    production.products p\r\n",
                "LEFT JOIN sales.order_items o \r\n",
                "    ON o.product_id = p.product_id\r\n",
                "ORDER BY\r\n",
                "    order_id"
            ],
            "metadata": {
                "azdata_cell_guid": "b4c661a2-28af-47bb-b322-7c64367b55b8",
                "language": "sql"
            },
            "outputs": [],
            "execution_count": null
        },
        {
            "cell_type": "markdown",
            "source": [
                "**3\\. Right Join:** RIGHT JOIN trả về tất cả các hàng từ bảng bên phải và các hàng phù hợp từ bảng bên trái. Nếu không tìm thấy hàng phù hợp nào trong bảng bên phải, thì NULL được sử dụng"
            ],
            "metadata": {
                "azdata_cell_guid": "76b86566-ae81-495f-94b5-6b7cb9f349f8"
            },
            "attachments": {}
        },
        {
            "cell_type": "markdown",
            "source": [
                "**Cú pháp:**\n",
                "\n",
                "> <span style=\"color: #0000ff;\">SELECT</span> \n",
                "> \n",
                ">     select\\_list\n",
                "> \n",
                "> <span style=\"color: #0000ff;\">FROM</span> \n",
                "> \n",
                ">     T1\n",
                "> \n",
                "> <span style=\"color: #0000ff;\">RIGHT&nbsp;JOIN</span> T2 \n",
                "> \n",
                ">     <span style=\"color: #0000ff;\">ON</span> join\\_predicate"
            ],
            "metadata": {
                "azdata_cell_guid": "53120cd2-4f1e-4367-b3ea-85142efd04cc"
            },
            "attachments": {}
        },
        {
            "cell_type": "code",
            "source": [
                "SELECT\r\n",
                "    product_name,\r\n",
                "    order_id\r\n",
                "FROM\r\n",
                "    sales.order_items o\r\n",
                "RIGHT JOIN production.products p \r\n",
                "    ON o.product_id = p.product_id\r\n",
                "ORDER BY\r\n",
                "    order_id"
            ],
            "metadata": {
                "azdata_cell_guid": "3f143f4e-cbbf-42bc-8f61-52bff8aa9c5c",
                "language": "sql"
            },
            "outputs": [],
            "execution_count": null
        },
        {
            "cell_type": "markdown",
            "source": [
                "**4\\. Full Outer Join:** FULL OUTER JOIN trả về tập kết quả bao gồm các hàng từ cả bảng trái và phải. Khi không có hàng phù hợp nào tồn tại cho hàng trong bảng bên trái, các cột của bảng bên phải sẽ chứa NULL. Tương tự như vậy, khi không có hàng phù hợp nào tồn tại cho hàng trong bảng bên phải, cột của bảng bên trái sẽ chứa NULL."
            ],
            "metadata": {
                "azdata_cell_guid": "c9d39895-b642-412c-aebd-ac0d1ddaad20"
            },
            "attachments": {}
        },
        {
            "cell_type": "markdown",
            "source": [
                "**Cú pháp:**\n",
                "\n",
                "> <span style=\"color: #0000ff;\">SELECT</span> \n",
                "> \n",
                ">     select\\_list\n",
                "> \n",
                "> <span style=\"color: #0000ff;\">FROM</span> \n",
                "> \n",
                ">     T1\n",
                "> \n",
                "> FULL (<span style=\"color: #0000ff;\">OUTER</span>) <span style=\"color: #0000ff;\">JOIN</span> T2 \n",
                "> \n",
                ">     <span style=\"color: #0000ff;\">ON</span> join\\_predicate"
            ],
            "metadata": {
                "azdata_cell_guid": "6c0b2446-4c3e-432c-88ba-df87f54163fa"
            },
            "attachments": {}
        },
        {
            "cell_type": "code",
            "source": [
                "SELECT \r\n",
                "    m.name member, \r\n",
                "    p.title project\r\n",
                "FROM \r\n",
                "    pm.members m\r\n",
                "FULL OUTER JOIN pm.projects p \r\n",
                "    ON p.id = m.project_id"
            ],
            "metadata": {
                "azdata_cell_guid": "af449859-ef05-4099-abb3-72487082e174",
                "language": "sql"
            },
            "outputs": [],
            "execution_count": null
        },
        {
            "cell_type": "code",
            "source": [
                "SELECT \r\n",
                "    m.name member, \r\n",
                "    p.title project\r\n",
                "FROM \r\n",
                "    pm.members m\r\n",
                "FULL OUTER JOIN pm.projects p \r\n",
                "    ON p.id = m.project_id\r\n",
                "WHERE\r\n",
                "    m.id IS NULL OR\r\n",
                "    P.id IS NULL"
            ],
            "metadata": {
                "azdata_cell_guid": "d1d2d279-bab0-46b0-9a95-b35c59b1ff1b",
                "language": "sql"
            },
            "outputs": [],
            "execution_count": null
        },
        {
            "cell_type": "markdown",
            "source": [
                "**5\\. Cross Join:** CROSS JOIN đã nối mọi hàng từ bảng đầu tiên với mọi hàng từ bảng thứ hai. Nói cách khác, phép nối chéo trả về tích Descartes của các hàng từ cả hai bảng. Không giống như INNER JOIN hoặc LEFT JOIN, phép nối chéo không thiết lập mối quan hệ giữa các bảng đã tham gia."
            ],
            "metadata": {
                "azdata_cell_guid": "5f6bbc43-06ef-4713-8f71-896ed79d7542"
            },
            "attachments": {}
        },
        {
            "cell_type": "markdown",
            "source": [
                "Cú pháp: \n",
                "\n",
                "> <span style=\"color: #0000ff;\">SELECT</span>\n",
                "> \n",
                ">     select\\_list\n",
                "> \n",
                "> <span style=\"color: #0000ff;\">FROM</span>\n",
                "> \n",
                ">     T1\n",
                "> \n",
                "> <span style=\"color: #0000ff;\">CROSS</span> <span style=\"color: #0000ff;\">JOIN</span> T2;"
            ],
            "metadata": {
                "azdata_cell_guid": "e6bc1b9c-2352-4dc8-8589-3c7f1cb601ce"
            },
            "attachments": {}
        },
        {
            "cell_type": "code",
            "source": [
                "SELECT\r\n",
                "    product_id,\r\n",
                "    product_name,\r\n",
                "    store_id,\r\n",
                "    0 AS quantity\r\n",
                "FROM\r\n",
                "    production.products\r\n",
                "CROSS JOIN sales.stores\r\n",
                "ORDER BY\r\n",
                "    product_name,\r\n",
                "    store_id;"
            ],
            "metadata": {
                "azdata_cell_guid": "c828f16a-cd3f-494c-a31e-8f674e1a8cec",
                "language": "sql"
            },
            "outputs": [],
            "execution_count": null
        },
        {
            "cell_type": "markdown",
            "source": [
                "**6\\. Self Join:** SELF JOIN cho phép bạn tham gia một bảng với chính nó. Nó giúp truy vấn dữ liệu phân cấp (hierarchical data) hoặc so sánh các hàng trong cùng một bảng. SELF JOIN sử dụng mệnh đề INNER JOIN hoặc LEFT JOIN. Bởi vì truy vấn sử dụng liên kết tự tham chiếu đến cùng một bảng, bí danh bảng được sử dụng để gán các tên khác nhau cho cùng một bảng trong truy vấn."
            ],
            "metadata": {
                "azdata_cell_guid": "d0509179-d801-4160-9aa2-ee215338e2c2"
            },
            "attachments": {}
        },
        {
            "cell_type": "markdown",
            "source": [
                "**Cú pháp:** \n",
                "\n",
                "> <span style=\"color: #0000ff;\">SELECT</span>\n",
                "> \n",
                ">     select\\_list\n",
                "> \n",
                "> <span style=\"color: #0000ff;\">FROM</span>\n",
                "> \n",
                ">     T t1\n",
                "> \n",
                "> \\[INNER | LEFT\\]  <span style=\"color: #0000ff;\">JOIN</span> T t2 <span style=\"color: #0000ff;\">ON</span>\n",
                "> \n",
                ">     join\\_predicate;"
            ],
            "metadata": {
                "azdata_cell_guid": "34ac148f-b6b6-48f1-89d3-9a9084443f62"
            },
            "attachments": {}
        },
        {
            "cell_type": "code",
            "source": [
                "SELECT\r\n",
                "    e.first_name + ' ' + e.last_name employee,\r\n",
                "    m.first_name + ' ' + m.last_name manager\r\n",
                "FROM\r\n",
                "    sales.staffs e\r\n",
                "INNER JOIN sales.staffs m ON m.staff_id = e.manager_id\r\n",
                "ORDER BY\r\n",
                "    manager;"
            ],
            "metadata": {
                "azdata_cell_guid": "78c4d110-4f49-43ad-8fbd-da7a9aa0b3d3",
                "tags": [],
                "language": "sql"
            },
            "outputs": [],
            "execution_count": null
        },
        {
            "cell_type": "code",
            "source": [
                "-- Câu lệnh sau đây sử dụng phép nối tự để tìm khách hàng ở trong cùng một thành phố.\r\n",
                "SELECT\r\n",
                "    c1.city,\r\n",
                "    c1.first_name + ' ' + c1.last_name customer_1,\r\n",
                "    c2.first_name + ' ' + c2.last_name customer_2\r\n",
                "FROM\r\n",
                "    sales.customers c1\r\n",
                "INNER JOIN sales.customers c2 ON c1.customer_id > c2.customer_id\r\n",
                "AND c1.city = c2.city\r\n",
                "ORDER BY\r\n",
                "    city,\r\n",
                "    customer_1,\r\n",
                "    customer_2;"
            ],
            "metadata": {
                "azdata_cell_guid": "e34aed4d-3cbc-4ad3-a086-7d09bf7042fa",
                "language": "sql"
            },
            "outputs": [],
            "execution_count": null
        },
        {
            "cell_type": "code",
            "source": [
                "SELECT\r\n",
                "    c1.city,\r\n",
                "    c1.first_name + ' ' + c1.last_name customer_1,\r\n",
                "    c2.first_name + ' ' + c2.last_name customer_2\r\n",
                "FROM\r\n",
                "    sales.customers c1\r\n",
                "INNER JOIN sales.customers c2 ON c1.customer_id != c2.customer_id\r\n",
                "AND c1.city = c2.city\r\n",
                "ORDER BY\r\n",
                "    city,\r\n",
                "    customer_1,\r\n",
                "    customer_2;"
            ],
            "metadata": {
                "azdata_cell_guid": "00035bf3-acda-4696-9476-693f2f8dcf02",
                "tags": [],
                "language": "sql"
            },
            "outputs": [],
            "execution_count": null
        },
        {
            "cell_type": "markdown",
            "source": [
                "### **Conditions in <span style=\"color: #0000ff;\">ON</span> vs. <span style=\"color: #0000ff;\">WHERE</span> clause**"
            ],
            "metadata": {
                "azdata_cell_guid": "a54d54ca-2ada-40b7-af78-0c1fa408c721"
            },
            "attachments": {}
        },
        {
            "cell_type": "code",
            "source": [
                "SELECT\r\n",
                "    product_name,\r\n",
                "    order_id\r\n",
                "FROM\r\n",
                "    production.products p\r\n",
                "LEFT JOIN sales.order_items o \r\n",
                "   ON o.product_id = p.product_id\r\n",
                "WHERE order_id = 100\r\n",
                "ORDER BY\r\n",
                "    order_id;"
            ],
            "metadata": {
                "azdata_cell_guid": "1e4d1efa-7889-49bc-aec1-029972598b35",
                "language": "sql"
            },
            "outputs": [],
            "execution_count": null
        },
        {
            "cell_type": "code",
            "source": [
                "SELECT\r\n",
                "    p.product_id,\r\n",
                "    product_name,\r\n",
                "    order_id\r\n",
                "FROM\r\n",
                "    production.products p\r\n",
                "LEFT JOIN sales.order_items o \r\n",
                "        ON o.product_id = p.product_id AND \r\n",
                "        o.order_id = 100\r\n",
                "ORDER BY\r\n",
                "    order_id DESC;"
            ],
            "metadata": {
                "azdata_cell_guid": "eb7a3f71-44c9-4d60-b735-7f964c6be8ea",
                "language": "sql"
            },
            "outputs": [],
            "execution_count": null
        },
        {
            "cell_type": "markdown",
            "source": [
                "### **Thứ tự thực thi lệnh trên SQL Server (Order of Execution)**"
            ],
            "metadata": {
                "azdata_cell_guid": "a565b380-5207-48d4-a646-0b50fef1d34f"
            },
            "attachments": {}
        },
        {
            "cell_type": "markdown",
            "source": [
                "> <span style=\"color: #0000ff;\">SELECT&nbsp;DISTINCT</span> | <span style=\"color: #0000ff;\">TOP</span> column, AGG\\_FUNC(column\\_or\\_expression), …\n",
                "> \n",
                "> <span style=\"color: #0000ff;\">FROM</span> mytable\n",
                "> \n",
                "> <span style=\"color: #0000ff;\">JOIN</span> another\\_table\n",
                "> \n",
                ">     <span style=\"color: #0000ff;\">ON</span> mytable.column <span style=\"color: #000000;\">=</span> another\\_table.column\n",
                "> \n",
                "> <span style=\"color: #0000ff;\">WHERE</span> constraint\\_expression\n",
                "> \n",
                "> <span style=\"color: #0000ff;\">GROUP&nbsp;BY</span> column\n",
                "> \n",
                "> <span style=\"color: #0000ff;\">HAVING</span> constraint\\_expression\n",
                "> \n",
                "> <span style=\"color: #0000ff;\">ORDER&nbsp;BY</span> column <span style=\"color: #0000ff;\">ASC</span><span style=\"color: #000000;\">/</span><span style=\"color: #0000ff;\">DESC</span>"
            ],
            "metadata": {
                "azdata_cell_guid": "bc8268f6-e542-4bca-a7f3-a9177c4dfee2"
            },
            "attachments": {}
        },
        {
            "cell_type": "markdown",
            "source": [
                "1\\. FROM và JOIN(s)\n",
                "\n",
                "2\\. WHERE\n",
                "\n",
                "3\\. GROUP BY\n",
                "\n",
                "4\\. HAVING\n",
                "\n",
                "5\\. SELECT\n",
                "\n",
                "6\\. DISTINCT\n",
                "\n",
                "7\\. ORDER BY\n",
                "\n",
                "8\\. TOP"
            ],
            "metadata": {
                "azdata_cell_guid": "625ab514-e3f8-4f0a-a151-2a8d739ac18a"
            },
            "attachments": {}
        },
        {
            "cell_type": "code",
            "source": [
                "SELECT\r\n",
                "    column_name1,\r\n",
                "    column_name2,\r\n",
                "    aggregate_function (column_name3) column_alias\r\n",
                "FROM\r\n",
                "    table_name\r\n",
                "GROUP BY\r\n",
                "    column_name1,\r\n",
                "    column_name2\r\n",
                "HAVING\r\n",
                "    column_alias > value;"
            ],
            "metadata": {
                "azdata_cell_guid": "b4e4590f-79ed-4882-b6ff-b09e2f0200cf",
                "language": "sql"
            },
            "outputs": [],
            "execution_count": null
        },
        {
            "cell_type": "code",
            "source": [
                "SELECT\r\n",
                "    order_id,\r\n",
                "    SUM(list_price) AS total\r\n",
                "FROM\r\n",
                "    sales.order_items\r\n",
                "GROUP BY\r\n",
                "    order_id\r\n",
                "HAVING\r\n",
                "    total > 10000\r\n",
                "ORDER BY\r\n",
                "    total"
            ],
            "metadata": {
                "azdata_cell_guid": "e0b93ff4-a275-421c-9fa0-1f71ee60f70b",
                "language": "sql"
            },
            "outputs": [],
            "execution_count": null
        },
        {
            "cell_type": "code",
            "source": [
                "SELECT\r\n",
                "    column_name1,\r\n",
                "    column_name2,\r\n",
                "    aggregate_function (column_name3) alias\r\n",
                "FROM\r\n",
                "    table_name\r\n",
                "GROUP BY\r\n",
                "    column_name1,\r\n",
                "    column_name2\r\n",
                "HAVING\r\n",
                "    aggregate_function (column_name3) > value"
            ],
            "metadata": {
                "azdata_cell_guid": "6c3edbde-6848-416b-81aa-8ea3f70860ae",
                "language": "sql"
            },
            "outputs": [],
            "execution_count": null
        },
        {
            "cell_type": "code",
            "source": [
                "SELECT\r\n",
                "    order_id,\r\n",
                "    SUM(list_price) AS total\r\n",
                "FROM\r\n",
                "    sales.order_items\r\n",
                "GROUP BY\r\n",
                "    order_id\r\n",
                "HAVING\r\n",
                "    SUM(list_price) > 10000\r\n",
                "ORDER BY\r\n",
                "    total"
            ],
            "metadata": {
                "azdata_cell_guid": "8484178e-1abd-4a0e-904e-ffe33cb36c2e",
                "language": "sql"
            },
            "outputs": [],
            "execution_count": null
        }
    ]
}